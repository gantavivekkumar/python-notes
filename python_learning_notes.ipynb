{
  "nbformat": 4,
  "nbformat_minor": 0,
  "metadata": {
    "colab": {
      "provenance": []
    },
    "kernelspec": {
      "name": "python3",
      "display_name": "Python 3"
    },
    "language_info": {
      "name": "python"
    }
  },
  "cells": [
    {
      "cell_type": "markdown",
      "source": [
        "#what is python"
      ],
      "metadata": {
        "id": "rxMsB6ZIHKha"
      }
    },
    {
      "cell_type": "code",
      "source": [
        "#-->single line commenting\n",
        "#1. What is Python?\n",
        "'''A. High-level Programming Language\n",
        "B. General purpose\n",
        "c. Object oriented programmin language\n",
        "Python is case sensitive\n",
        "d. dynamically typed'''"
      ],
      "metadata": {
        "id": "TTtR179ugIZS"
      },
      "execution_count": null,
      "outputs": []
    },
    {
      "cell_type": "code",
      "source": [
        "#why we require commenting?\n",
        "#to understand the code better purpose"
      ],
      "metadata": {
        "id": "ThJrhmJagFXg"
      },
      "execution_count": null,
      "outputs": []
    },
    {
      "cell_type": "code",
      "source": [
        "#1st programming in python\n",
        "#print \"hello world!\" in python?\n",
        "# i am using print() to display my output\n",
        "print(\"Hello world!\")"
      ],
      "metadata": {
        "colab": {
          "base_uri": "https://localhost:8080/"
        },
        "id": "pK0w1MYWhDEK",
        "outputId": "0eb3b495-735b-4c9c-c740-d46472512aac"
      },
      "execution_count": null,
      "outputs": [
        {
          "output_type": "stream",
          "name": "stdout",
          "text": [
            "Hello world!\n"
          ]
        }
      ]
    },
    {
      "cell_type": "code",
      "source": [
        "#Numerical data types in Python\n",
        "#there 3 types numerical data types\n",
        "#1.integer:\n",
        "\"\"\" A whole number without any decimal points either -ve or +ve\"\"\"\n",
        "print(5)\n",
        "#test weather it is a integer or not\n",
        "#to test the data type we are using \"type()\"\n",
        "print(type(5))\n",
        "#2.float:\n",
        "#3.complex number:"
      ],
      "metadata": {
        "colab": {
          "base_uri": "https://localhost:8080/"
        },
        "id": "FeUvOv2sijD-",
        "outputId": "c8e3d562-d453-4750-989a-98c227bc648e"
      },
      "execution_count": null,
      "outputs": [
        {
          "output_type": "stream",
          "name": "stdout",
          "text": [
            "5\n",
            "<class 'int'>\n"
          ]
        }
      ]
    },
    {
      "cell_type": "code",
      "source": [
        "#2.float: A number having decimal pont either +ve or -ve\n",
        "print(2.5346)\n",
        "print(type(2.5346))\n",
        "print(2.0)\n",
        "print(type(2.0))"
      ],
      "metadata": {
        "colab": {
          "base_uri": "https://localhost:8080/"
        },
        "id": "O9ulWh_hkLU3",
        "outputId": "3ca76a0f-359a-44ea-ebcd-ebc74770b52d"
      },
      "execution_count": null,
      "outputs": [
        {
          "output_type": "stream",
          "name": "stdout",
          "text": [
            "2.5346\n",
            "<class 'float'>\n",
            "2.0\n",
            "<class 'float'>\n"
          ]
        }
      ]
    },
    {
      "cell_type": "code",
      "source": [
        "#complex number:- A real number with its imaginary part.\n",
        "print(3+2j)\n",
        "print(4+6j)\n",
        "print(type(4+6j))\n",
        "#what is the real part and what is the imaginary part?\n",
        "# 4---> is the real part & 6j is imaginary part"
      ],
      "metadata": {
        "colab": {
          "base_uri": "https://localhost:8080/"
        },
        "id": "KPIqeBdfkqZb",
        "outputId": "5c8ebb7f-ba15-436c-c14f-8aee812d43fd"
      },
      "execution_count": null,
      "outputs": [
        {
          "output_type": "stream",
          "name": "stdout",
          "text": [
            "(3+2j)\n",
            "(4+6j)\n",
            "<class 'complex'>\n"
          ]
        }
      ]
    },
    {
      "cell_type": "markdown",
      "source": [
        "#Types of errors"
      ],
      "metadata": {
        "id": "wt5rXZqYHyoh"
      }
    },
    {
      "cell_type": "code",
      "source": [
        "#2 types of erros are\n",
        "#syntax error\n",
        "#Logical error"
      ],
      "metadata": {
        "id": "1PEetEhEmLjg"
      },
      "execution_count": null,
      "outputs": []
    },
    {
      "cell_type": "code",
      "source": [
        "#what is syntex error?\n",
        "# if you break rules of programming language then you will rise syntax error\n",
        "\"\"\" hi i am,\n",
        "   i am learning basics of python\n",
        "   i am commenting it with multiple line comments'''"
      ],
      "metadata": {
        "id": "XSS0aN6Hm-13"
      },
      "execution_count": null,
      "outputs": []
    },
    {
      "cell_type": "code",
      "source": [
        "#Logical error\n",
        "#None other than syntax error all erros will be logical errors\n",
        "#ex:- index error, name error, recurssive error..etc"
      ],
      "metadata": {
        "id": "Zl_E60iPn4Bb"
      },
      "execution_count": null,
      "outputs": []
    },
    {
      "cell_type": "markdown",
      "source": [
        "#Arithamatic operations"
      ],
      "metadata": {
        "id": "7gz3zVW3IJWV"
      }
    },
    {
      "cell_type": "code",
      "source": [
        "#we are having 7 arthamatic operators\n",
        "#1.Addition-->  \"+\"\n",
        "print(10 + 5)\n",
        "print(type(10.5 + 5))\n",
        "\n",
        "#2.Substarction ---> \"-\"\n",
        "print(10 - 5)\n",
        "print(type(10 - 5))\n",
        "#3.Multiplication ----> *\n",
        "print(10 * 5)\n",
        "print(type(10 * 5))\n",
        "#4.Division\n",
        "print(10 / 5)\n",
        "print(type(10 / 5))\n",
        "#5.Exponenitial\n",
        "#6.Floor Division\n",
        "#7. Modulus"
      ],
      "metadata": {
        "colab": {
          "base_uri": "https://localhost:8080/"
        },
        "id": "B2B7yd3noxiC",
        "outputId": "c116afb9-3c02-46f3-c4d8-fb7894d46892"
      },
      "execution_count": null,
      "outputs": [
        {
          "output_type": "stream",
          "name": "stdout",
          "text": [
            "15\n",
            "<class 'float'>\n",
            "5\n",
            "<class 'int'>\n",
            "50\n",
            "<class 'int'>\n",
            "2.0\n",
            "<class 'float'>\n"
          ]
        }
      ]
    },
    {
      "cell_type": "code",
      "source": [
        "#5.Exponenitial---> ** -->to the power of\n",
        "print(5 ** 10)\n",
        "print(type(5 ** 10))\n",
        "\n",
        "#6.Floor Division ---> // -->ignores all the values after decimal point\n",
        "print(10 // 3)\n",
        "print(type(10 // 3))\n",
        "\n",
        "#7. Modulus ---> %\n",
        "print(10 % 5)\n",
        "print(type(10 % 5))\n",
        "\n",
        "\n"
      ],
      "metadata": {
        "colab": {
          "base_uri": "https://localhost:8080/"
        },
        "id": "drhsUSCPj7KV",
        "outputId": "d065f938-9a45-45fa-b65a-915a9f73abc9"
      },
      "execution_count": null,
      "outputs": [
        {
          "output_type": "stream",
          "name": "stdout",
          "text": [
            "9765625\n",
            "<class 'int'>\n",
            "3\n",
            "<class 'int'>\n",
            "0\n",
            "<class 'int'>\n"
          ]
        }
      ]
    },
    {
      "cell_type": "markdown",
      "source": [
        "#Round"
      ],
      "metadata": {
        "id": "J3kYL_u7Il3i"
      }
    },
    {
      "cell_type": "code",
      "source": [
        "print(2.952)\n",
        "print(round(2.952))"
      ],
      "metadata": {
        "colab": {
          "base_uri": "https://localhost:8080/"
        },
        "id": "zV1lch6jmDJC",
        "outputId": "ed3d9a45-5439-42c0-9663-af40b0a20278"
      },
      "execution_count": null,
      "outputs": [
        {
          "output_type": "stream",
          "name": "stdout",
          "text": [
            "2.952\n",
            "3\n"
          ]
        }
      ]
    },
    {
      "cell_type": "code",
      "source": [
        "print(2.3456)\n",
        "print(round(2.3456))"
      ],
      "metadata": {
        "colab": {
          "base_uri": "https://localhost:8080/"
        },
        "id": "mU_4wHS5mRcB",
        "outputId": "20ceeafd-e42d-47ef-af4c-e6eeb97bf795"
      },
      "execution_count": null,
      "outputs": [
        {
          "output_type": "stream",
          "name": "stdout",
          "text": [
            "2.3456\n",
            "2\n"
          ]
        }
      ]
    },
    {
      "cell_type": "code",
      "source": [
        "#what is ceiling value and floor value?\n"
      ],
      "metadata": {
        "id": "rwA9hTCDmgg0"
      },
      "execution_count": null,
      "outputs": []
    },
    {
      "cell_type": "code",
      "source": [
        "#print(2.3456) print first 2 decimals?\n",
        "print(round(2.3456,2))"
      ],
      "metadata": {
        "colab": {
          "base_uri": "https://localhost:8080/"
        },
        "id": "xk3hvTOXmoSd",
        "outputId": "7b73ad63-5967-47b6-90e1-037fd73bd332"
      },
      "execution_count": null,
      "outputs": [
        {
          "output_type": "stream",
          "name": "stdout",
          "text": [
            "2.35\n"
          ]
        }
      ]
    },
    {
      "cell_type": "code",
      "source": [
        "\n",
        "\n",
        "print(type(10.5 + 5))\n",
        "print(10 - 5)\n",
        "print(type(10 - 5))\n",
        "print(10 * 5)\n",
        "print(type(10 * 5))\n",
        "print(10 / 5)\n",
        "print(type(10 / 5))"
      ],
      "metadata": {
        "id": "QbULOg0qm-Qf"
      },
      "execution_count": null,
      "outputs": []
    },
    {
      "cell_type": "markdown",
      "source": [
        "#Variables"
      ],
      "metadata": {
        "id": "o1k3Lo9eJCaI"
      }
    },
    {
      "cell_type": "code",
      "source": [
        "#its a container where we can store oura valuable informtion and we can reuse it\n",
        "#How to create an variable?\n",
        "#How to Access an variable?\n",
        "\"\"\" let the dad age can be x  and son age is,\n",
        "    half of the das's age x/2 \"\"\""
      ],
      "metadata": {
        "id": "cOGnspi1nNZV"
      },
      "execution_count": null,
      "outputs": []
    },
    {
      "cell_type": "code",
      "source": [
        "x = 40\n",
        "son_age = x/2\n",
        "print(son_age)"
      ],
      "metadata": {
        "colab": {
          "base_uri": "https://localhost:8080/"
        },
        "id": "fhewD5s-oZC4",
        "outputId": "201534f0-3e60-46ce-f5c7-9dfbf1874e16"
      },
      "execution_count": null,
      "outputs": [
        {
          "output_type": "stream",
          "name": "stdout",
          "text": [
            "20.0\n"
          ]
        }
      ]
    },
    {
      "cell_type": "code",
      "source": [
        "x = 10\n",
        "y = 5\n",
        "print(x + y)\n",
        "print(x - y)"
      ],
      "metadata": {
        "colab": {
          "base_uri": "https://localhost:8080/"
        },
        "id": "JDtzrG-posZe",
        "outputId": "a16f5d29-13ee-434b-adff-22ab68cc3698"
      },
      "execution_count": null,
      "outputs": [
        {
          "output_type": "stream",
          "name": "stdout",
          "text": [
            "15\n",
            "5\n"
          ]
        }
      ]
    },
    {
      "cell_type": "code",
      "source": [
        "#what are all the important rules to be followed to write an varibles?\n",
        "'''1. varibles can start with alphabets,\n",
        "  2. varibles cannot start with numbers,\n",
        "  3. if you follow 1 and 2 u can start with letters in between you can use numbers\n",
        "  4.speacial characters cannot except\n",
        "  5.you cannot give spaces in between varaibles\n",
        "  6. keywords cannot be used\n",
        "  7. varibles are case sensitive '''"
      ],
      "metadata": {
        "id": "KV6bS70no2H0"
      },
      "execution_count": null,
      "outputs": []
    },
    {
      "cell_type": "code",
      "source": [
        "#What is dynamically typed?-->no need to decalre data type for varibles\n",
        "#what is statistically typed?---> we need to decalre data type for varibles"
      ],
      "metadata": {
        "id": "Td4zgF4oqwSR"
      },
      "execution_count": null,
      "outputs": []
    },
    {
      "cell_type": "code",
      "source": [
        "#Smart ways of writing a varible?\n",
        "#Assign multiple values to the multiple variables?\n",
        "a,b,c = 1,2,3\n",
        "print(a,b,c)\n",
        "#print the values in separate line?\n",
        "# print(a,\"\\n\",b,\"\\n\",c,\"\\n\")\n",
        "# print(a)\n",
        "# print(b)\n",
        "# print(c)\n",
        "#use \"sep\" to print output in separate line\n",
        "print(a,b,c,sep=\"\\n\")\n"
      ],
      "metadata": {
        "id": "AaIjOioJr3Uw",
        "colab": {
          "base_uri": "https://localhost:8080/"
        },
        "outputId": "2410635c-17a4-4eb3-ac36-ea63ea6707d0"
      },
      "execution_count": 1,
      "outputs": [
        {
          "output_type": "stream",
          "name": "stdout",
          "text": [
            "1 2 3\n",
            "1\n",
            "2\n",
            "3\n"
          ]
        }
      ]
    },
    {
      "cell_type": "code",
      "source": [
        "#how can you assign one value to many varibles?\n",
        "# x = 10\n",
        "# y = 10\n",
        "# z = 10\n",
        "# print(x,y,z)\n",
        "x=y=z=10\n",
        "print(x,y,z,sep=\"\\n\")"
      ],
      "metadata": {
        "colab": {
          "base_uri": "https://localhost:8080/"
        },
        "id": "FxYKNqQ3sI1j",
        "outputId": "4314bf11-0315-4406-eb00-6e8c0d945bb8"
      },
      "execution_count": 2,
      "outputs": [
        {
          "output_type": "stream",
          "name": "stdout",
          "text": [
            "10\n",
            "10\n",
            "10\n"
          ]
        }
      ]
    },
    {
      "cell_type": "markdown",
      "source": [
        "#Input"
      ],
      "metadata": {
        "id": "eLdO_75nJ56X"
      }
    },
    {
      "cell_type": "code",
      "source": [
        "#what is an input function?\n",
        "#How to take an input()?\n",
        "a = input()\n",
        "print(a)\n",
        "#what is the default data type for input function?\n",
        "print(type(a))"
      ],
      "metadata": {
        "colab": {
          "base_uri": "https://localhost:8080/"
        },
        "id": "k19BnQ_kuFN2",
        "outputId": "008d8707-2a33-4151-cfa8-cde0066e0b3f"
      },
      "execution_count": null,
      "outputs": [
        {
          "output_type": "stream",
          "name": "stdout",
          "text": [
            "hi\n",
            "hi\n",
            "<class 'str'>\n"
          ]
        }
      ]
    },
    {
      "cell_type": "code",
      "source": [
        "b = input(\"enter the number: \")\n",
        "print(b)"
      ],
      "metadata": {
        "colab": {
          "base_uri": "https://localhost:8080/"
        },
        "id": "XTD2ZsByvmGM",
        "outputId": "17e9ff31-44c9-42bb-9600-56f6bfb598f7"
      },
      "execution_count": null,
      "outputs": [
        {
          "output_type": "stream",
          "name": "stdout",
          "text": [
            "enter the number: 9\n",
            "9\n"
          ]
        }
      ]
    },
    {
      "cell_type": "code",
      "source": [
        "#write a program to identify the given number is odd or even?\n",
        "a = 5\n",
        "print(a % 2)"
      ],
      "metadata": {
        "colab": {
          "base_uri": "https://localhost:8080/"
        },
        "id": "4SRtHoe9wXLc",
        "outputId": "eae5b14d-52be-4f3e-cf11-d6f917c778ea"
      },
      "execution_count": null,
      "outputs": [
        {
          "output_type": "stream",
          "name": "stdout",
          "text": [
            "1\n"
          ]
        }
      ]
    },
    {
      "cell_type": "markdown",
      "source": [
        "#Strings"
      ],
      "metadata": {
        "id": "wbLamzMlKKvU"
      }
    },
    {
      "cell_type": "code",
      "source": [
        "#what is a string?\n",
        "#string can be decalred in----(\" \") or (' ')\n",
        "#multiple lines of string--->(''' ''')or (\"\"\" \"\"\")\n",
        "#Collection of multiple characters where each charcter can be accessible"
      ],
      "metadata": {
        "id": "K6eGki1LxJHq"
      },
      "execution_count": null,
      "outputs": []
    },
    {
      "cell_type": "code",
      "source": [
        "#print a mail that your accepting the offer letter from xyz company?\n",
        "print(\"\"\" Respected sir/madam,\n",
        "Hope your doing well, I am accepting the position offered by yoy,\n",
        "Their small request from my side ----\n",
        "Thank you,\n",
        "Regards\n",
        "Name\"\"\")"
      ],
      "metadata": {
        "colab": {
          "base_uri": "https://localhost:8080/"
        },
        "id": "88mZkUdrx3U5",
        "outputId": "fa2f5c37-04e7-4014-82b9-89294c66617c"
      },
      "execution_count": null,
      "outputs": [
        {
          "output_type": "stream",
          "name": "stdout",
          "text": [
            " Respected sir/madam,\n",
            "Hope your doing well, I am accepting the position offered by yoy,\n",
            "Their small request from my side ----\n",
            "Thank you,\n",
            "Regards\n",
            "Name,\n",
            "9629912991\n"
          ]
        }
      ]
    },
    {
      "cell_type": "code",
      "source": [
        "#How can i access each and every character in string?\n",
        "#slicing operations--->[]\n",
        "#indexing number\n",
        "\n",
        "a = \"Hello world!\"\n",
        "#print the 9th character from a?\n",
        "print(a[9])"
      ],
      "metadata": {
        "colab": {
          "base_uri": "https://localhost:8080/"
        },
        "id": "nDE5ugwqyx83",
        "outputId": "547b1eef-e082-4849-c719-09a40954ed3f"
      },
      "execution_count": null,
      "outputs": [
        {
          "output_type": "stream",
          "name": "stdout",
          "text": [
            "l\n"
          ]
        }
      ]
    },
    {
      "cell_type": "code",
      "source": [
        "#print the range of characters from [1o wo]?\n",
        "#[start:end]\n",
        "print(a[3:8])   #end-----> n+1"
      ],
      "metadata": {
        "colab": {
          "base_uri": "https://localhost:8080/"
        },
        "id": "Tu24gqUhzvlY",
        "outputId": "590d1976-38bf-4048-8584-82175b67d5fc"
      },
      "execution_count": null,
      "outputs": [
        {
          "output_type": "stream",
          "name": "stdout",
          "text": [
            "lo wo\n"
          ]
        }
      ]
    },
    {
      "cell_type": "code",
      "source": [
        "#print \"Hello\" from the hello world?\n",
        "a = \"Hello world!\"\n",
        "print(a[0:5])"
      ],
      "metadata": {
        "colab": {
          "base_uri": "https://localhost:8080/"
        },
        "id": "DtxPCZPWxxqP",
        "outputId": "92cd1ef6-52a2-4dd8-829e-5161c4dd6189"
      },
      "execution_count": null,
      "outputs": [
        {
          "output_type": "stream",
          "name": "stdout",
          "text": [
            "Hello\n"
          ]
        }
      ]
    },
    {
      "cell_type": "code",
      "source": [
        "#print the characters from the begining till the 9th charcter?\n",
        "#print(a[0:10])\n",
        "print(a[:10])"
      ],
      "metadata": {
        "colab": {
          "base_uri": "https://localhost:8080/"
        },
        "id": "XKP4rpkOylkC",
        "outputId": "2f79283f-a90c-4e95-f596-849bfc6862a9"
      },
      "execution_count": null,
      "outputs": [
        {
          "output_type": "stream",
          "name": "stdout",
          "text": [
            "Hello worl\n"
          ]
        }
      ]
    },
    {
      "cell_type": "code",
      "source": [
        "#print the characters from the 6th position to the end position?\n",
        "print(a[6:])"
      ],
      "metadata": {
        "colab": {
          "base_uri": "https://localhost:8080/"
        },
        "id": "f6qu3yBQy9WC",
        "outputId": "e1bd9d68-3641-4b87-e792-ccbd46f9b108"
      },
      "execution_count": null,
      "outputs": [
        {
          "output_type": "stream",
          "name": "stdout",
          "text": [
            "world!\n"
          ]
        }
      ]
    },
    {
      "cell_type": "code",
      "source": [
        "#How to find out the no of characters in a string or length of a string?\n",
        "print(len(a))\n",
        "'''Note:- Lenth can be starts from 1,\n",
        "and indexing can be starts from zero'''"
      ],
      "metadata": {
        "colab": {
          "base_uri": "https://localhost:8080/"
        },
        "id": "6PMUMZjgzKdD",
        "outputId": "bb670c60-7f38-4e65-8a66-9fba372a675c"
      },
      "execution_count": null,
      "outputs": [
        {
          "output_type": "stream",
          "name": "stdout",
          "text": [
            "12\n"
          ]
        }
      ]
    },
    {
      "cell_type": "code",
      "source": [
        "#print the entire string?\n",
        "print(a)\n",
        "print(a[:])"
      ],
      "metadata": {
        "colab": {
          "base_uri": "https://localhost:8080/"
        },
        "id": "i8bRR-P2zi6D",
        "outputId": "f8dfc4e0-de0a-4c7d-e231-aa51ef27b283"
      },
      "execution_count": null,
      "outputs": [
        {
          "output_type": "stream",
          "name": "stdout",
          "text": [
            "Hello world!\n",
            "Hello world!\n"
          ]
        }
      ]
    },
    {
      "cell_type": "code",
      "source": [
        "#[start:end]--> range of elements\n",
        "#if i give three values [start:end:step]\n",
        "#print elements of even index position\n",
        "print(a[0:12:2])\n",
        "print(a[::2])\n",
        "#print 3 steps ahead?\n",
        "print(a[::3])"
      ],
      "metadata": {
        "colab": {
          "base_uri": "https://localhost:8080/"
        },
        "id": "zU-gbb38zvb3",
        "outputId": "954d10cf-c7c5-4a20-e0a9-11961bb0484b"
      },
      "execution_count": null,
      "outputs": [
        {
          "output_type": "stream",
          "name": "stdout",
          "text": [
            "Hlowrd\n",
            "Hlowrd\n",
            "Hlwl\n"
          ]
        }
      ]
    },
    {
      "cell_type": "code",
      "source": [
        "#Negative indexing:it starts with '-1' and reads the string in reverse direction\n",
        "#print the \"hello word\" in reverse direction?\n",
        "print(a[::-1])\n"
      ],
      "metadata": {
        "colab": {
          "base_uri": "https://localhost:8080/"
        },
        "id": "GhmfYlXo1QDS",
        "outputId": "3591c9c4-aa6a-40dc-fbb6-ebb12c15b387"
      },
      "execution_count": null,
      "outputs": [
        {
          "output_type": "stream",
          "name": "stdout",
          "text": [
            "!dlrow olleH\n"
          ]
        }
      ]
    },
    {
      "cell_type": "code",
      "source": [
        "a = \"Hello world!\"\n",
        "print(a[-5])"
      ],
      "metadata": {
        "colab": {
          "base_uri": "https://localhost:8080/"
        },
        "id": "tVITauwz3FFU",
        "outputId": "a0a24be4-cab5-46f6-bb79-3a1390aceb82"
      },
      "execution_count": null,
      "outputs": [
        {
          "output_type": "stream",
          "name": "stdout",
          "text": [
            "o\n"
          ]
        }
      ]
    },
    {
      "cell_type": "code",
      "source": [
        "print(a[-8:-3])"
      ],
      "metadata": {
        "colab": {
          "base_uri": "https://localhost:8080/"
        },
        "id": "kcAHDA1K9F0_",
        "outputId": "66fb3936-bbcb-4604-b0c2-7e46bd91d179"
      },
      "execution_count": null,
      "outputs": [
        {
          "output_type": "stream",
          "name": "stdout",
          "text": [
            "o wor\n"
          ]
        }
      ]
    },
    {
      "cell_type": "code",
      "source": [
        "#can i give +ve value in start and -ve vale in end\n",
        "\n",
        "print(a[1:-2])"
      ],
      "metadata": {
        "colab": {
          "base_uri": "https://localhost:8080/"
        },
        "id": "Ccz5m3VX9eKR",
        "outputId": "6dae2e2b-d500-4841-c253-ee23d64146e6"
      },
      "execution_count": null,
      "outputs": [
        {
          "output_type": "stream",
          "name": "stdout",
          "text": [
            "ello worl\n"
          ]
        }
      ]
    },
    {
      "cell_type": "code",
      "source": [
        "#use the 3 value indexs with -ve indexing? for the following string\n",
        "a = \"Hello world!\"\n",
        "print(a[-4:-10:-2])"
      ],
      "metadata": {
        "colab": {
          "base_uri": "https://localhost:8080/"
        },
        "id": "MuLpSFfQ-KqS",
        "outputId": "8b8efb6a-8902-4332-8779-2f1535877f24"
      },
      "execution_count": null,
      "outputs": [
        {
          "output_type": "stream",
          "name": "stdout",
          "text": [
            "rwo\n"
          ]
        }
      ]
    },
    {
      "cell_type": "code",
      "source": [
        "#confirm that the given string is palindrome or not?\n",
        "b = 'madam'\n",
        "print(b[-1:-6:-1])\n",
        "print(b[::-1])\n",
        "print(b[-5:])"
      ],
      "metadata": {
        "colab": {
          "base_uri": "https://localhost:8080/"
        },
        "id": "O1G7bJv8-wYO",
        "outputId": "7a969a9e-ec3c-4f65-e31c-d38b2fa32e74"
      },
      "execution_count": null,
      "outputs": [
        {
          "output_type": "stream",
          "name": "stdout",
          "text": [
            "madam\n",
            "madam\n",
            "madam\n"
          ]
        }
      ]
    },
    {
      "cell_type": "code",
      "source": [
        "a = \"hello world!\"\n",
        "#what are all the different methods available on given string?\n",
        "# we can use dir()\n",
        "print(dir(a))"
      ],
      "metadata": {
        "colab": {
          "base_uri": "https://localhost:8080/"
        },
        "id": "5Qv8ZMDUBI4j",
        "outputId": "eff212ad-473a-4b0e-b014-971ee5e24da4"
      },
      "execution_count": null,
      "outputs": [
        {
          "output_type": "stream",
          "name": "stdout",
          "text": [
            "['__add__', '__class__', '__contains__', '__delattr__', '__dir__', '__doc__', '__eq__', '__format__', '__ge__', '__getattribute__', '__getitem__', '__getnewargs__', '__gt__', '__hash__', '__init__', '__init_subclass__', '__iter__', '__le__', '__len__', '__lt__', '__mod__', '__mul__', '__ne__', '__new__', '__reduce__', '__reduce_ex__', '__repr__', '__rmod__', '__rmul__', '__setattr__', '__sizeof__', '__str__', '__subclasshook__', 'capitalize', 'casefold', 'center', 'count', 'encode', 'endswith', 'expandtabs', 'find', 'format', 'format_map', 'index', 'isalnum', 'isalpha', 'isascii', 'isdecimal', 'isdigit', 'isidentifier', 'islower', 'isnumeric', 'isprintable', 'isspace', 'istitle', 'isupper', 'join', 'ljust', 'lower', 'lstrip', 'maketrans', 'partition', 'removeprefix', 'removesuffix', 'replace', 'rfind', 'rindex', 'rjust', 'rpartition', 'rsplit', 'rstrip', 'split', 'splitlines', 'startswith', 'strip', 'swapcase', 'title', 'translate', 'upper', 'zfill']\n"
          ]
        }
      ]
    },
    {
      "cell_type": "code",
      "source": [
        "#imporatant string methods\n",
        "#1.capitalize\n",
        "#2.lower\n",
        "#3.lstrip\n",
        "#4.rstrip\n",
        "#5.split\n",
        "#6.strip\n",
        "#7.title\n",
        "#8.upper\n",
        "#9.replace *********\n",
        "#10.swapcase"
      ],
      "metadata": {
        "id": "N0-B8xinCe7h"
      },
      "execution_count": null,
      "outputs": []
    },
    {
      "cell_type": "code",
      "source": [
        "a = \"hello world!\"\n",
        "#How can we apply string ,methods\n",
        "print(a.upper())\n",
        "print(a.capitalize())\n",
        "print(a.title())"
      ],
      "metadata": {
        "colab": {
          "base_uri": "https://localhost:8080/"
        },
        "id": "Hn36PNPRDpmg",
        "outputId": "789ea82d-b8da-47f3-ada1-56065307a538"
      },
      "execution_count": null,
      "outputs": [
        {
          "output_type": "stream",
          "name": "stdout",
          "text": [
            "HELLO WORLD!\n",
            "Hello world!\n",
            "Hello World!\n"
          ]
        }
      ]
    },
    {
      "cell_type": "code",
      "source": [
        "b = \"   Hello this is vivek    \"\n",
        "print(b.lstrip())\n",
        "print(b.rstrip())\n",
        "print(b.strip())"
      ],
      "metadata": {
        "colab": {
          "base_uri": "https://localhost:8080/"
        },
        "id": "8ndZuex_EEbP",
        "outputId": "43cb312c-e10f-40a4-aeed-5cf043a2fe83"
      },
      "execution_count": null,
      "outputs": [
        {
          "output_type": "stream",
          "name": "stdout",
          "text": [
            "Hello this is vivek    \n",
            "   Hello this is vivek\n",
            "Hello this is vivek\n"
          ]
        }
      ]
    },
    {
      "cell_type": "code",
      "source": [
        "#Task is apply 10 string methods on \"Hello Zenvius\"\n",
        "#replace \"zenvius\" in \"Hello zenvius\"  with \"python\"---->o/p-->\"Hello Python\"?"
      ],
      "metadata": {
        "id": "3e-nhNbzElZg"
      },
      "execution_count": null,
      "outputs": []
    },
    {
      "cell_type": "code",
      "source": [
        "#1.capitailize the \"Hello Zenvius\"\n",
        "c = \"Hello zenvius\"\n",
        "print(c.capitalize())"
      ],
      "metadata": {
        "colab": {
          "base_uri": "https://localhost:8080/"
        },
        "id": "DufNRZnDLqgN",
        "outputId": "4a0e5f2f-7a5d-48d3-dfd7-3b060ebae6ff"
      },
      "execution_count": null,
      "outputs": [
        {
          "output_type": "stream",
          "name": "stdout",
          "text": [
            "Hello zenvius\n"
          ]
        }
      ]
    },
    {
      "cell_type": "code",
      "source": [
        "#2.lower\n",
        "print(c.lower())"
      ],
      "metadata": {
        "colab": {
          "base_uri": "https://localhost:8080/"
        },
        "id": "kRL9aEmUMTtb",
        "outputId": "d434c808-ccfc-4e0e-eab0-8b4ab7507d0a"
      },
      "execution_count": null,
      "outputs": [
        {
          "output_type": "stream",
          "name": "stdout",
          "text": [
            "hello zenvius\n"
          ]
        }
      ]
    },
    {
      "cell_type": "code",
      "source": [
        "#3.lstrip\n",
        "d = \"  Hello Zenvius  \"\n",
        "print(d.lstrip())"
      ],
      "metadata": {
        "colab": {
          "base_uri": "https://localhost:8080/"
        },
        "id": "jPVoSAnJM32a",
        "outputId": "31ee3134-ed43-4545-8a5b-b3a7a3b6240e"
      },
      "execution_count": null,
      "outputs": [
        {
          "output_type": "stream",
          "name": "stdout",
          "text": [
            "Hello Zenvius  \n"
          ]
        }
      ]
    },
    {
      "cell_type": "code",
      "source": [
        "#4.rstrip\n",
        "print(d.rstrip())"
      ],
      "metadata": {
        "colab": {
          "base_uri": "https://localhost:8080/"
        },
        "id": "gDzgE6ccNMsE",
        "outputId": "78bc176d-87a3-4560-fa29-422907f252f3"
      },
      "execution_count": null,
      "outputs": [
        {
          "output_type": "stream",
          "name": "stdout",
          "text": [
            "  Hello Zenvius\n"
          ]
        }
      ]
    },
    {
      "cell_type": "code",
      "source": [
        "#5.slipt\n",
        "print(c.split())"
      ],
      "metadata": {
        "colab": {
          "base_uri": "https://localhost:8080/"
        },
        "id": "juxJiOsANcG0",
        "outputId": "961e24f2-bdbb-4cdb-f985-9b779c810564"
      },
      "execution_count": null,
      "outputs": [
        {
          "output_type": "stream",
          "name": "stdout",
          "text": [
            "['Hello', 'zenvius']\n"
          ]
        }
      ]
    },
    {
      "cell_type": "code",
      "source": [
        "#6.strip\n",
        "print(d.strip())"
      ],
      "metadata": {
        "colab": {
          "base_uri": "https://localhost:8080/"
        },
        "id": "I1KLNOviN5sh",
        "outputId": "3344dd8d-8f43-436f-e06c-7710953aa98d"
      },
      "execution_count": null,
      "outputs": [
        {
          "output_type": "stream",
          "name": "stdout",
          "text": [
            "Hello Zenvius\n"
          ]
        }
      ]
    },
    {
      "cell_type": "code",
      "source": [
        "#7.title\n",
        "print(c.title())"
      ],
      "metadata": {
        "colab": {
          "base_uri": "https://localhost:8080/"
        },
        "id": "2AknWcaEOFDw",
        "outputId": "40e92482-da9f-4cba-8746-e34cd112c6c2"
      },
      "execution_count": null,
      "outputs": [
        {
          "output_type": "stream",
          "name": "stdout",
          "text": [
            "Hello Zenvius\n"
          ]
        }
      ]
    },
    {
      "cell_type": "code",
      "source": [
        "#8.upper\n",
        "print(c.upper())"
      ],
      "metadata": {
        "colab": {
          "base_uri": "https://localhost:8080/"
        },
        "id": "8Pqdyx61OaUW",
        "outputId": "8383216c-7a2b-45fe-b8e4-5e8ebffe5aa2"
      },
      "execution_count": null,
      "outputs": [
        {
          "output_type": "stream",
          "name": "stdout",
          "text": [
            "HELLO ZENVIUS\n"
          ]
        }
      ]
    },
    {
      "cell_type": "code",
      "source": [
        "#9.replace\n",
        "#replace \"zenvius\" in \"Hello zenvius\"  with \"python\"---->o/p-->\"Hello Python\"?\n",
        "a = \"Hello Zenvius\"\n",
        "print(a.replace(\"Zenvius\",\"Python\"))"
      ],
      "metadata": {
        "colab": {
          "base_uri": "https://localhost:8080/"
        },
        "id": "G-dSvsnXR1G6",
        "outputId": "13c0b7e4-57ba-44cc-fd80-39da61b5064d"
      },
      "execution_count": null,
      "outputs": [
        {
          "output_type": "stream",
          "name": "stdout",
          "text": [
            "Hello Python\n"
          ]
        }
      ]
    },
    {
      "cell_type": "code",
      "source": [
        "#10.swapcase\n",
        "print(a.swapcase())"
      ],
      "metadata": {
        "colab": {
          "base_uri": "https://localhost:8080/"
        },
        "id": "UrNrdBPgeUvP",
        "outputId": "ad3a18cc-b822-4788-b733-744fc724a14f"
      },
      "execution_count": null,
      "outputs": [
        {
          "output_type": "stream",
          "name": "stdout",
          "text": [
            "hELLO zENVIUS\n"
          ]
        }
      ]
    },
    {
      "cell_type": "code",
      "source": [
        "#Format()\n",
        "#what is format(?) why it is important\n",
        "a = \"hello\"\n",
        "b = \"world\"\n",
        "#concate above two variables\n",
        "c = a +\" \"+ b\n",
        "print()\n",
        "print(c)\n"
      ],
      "metadata": {
        "colab": {
          "base_uri": "https://localhost:8080/"
        },
        "id": "IqaYaXD0-Xtp",
        "outputId": "619720ca-e7ef-4922-a932-442863d0ba60"
      },
      "execution_count": null,
      "outputs": [
        {
          "output_type": "stream",
          "name": "stdout",
          "text": [
            "hello world\n"
          ]
        }
      ]
    },
    {
      "cell_type": "code",
      "source": [
        "age = 10\n",
        "txt = \"my age is\"\n",
        "final_stat = txt + str(age)\n",
        "print(final_stat)\n",
        "print(txt,age)\n"
      ],
      "metadata": {
        "colab": {
          "base_uri": "https://localhost:8080/"
        },
        "id": "8iYug72ZAp-d",
        "outputId": "0054dab3-492c-4f90-df1b-75b0ed7304b8"
      },
      "execution_count": null,
      "outputs": [
        {
          "output_type": "stream",
          "name": "stdout",
          "text": [
            "my age is10\n",
            "my age is 10\n"
          ]
        }
      ]
    },
    {
      "cell_type": "code",
      "source": [
        "#format():- it takes an argument and that can be placed in a placed holder{} in a string\n",
        "#1st method of fromating\n",
        "age = 10\n",
        "txt = 'i am {} year old'\n",
        "print(txt.format(age))"
      ],
      "metadata": {
        "colab": {
          "base_uri": "https://localhost:8080/"
        },
        "id": "DsIQJU1XBLpv",
        "outputId": "00ad2c6e-4eef-452a-cfca-ac52f8c587b4"
      },
      "execution_count": null,
      "outputs": [
        {
          "output_type": "stream",
          "name": "stdout",
          "text": [
            "i am 10 year old\n"
          ]
        }
      ]
    },
    {
      "cell_type": "code",
      "source": [
        "#format():- it takes an argument and that can be placed in a place holder{} in a string\n",
        "#1st method of formating\n",
        "age = 10\n",
        "txt = 'i am {} years old'\n",
        "print(txt.format(age))"
      ],
      "metadata": {
        "colab": {
          "base_uri": "https://localhost:8080/"
        },
        "id": "Bqnq9-7g8jzs",
        "outputId": "8b90af88-51aa-45a3-f498-d72d35b8c527"
      },
      "execution_count": null,
      "outputs": [
        {
          "output_type": "stream",
          "name": "stdout",
          "text": [
            "i am 10 years old\n"
          ]
        }
      ]
    },
    {
      "cell_type": "code",
      "source": [
        "#2nd method\n",
        "age = 10\n",
        "txt ='i am {} years old'.format(age)\n",
        "print(txt)"
      ],
      "metadata": {
        "colab": {
          "base_uri": "https://localhost:8080/"
        },
        "id": "YdK5gGmGB6SM",
        "outputId": "b5b90d3c-59db-4021-8344-7e4d3f59d6dd"
      },
      "execution_count": null,
      "outputs": [
        {
          "output_type": "stream",
          "name": "stdout",
          "text": [
            "i am 10 years old\n"
          ]
        }
      ]
    },
    {
      "cell_type": "code",
      "source": [
        "#3rd method\n",
        "age = 10\n",
        "txt = f'i am {age} years old'\n",
        "print(txt)"
      ],
      "metadata": {
        "colab": {
          "base_uri": "https://localhost:8080/"
        },
        "id": "J3dLNjEvCK8M",
        "outputId": "c3e11f1d-9844-4418-ef84-5a048e7b504b"
      },
      "execution_count": null,
      "outputs": [
        {
          "output_type": "stream",
          "name": "stdout",
          "text": [
            "i am 10 years old\n"
          ]
        }
      ]
    },
    {
      "cell_type": "code",
      "source": [
        "item = 'Product A'\n",
        "price = 99.9\n",
        "quantity = 20\n",
        "#expected output: your order for product a number of items quantity priced at 99.99 is confiremd\n",
        "text = \"your order for {} number of items {} priced at {} is confiremd\"\n",
        "\n",
        "print(text.format(item,quantity,price))\n",
        "\n",
        "\n"
      ],
      "metadata": {
        "colab": {
          "base_uri": "https://localhost:8080/"
        },
        "id": "pPOKifdnCRtE",
        "outputId": "673cb9f0-ea23-4936-d794-23894246120b"
      },
      "execution_count": null,
      "outputs": [
        {
          "output_type": "stream",
          "name": "stdout",
          "text": [
            "your order for Product A number of items 20 priced at 99.9 is confiremd\n"
          ]
        }
      ]
    },
    {
      "cell_type": "code",
      "source": [
        "text = \"your order for {} number of items {} priced at {} is confiremd\".format(item,quantity,price)\n",
        "\n",
        "print(text)"
      ],
      "metadata": {
        "id": "VkvCrQ4FEAHl"
      },
      "execution_count": null,
      "outputs": []
    },
    {
      "cell_type": "code",
      "source": [
        "text = f\"your order for {item} number of items {quantity} priced at {price*quantity} is confiremd\"\n",
        "print(text)"
      ],
      "metadata": {
        "id": "TSuEFnYUCDoG"
      },
      "execution_count": null,
      "outputs": []
    },
    {
      "cell_type": "code",
      "source": [
        "a = 'Dwayne \"The Rock\" Honson'\n",
        "print(a)"
      ],
      "metadata": {
        "id": "UhSeDmqrEsvi",
        "colab": {
          "base_uri": "https://localhost:8080/"
        },
        "outputId": "edb25203-89c8-4173-df77-97342bf31f3f"
      },
      "execution_count": 4,
      "outputs": [
        {
          "output_type": "stream",
          "name": "stdout",
          "text": [
            "Dwayne \"The Rock\" Honson\n"
          ]
        }
      ]
    },
    {
      "cell_type": "code",
      "source": [
        "#escape characters: to print illegal characters in a string--->\\\n",
        "a = \"Dwayne \\\"The Rock\\\"JHonson\"\n",
        "print(a)"
      ],
      "metadata": {
        "colab": {
          "base_uri": "https://localhost:8080/"
        },
        "id": "Fec6OIjzFBHq",
        "outputId": "2bc7ae9c-6cc8-4212-e4b1-d3efcc0c6f0a"
      },
      "execution_count": 6,
      "outputs": [
        {
          "output_type": "stream",
          "name": "stdout",
          "text": [
            "Dwayne \"The Rock\"JHonson\n"
          ]
        }
      ]
    },
    {
      "cell_type": "code",
      "source": [
        "s ='he said,\" I am not going to do this\",she was furious'\n",
        "print(s)"
      ],
      "metadata": {
        "colab": {
          "base_uri": "https://localhost:8080/"
        },
        "id": "e7RzCoK_Ftlo",
        "outputId": "ea35527c-ab56-4b84-99ce-399d6c1e34d0"
      },
      "execution_count": null,
      "outputs": [
        {
          "output_type": "stream",
          "name": "stdout",
          "text": [
            "he said,\" I am not going to do this\",she was furious\n"
          ]
        }
      ]
    },
    {
      "cell_type": "markdown",
      "source": [
        "#conditonal statements"
      ],
      "metadata": {
        "id": "QhJwYS-jH3eV"
      }
    },
    {
      "cell_type": "code",
      "source": [
        "#what are all the comparison operators?\n",
        "#equals to---> ==\n",
        "#not equals to ---> !=\n",
        "#greater than---> >\n",
        "#less than---> <\n",
        "#greater than equals to---> >=\n",
        "#less than equals to---> <="
      ],
      "metadata": {
        "id": "9Tne69DzH-0x"
      },
      "execution_count": null,
      "outputs": []
    },
    {
      "cell_type": "code",
      "source": [
        "print(10 == 10)\n",
        "print(10 < 10)"
      ],
      "metadata": {
        "colab": {
          "base_uri": "https://localhost:8080/"
        },
        "id": "AUGNroWsIq8P",
        "outputId": "582a4420-c024-4f73-e3da-6db76e4254bb"
      },
      "execution_count": null,
      "outputs": [
        {
          "output_type": "stream",
          "name": "stdout",
          "text": [
            "True\n",
            "False\n"
          ]
        }
      ]
    },
    {
      "cell_type": "code",
      "source": [
        "print(\"Hello\" ==  \"hello\")"
      ],
      "metadata": {
        "colab": {
          "base_uri": "https://localhost:8080/"
        },
        "id": "ahUqofkMI3ur",
        "outputId": "7f985a61-a8ab-4059-fd1a-5de32f17f0fb"
      },
      "execution_count": null,
      "outputs": [
        {
          "output_type": "stream",
          "name": "stdout",
          "text": [
            "False\n"
          ]
        }
      ]
    },
    {
      "cell_type": "code",
      "source": [
        "#conditional statments:---> if,elif ,else\n",
        "marks = 35\n",
        "passing = 40\n",
        "total_marks = 100\n",
        "if marks > passing:\n",
        "  print(\"congratulation\")\n",
        "  print(\"you have passed\")\n",
        "  print(f'you have got {marks} marks out of {total_marks}')\n",
        "else:\n",
        "  print(\"Better luck next time\")\n",
        "  print(\"you have failed\")\n",
        "  print(f'you have got {marks} marks out of {total_marks}')"
      ],
      "metadata": {
        "colab": {
          "base_uri": "https://localhost:8080/"
        },
        "id": "rFGI8x3FI9rM",
        "outputId": "65e6c14a-bf09-4632-c789-a257eabb0184"
      },
      "execution_count": null,
      "outputs": [
        {
          "output_type": "stream",
          "name": "stdout",
          "text": [
            "Better luck next time\n",
            "you have failed\n",
            "you have got 35 marks out of 100\n"
          ]
        }
      ]
    },
    {
      "cell_type": "code",
      "source": [
        "#print a number is -ve or positive or nuetral?\n",
        "a = int(input(\"enter the number \"))\n",
        "if a > 0:\n",
        "  print(\"+ve\")\n",
        "elif a == 0:\n",
        "  print(\"zero\")\n",
        "else:\n",
        "  print(\"-ve\")"
      ],
      "metadata": {
        "colab": {
          "base_uri": "https://localhost:8080/"
        },
        "id": "XngYCXWxDinN",
        "outputId": "945828ee-5e46-48f8-cf21-0d1a21b3f41e"
      },
      "execution_count": null,
      "outputs": [
        {
          "output_type": "stream",
          "name": "stdout",
          "text": [
            "enter the number 2\n",
            "+ve\n"
          ]
        }
      ]
    },
    {
      "cell_type": "code",
      "source": [
        "#logical operators:- and,or, not\n",
        "#And:- all the conditions has be to true then only prgram executed\n",
        "#or:any one condition is true\n",
        "#not:reverse the actual output"
      ],
      "metadata": {
        "id": "9rzF251WDtaP"
      },
      "execution_count": null,
      "outputs": []
    },
    {
      "cell_type": "code",
      "source": [
        "print(10 == 10)\n",
        "print(not(10 == 10))"
      ],
      "metadata": {
        "colab": {
          "base_uri": "https://localhost:8080/"
        },
        "id": "aU3PsPOiD5tI",
        "outputId": "8de3aa5e-7337-4c2d-9d38-e08a791fd911"
      },
      "execution_count": null,
      "outputs": [
        {
          "output_type": "stream",
          "name": "stdout",
          "text": [
            "True\n",
            "False\n"
          ]
        }
      ]
    },
    {
      "cell_type": "code",
      "source": [
        "a = 10\n",
        "b = 56\n",
        "c = 455\n",
        "# check condtion that a is lesser than c and b is lesser than c and b is greater than a\n",
        "if a < c and b < c and b > a:\n",
        "  print(\"all the conditions satified\")\n",
        "else:\n",
        "  print(\"conditions is not satisfied\")"
      ],
      "metadata": {
        "colab": {
          "base_uri": "https://localhost:8080/"
        },
        "id": "yT_JmY44EBcg",
        "outputId": "e4d97055-6dc8-42d3-8166-e1ad47304ab9"
      },
      "execution_count": null,
      "outputs": [
        {
          "output_type": "stream",
          "name": "stdout",
          "text": [
            "all the conditions satified\n"
          ]
        }
      ]
    },
    {
      "cell_type": "code",
      "source": [
        "#Nested condition:\n",
        "a = 45\n",
        "# a  is greater than 10\n",
        "# a is greater than 20\n",
        "# a is greater than 3o\n",
        "# a is greater than 40\n",
        "# a is lesser than 50"
      ],
      "metadata": {
        "id": "30KRN7P7EHPE"
      },
      "execution_count": null,
      "outputs": []
    },
    {
      "cell_type": "code",
      "source": [
        "#check what grade we can give to the students based upon theor marks?\n",
        "#total marks = 100\n",
        "#if the student get 90 to 100 --> A+\n",
        "#if the student get 80 to 90 --> A\n",
        "#if the student get 70 to 80 --> B+\n",
        "#if the student get 60 to 70 --> B\n",
        "#if the student get 50 to 60 --> c\n",
        "#if the student get 40 to 50 --> D\n",
        "#Below it display \"better luck next time\""
      ],
      "metadata": {
        "id": "QT04a5jFEVBh"
      },
      "execution_count": null,
      "outputs": []
    },
    {
      "cell_type": "code",
      "source": [
        "marks = int(input(\"Enter student marks :\\n\"))\n",
        "if(90<=marks<=100):\n",
        "    print('A+')\n",
        "elif(80<=marks<=89):\n",
        "    print(\"A\")\n",
        "elif(70<=marks<=79):\n",
        "    print(\"B+\")\n",
        "elif(60<=marks<=69):\n",
        "    print(\"B\")\n",
        "elif(50<=marks<=59):\n",
        "    print(\"C\")\n",
        "elif(40<=marks<=49):\n",
        "    print(\"D\")\n",
        "elif(0<=marks<=39):\n",
        "    print(\"Better luck next time!\")"
      ],
      "metadata": {
        "id": "sk9NFap_C2Nu",
        "colab": {
          "base_uri": "https://localhost:8080/"
        },
        "outputId": "8aa790fe-b580-4de6-96fd-7d8679183d29"
      },
      "execution_count": 7,
      "outputs": [
        {
          "output_type": "stream",
          "name": "stdout",
          "text": [
            "Enter student marks :\n",
            "67\n",
            "B\n"
          ]
        }
      ]
    },
    {
      "cell_type": "code",
      "source": [
        "#Pass:- Null place holder when you excute nothing will happen\n",
        "a = int(input(\"enter the number \"))\n",
        "if a > 0:\n",
        "  print(\"+ve\")\n",
        "  pass\n",
        "# elif a == 0:\n",
        "#   print(\"zero\")\n",
        "# else:\n",
        "#   print(\"-ve\")"
      ],
      "metadata": {
        "colab": {
          "base_uri": "https://localhost:8080/"
        },
        "id": "lYwTMfCvEZTB",
        "outputId": "309650a7-1bdc-414f-b86f-bba9f19046fc"
      },
      "execution_count": null,
      "outputs": [
        {
          "name": "stdout",
          "output_type": "stream",
          "text": [
            "enter the number 0\n"
          ]
        }
      ]
    },
    {
      "cell_type": "markdown",
      "source": [
        "#Loops"
      ],
      "metadata": {
        "id": "6S04gQR7eBAi"
      }
    },
    {
      "cell_type": "code",
      "source": [
        "#why we use loops?\n",
        "#we are using loops to avoid wet codes to avoid duplicate programming\n",
        "#WET code and 2. Dry code\n",
        "#2 types of loops\n",
        "#1.while loop\n",
        "#2.for loop"
      ],
      "metadata": {
        "id": "RVp-a6_DeGnP"
      },
      "execution_count": null,
      "outputs": []
    },
    {
      "cell_type": "code",
      "source": [
        "#while loop :-works/runs a set of instructions as long as concern\n",
        "target = 5\n",
        "intial = 0\n",
        "while intial < 5:\n",
        "  print(\"go down\")\n",
        "  print(\"come up\")\n",
        "  print(\"=======rep completed=====\")\n",
        "  intial = intial+1"
      ],
      "metadata": {
        "id": "us5bceOcfdvF",
        "colab": {
          "base_uri": "https://localhost:8080/"
        },
        "outputId": "7d4ef258-f2c0-4d89-fbb0-aaeea414064d"
      },
      "execution_count": null,
      "outputs": [
        {
          "output_type": "stream",
          "name": "stdout",
          "text": [
            "go down\n",
            "come up\n",
            "=======rep completed=====\n",
            "go down\n",
            "come up\n",
            "=======rep completed=====\n",
            "go down\n",
            "come up\n",
            "=======rep completed=====\n",
            "go down\n",
            "come up\n",
            "=======rep completed=====\n",
            "go down\n",
            "come up\n",
            "=======rep completed=====\n"
          ]
        }
      ]
    },
    {
      "cell_type": "code",
      "source": [
        "#Write a program to run a lift to reach user input floor?\n",
        "D = 4\n",
        "i = 0\n",
        "while i <= 4:\n",
        "  print(\"reach the destination\")\n",
        "  print(\"======================\")\n",
        "  i = i + 1"
      ],
      "metadata": {
        "colab": {
          "base_uri": "https://localhost:8080/"
        },
        "id": "IDRGTdQ7Ezrw",
        "outputId": "e669847e-04a5-4f92-9272-aad9b239ea60"
      },
      "execution_count": null,
      "outputs": [
        {
          "output_type": "stream",
          "name": "stdout",
          "text": [
            "reach the destination\n",
            "======================\n",
            "reach the destination\n",
            "======================\n",
            "reach the destination\n",
            "======================\n",
            "reach the destination\n",
            "======================\n",
            "reach the destination\n",
            "======================\n"
          ]
        }
      ]
    },
    {
      "cell_type": "code",
      "source": [
        "#let say i = 10 while the value is less than 10 and i want to print value of i up to 10\n",
        "i = int(input())\n",
        "while i <= 10:\n",
        "  print(i)\n",
        "  i = i + 1 #--->\n",
        "#i *= 2----> i = i *2\n",
        "#i -=2 ----> i = i -2"
      ],
      "metadata": {
        "colab": {
          "base_uri": "https://localhost:8080/"
        },
        "id": "RD9Ihjn0hlMp",
        "outputId": "b1adba3b-34fb-4d47-c03a-e9a0ead38bf4"
      },
      "execution_count": null,
      "outputs": [
        {
          "output_type": "stream",
          "name": "stdout",
          "text": [
            "10\n",
            "10\n"
          ]
        }
      ]
    },
    {
      "cell_type": "code",
      "source": [
        "i = int(input())\n",
        "while i <= 10:\n",
        "  print(i)\n",
        "  i -= 1"
      ],
      "metadata": {
        "id": "mGqfK7VglBjU",
        "colab": {
          "base_uri": "https://localhost:8080/"
        },
        "outputId": "d04de05c-2819-4143-fe08-2249c8ad3767"
      },
      "execution_count": null,
      "outputs": [
        {
          "output_type": "stream",
          "name": "stdout",
          "text": [
            "\u001b[1;30;43mStreaming output truncated to the last 5000 lines.\u001b[0m\n",
            "-2120515\n",
            "-2120516\n",
            "-2120517\n",
            "-2120518\n",
            "-2120519\n",
            "-2120520\n",
            "-2120521\n",
            "-2120522\n",
            "-2120523\n",
            "-2120524\n",
            "-2120525\n",
            "-2120526\n",
            "-2120527\n",
            "-2120528\n",
            "-2120529\n",
            "-2120530\n",
            "-2120531\n",
            "-2120532\n",
            "-2120533\n",
            "-2120534\n",
            "-2120535\n",
            "-2120536\n",
            "-2120537\n",
            "-2120538\n",
            "-2120539\n",
            "-2120540\n",
            "-2120541\n",
            "-2120542\n",
            "-2120543\n",
            "-2120544\n",
            "-2120545\n",
            "-2120546\n",
            "-2120547\n",
            "-2120548\n",
            "-2120549\n",
            "-2120550\n",
            "-2120551\n",
            "-2120552\n",
            "-2120553\n",
            "-2120554\n",
            "-2120555\n",
            "-2120556\n",
            "-2120557\n",
            "-2120558\n",
            "-2120559\n",
            "-2120560\n",
            "-2120561\n",
            "-2120562\n",
            "-2120563\n",
            "-2120564\n",
            "-2120565\n",
            "-2120566\n",
            "-2120567\n",
            "-2120568\n",
            "-2120569\n",
            "-2120570\n",
            "-2120571\n",
            "-2120572\n",
            "-2120573\n",
            "-2120574\n",
            "-2120575\n",
            "-2120576\n",
            "-2120577\n",
            "-2120578\n",
            "-2120579\n",
            "-2120580\n",
            "-2120581\n",
            "-2120582\n",
            "-2120583\n",
            "-2120584\n",
            "-2120585\n",
            "-2120586\n",
            "-2120587\n",
            "-2120588\n",
            "-2120589\n",
            "-2120590\n",
            "-2120591\n",
            "-2120592\n",
            "-2120593\n",
            "-2120594\n",
            "-2120595\n",
            "-2120596\n",
            "-2120597\n",
            "-2120598\n",
            "-2120599\n",
            "-2120600\n",
            "-2120601\n",
            "-2120602\n",
            "-2120603\n",
            "-2120604\n",
            "-2120605\n",
            "-2120606\n",
            "-2120607\n",
            "-2120608\n",
            "-2120609\n",
            "-2120610\n",
            "-2120611\n",
            "-2120612\n",
            "-2120613\n",
            "-2120614\n",
            "-2120615\n",
            "-2120616\n",
            "-2120617\n",
            "-2120618\n",
            "-2120619\n",
            "-2120620\n",
            "-2120621\n",
            "-2120622\n",
            "-2120623\n",
            "-2120624\n",
            "-2120625\n",
            "-2120626\n",
            "-2120627\n",
            "-2120628\n",
            "-2120629\n",
            "-2120630\n",
            "-2120631\n",
            "-2120632\n",
            "-2120633\n",
            "-2120634\n",
            "-2120635\n",
            "-2120636\n",
            "-2120637\n",
            "-2120638\n",
            "-2120639\n",
            "-2120640\n",
            "-2120641\n",
            "-2120642\n",
            "-2120643\n",
            "-2120644\n",
            "-2120645\n",
            "-2120646\n",
            "-2120647\n",
            "-2120648\n",
            "-2120649\n",
            "-2120650\n",
            "-2120651\n",
            "-2120652\n",
            "-2120653\n",
            "-2120654\n",
            "-2120655\n",
            "-2120656\n",
            "-2120657\n",
            "-2120658\n",
            "-2120659\n",
            "-2120660\n",
            "-2120661\n",
            "-2120662\n",
            "-2120663\n",
            "-2120664\n",
            "-2120665\n",
            "-2120666\n",
            "-2120667\n",
            "-2120668\n",
            "-2120669\n",
            "-2120670\n",
            "-2120671\n",
            "-2120672\n",
            "-2120673\n",
            "-2120674\n",
            "-2120675\n",
            "-2120676\n",
            "-2120677\n",
            "-2120678\n",
            "-2120679\n",
            "-2120680\n",
            "-2120681\n",
            "-2120682\n",
            "-2120683\n",
            "-2120684\n",
            "-2120685\n",
            "-2120686\n",
            "-2120687\n",
            "-2120688\n",
            "-2120689\n",
            "-2120690\n",
            "-2120691\n",
            "-2120692\n",
            "-2120693\n",
            "-2120694\n",
            "-2120695\n",
            "-2120696\n",
            "-2120697\n",
            "-2120698\n",
            "-2120699\n",
            "-2120700\n",
            "-2120701\n",
            "-2120702\n",
            "-2120703\n",
            "-2120704\n",
            "-2120705\n",
            "-2120706\n",
            "-2120707\n",
            "-2120708\n",
            "-2120709\n",
            "-2120710\n",
            "-2120711\n",
            "-2120712\n",
            "-2120713\n",
            "-2120714\n",
            "-2120715\n",
            "-2120716\n",
            "-2120717\n",
            "-2120718\n",
            "-2120719\n",
            "-2120720\n",
            "-2120721\n",
            "-2120722\n",
            "-2120723\n",
            "-2120724\n",
            "-2120725\n",
            "-2120726\n",
            "-2120727\n",
            "-2120728\n",
            "-2120729\n",
            "-2120730\n",
            "-2120731\n",
            "-2120732\n",
            "-2120733\n",
            "-2120734\n",
            "-2120735\n",
            "-2120736\n",
            "-2120737\n",
            "-2120738\n",
            "-2120739\n",
            "-2120740\n",
            "-2120741\n",
            "-2120742\n",
            "-2120743\n",
            "-2120744\n",
            "-2120745\n",
            "-2120746\n",
            "-2120747\n",
            "-2120748\n",
            "-2120749\n",
            "-2120750\n",
            "-2120751\n",
            "-2120752\n",
            "-2120753\n",
            "-2120754\n",
            "-2120755\n",
            "-2120756\n",
            "-2120757\n",
            "-2120758\n",
            "-2120759\n",
            "-2120760\n",
            "-2120761\n",
            "-2120762\n",
            "-2120763\n",
            "-2120764\n",
            "-2120765\n",
            "-2120766\n",
            "-2120767\n",
            "-2120768\n",
            "-2120769\n",
            "-2120770\n",
            "-2120771\n",
            "-2120772\n",
            "-2120773\n",
            "-2120774\n",
            "-2120775\n",
            "-2120776\n",
            "-2120777\n",
            "-2120778\n",
            "-2120779\n",
            "-2120780\n",
            "-2120781\n",
            "-2120782\n",
            "-2120783\n",
            "-2120784\n",
            "-2120785\n",
            "-2120786\n",
            "-2120787\n",
            "-2120788\n",
            "-2120789\n",
            "-2120790\n",
            "-2120791\n",
            "-2120792\n",
            "-2120793\n",
            "-2120794\n",
            "-2120795\n",
            "-2120796\n",
            "-2120797\n",
            "-2120798\n",
            "-2120799\n",
            "-2120800\n",
            "-2120801\n",
            "-2120802\n",
            "-2120803\n",
            "-2120804\n",
            "-2120805\n",
            "-2120806\n",
            "-2120807\n",
            "-2120808\n",
            "-2120809\n",
            "-2120810\n",
            "-2120811\n",
            "-2120812\n",
            "-2120813\n",
            "-2120814\n",
            "-2120815\n",
            "-2120816\n",
            "-2120817\n",
            "-2120818\n",
            "-2120819\n",
            "-2120820\n",
            "-2120821\n",
            "-2120822\n",
            "-2120823\n",
            "-2120824\n",
            "-2120825\n",
            "-2120826\n",
            "-2120827\n",
            "-2120828\n",
            "-2120829\n",
            "-2120830\n",
            "-2120831\n",
            "-2120832\n",
            "-2120833\n",
            "-2120834\n",
            "-2120835\n",
            "-2120836\n",
            "-2120837\n",
            "-2120838\n",
            "-2120839\n",
            "-2120840\n",
            "-2120841\n",
            "-2120842\n",
            "-2120843\n",
            "-2120844\n",
            "-2120845\n",
            "-2120846\n",
            "-2120847\n",
            "-2120848\n",
            "-2120849\n",
            "-2120850\n",
            "-2120851\n",
            "-2120852\n",
            "-2120853\n",
            "-2120854\n",
            "-2120855\n",
            "-2120856\n",
            "-2120857\n",
            "-2120858\n",
            "-2120859\n",
            "-2120860\n",
            "-2120861\n",
            "-2120862\n",
            "-2120863\n",
            "-2120864\n",
            "-2120865\n",
            "-2120866\n",
            "-2120867\n",
            "-2120868\n",
            "-2120869\n",
            "-2120870\n",
            "-2120871\n",
            "-2120872\n",
            "-2120873\n",
            "-2120874\n",
            "-2120875\n",
            "-2120876\n",
            "-2120877\n",
            "-2120878\n",
            "-2120879\n",
            "-2120880\n",
            "-2120881\n",
            "-2120882\n",
            "-2120883\n",
            "-2120884\n",
            "-2120885\n",
            "-2120886\n",
            "-2120887\n",
            "-2120888\n",
            "-2120889\n",
            "-2120890\n",
            "-2120891\n",
            "-2120892\n",
            "-2120893\n",
            "-2120894\n",
            "-2120895\n",
            "-2120896\n",
            "-2120897\n",
            "-2120898\n",
            "-2120899\n",
            "-2120900\n",
            "-2120901\n",
            "-2120902\n",
            "-2120903\n",
            "-2120904\n",
            "-2120905\n",
            "-2120906\n",
            "-2120907\n",
            "-2120908\n",
            "-2120909\n",
            "-2120910\n",
            "-2120911\n",
            "-2120912\n",
            "-2120913\n",
            "-2120914\n",
            "-2120915\n",
            "-2120916\n",
            "-2120917\n",
            "-2120918\n",
            "-2120919\n",
            "-2120920\n",
            "-2120921\n",
            "-2120922\n",
            "-2120923\n",
            "-2120924\n",
            "-2120925\n",
            "-2120926\n",
            "-2120927\n",
            "-2120928\n",
            "-2120929\n",
            "-2120930\n",
            "-2120931\n",
            "-2120932\n",
            "-2120933\n",
            "-2120934\n",
            "-2120935\n",
            "-2120936\n",
            "-2120937\n",
            "-2120938\n",
            "-2120939\n",
            "-2120940\n",
            "-2120941\n",
            "-2120942\n",
            "-2120943\n",
            "-2120944\n",
            "-2120945\n",
            "-2120946\n",
            "-2120947\n",
            "-2120948\n",
            "-2120949\n",
            "-2120950\n",
            "-2120951\n",
            "-2120952\n",
            "-2120953\n",
            "-2120954\n",
            "-2120955\n",
            "-2120956\n",
            "-2120957\n",
            "-2120958\n",
            "-2120959\n",
            "-2120960\n",
            "-2120961\n",
            "-2120962\n",
            "-2120963\n",
            "-2120964\n",
            "-2120965\n",
            "-2120966\n",
            "-2120967\n",
            "-2120968\n",
            "-2120969\n",
            "-2120970\n",
            "-2120971\n",
            "-2120972\n",
            "-2120973\n",
            "-2120974\n",
            "-2120975\n",
            "-2120976\n",
            "-2120977\n",
            "-2120978\n",
            "-2120979\n",
            "-2120980\n",
            "-2120981\n",
            "-2120982\n",
            "-2120983\n",
            "-2120984\n",
            "-2120985\n",
            "-2120986\n",
            "-2120987\n",
            "-2120988\n",
            "-2120989\n",
            "-2120990\n",
            "-2120991\n",
            "-2120992\n",
            "-2120993\n",
            "-2120994\n",
            "-2120995\n",
            "-2120996\n",
            "-2120997\n",
            "-2120998\n",
            "-2120999\n",
            "-2121000\n",
            "-2121001\n",
            "-2121002\n",
            "-2121003\n",
            "-2121004\n",
            "-2121005\n",
            "-2121006\n",
            "-2121007\n",
            "-2121008\n",
            "-2121009\n",
            "-2121010\n",
            "-2121011\n",
            "-2121012\n",
            "-2121013\n",
            "-2121014\n",
            "-2121015\n",
            "-2121016\n",
            "-2121017\n",
            "-2121018\n",
            "-2121019\n",
            "-2121020\n",
            "-2121021\n",
            "-2121022\n",
            "-2121023\n",
            "-2121024\n",
            "-2121025\n",
            "-2121026\n",
            "-2121027\n",
            "-2121028\n",
            "-2121029\n",
            "-2121030\n",
            "-2121031\n",
            "-2121032\n",
            "-2121033\n",
            "-2121034\n",
            "-2121035\n",
            "-2121036\n",
            "-2121037\n",
            "-2121038\n",
            "-2121039\n",
            "-2121040\n",
            "-2121041\n",
            "-2121042\n",
            "-2121043\n",
            "-2121044\n",
            "-2121045\n",
            "-2121046\n",
            "-2121047\n",
            "-2121048\n",
            "-2121049\n",
            "-2121050\n",
            "-2121051\n",
            "-2121052\n",
            "-2121053\n",
            "-2121054\n",
            "-2121055\n",
            "-2121056\n",
            "-2121057\n",
            "-2121058\n",
            "-2121059\n",
            "-2121060\n",
            "-2121061\n",
            "-2121062\n",
            "-2121063\n",
            "-2121064\n",
            "-2121065\n",
            "-2121066\n",
            "-2121067\n",
            "-2121068\n",
            "-2121069\n",
            "-2121070\n",
            "-2121071\n",
            "-2121072\n",
            "-2121073\n",
            "-2121074\n",
            "-2121075\n",
            "-2121076\n",
            "-2121077\n",
            "-2121078\n",
            "-2121079\n",
            "-2121080\n",
            "-2121081\n",
            "-2121082\n",
            "-2121083\n",
            "-2121084\n",
            "-2121085\n",
            "-2121086\n",
            "-2121087\n",
            "-2121088\n",
            "-2121089\n",
            "-2121090\n",
            "-2121091\n",
            "-2121092\n",
            "-2121093\n",
            "-2121094\n",
            "-2121095\n",
            "-2121096\n",
            "-2121097\n",
            "-2121098\n",
            "-2121099\n",
            "-2121100\n",
            "-2121101\n",
            "-2121102\n",
            "-2121103\n",
            "-2121104\n",
            "-2121105\n",
            "-2121106\n",
            "-2121107\n",
            "-2121108\n",
            "-2121109\n",
            "-2121110\n",
            "-2121111\n",
            "-2121112\n",
            "-2121113\n",
            "-2121114\n",
            "-2121115\n",
            "-2121116\n",
            "-2121117\n",
            "-2121118\n",
            "-2121119\n",
            "-2121120\n",
            "-2121121\n",
            "-2121122\n",
            "-2121123\n",
            "-2121124\n",
            "-2121125\n",
            "-2121126\n",
            "-2121127\n",
            "-2121128\n",
            "-2121129\n",
            "-2121130\n",
            "-2121131\n",
            "-2121132\n",
            "-2121133\n",
            "-2121134\n",
            "-2121135\n",
            "-2121136\n",
            "-2121137\n",
            "-2121138\n",
            "-2121139\n",
            "-2121140\n",
            "-2121141\n",
            "-2121142\n",
            "-2121143\n",
            "-2121144\n",
            "-2121145\n",
            "-2121146\n",
            "-2121147\n",
            "-2121148\n",
            "-2121149\n",
            "-2121150\n",
            "-2121151\n",
            "-2121152\n",
            "-2121153\n",
            "-2121154\n",
            "-2121155\n",
            "-2121156\n",
            "-2121157\n",
            "-2121158\n",
            "-2121159\n",
            "-2121160\n",
            "-2121161\n",
            "-2121162\n",
            "-2121163\n",
            "-2121164\n",
            "-2121165\n",
            "-2121166\n",
            "-2121167\n",
            "-2121168\n",
            "-2121169\n",
            "-2121170\n",
            "-2121171\n",
            "-2121172\n",
            "-2121173\n",
            "-2121174\n",
            "-2121175\n",
            "-2121176\n",
            "-2121177\n",
            "-2121178\n",
            "-2121179\n",
            "-2121180\n",
            "-2121181\n",
            "-2121182\n",
            "-2121183\n",
            "-2121184\n",
            "-2121185\n",
            "-2121186\n",
            "-2121187\n",
            "-2121188\n",
            "-2121189\n",
            "-2121190\n",
            "-2121191\n",
            "-2121192\n",
            "-2121193\n",
            "-2121194\n",
            "-2121195\n",
            "-2121196\n",
            "-2121197\n",
            "-2121198\n",
            "-2121199\n",
            "-2121200\n",
            "-2121201\n",
            "-2121202\n",
            "-2121203\n",
            "-2121204\n",
            "-2121205\n",
            "-2121206\n",
            "-2121207\n",
            "-2121208\n",
            "-2121209\n",
            "-2121210\n",
            "-2121211\n",
            "-2121212\n",
            "-2121213\n",
            "-2121214\n",
            "-2121215\n",
            "-2121216\n",
            "-2121217\n",
            "-2121218\n",
            "-2121219\n",
            "-2121220\n",
            "-2121221\n",
            "-2121222\n",
            "-2121223\n",
            "-2121224\n",
            "-2121225\n",
            "-2121226\n",
            "-2121227\n",
            "-2121228\n",
            "-2121229\n",
            "-2121230\n",
            "-2121231\n",
            "-2121232\n",
            "-2121233\n",
            "-2121234\n",
            "-2121235\n",
            "-2121236\n",
            "-2121237\n",
            "-2121238\n",
            "-2121239\n",
            "-2121240\n",
            "-2121241\n",
            "-2121242\n",
            "-2121243\n",
            "-2121244\n",
            "-2121245\n",
            "-2121246\n",
            "-2121247\n",
            "-2121248\n",
            "-2121249\n",
            "-2121250\n",
            "-2121251\n",
            "-2121252\n",
            "-2121253\n",
            "-2121254\n",
            "-2121255\n",
            "-2121256\n",
            "-2121257\n",
            "-2121258\n",
            "-2121259\n",
            "-2121260\n",
            "-2121261\n",
            "-2121262\n",
            "-2121263\n",
            "-2121264\n",
            "-2121265\n",
            "-2121266\n",
            "-2121267\n",
            "-2121268\n",
            "-2121269\n",
            "-2121270\n",
            "-2121271\n",
            "-2121272\n",
            "-2121273\n",
            "-2121274\n",
            "-2121275\n",
            "-2121276\n",
            "-2121277\n",
            "-2121278\n",
            "-2121279\n",
            "-2121280\n",
            "-2121281\n",
            "-2121282\n",
            "-2121283\n",
            "-2121284\n",
            "-2121285\n",
            "-2121286\n",
            "-2121287\n",
            "-2121288\n",
            "-2121289\n",
            "-2121290\n",
            "-2121291\n",
            "-2121292\n",
            "-2121293\n",
            "-2121294\n",
            "-2121295\n",
            "-2121296\n",
            "-2121297\n",
            "-2121298\n",
            "-2121299\n",
            "-2121300\n",
            "-2121301\n",
            "-2121302\n",
            "-2121303\n",
            "-2121304\n",
            "-2121305\n",
            "-2121306\n",
            "-2121307\n",
            "-2121308\n",
            "-2121309\n",
            "-2121310\n",
            "-2121311\n",
            "-2121312\n",
            "-2121313\n",
            "-2121314\n",
            "-2121315\n",
            "-2121316\n",
            "-2121317\n",
            "-2121318\n",
            "-2121319\n",
            "-2121320\n",
            "-2121321\n",
            "-2121322\n",
            "-2121323\n",
            "-2121324\n",
            "-2121325\n",
            "-2121326\n",
            "-2121327\n",
            "-2121328\n",
            "-2121329\n",
            "-2121330\n",
            "-2121331\n",
            "-2121332\n",
            "-2121333\n",
            "-2121334\n",
            "-2121335\n",
            "-2121336\n",
            "-2121337\n",
            "-2121338\n",
            "-2121339\n",
            "-2121340\n",
            "-2121341\n",
            "-2121342\n",
            "-2121343\n",
            "-2121344\n",
            "-2121345\n",
            "-2121346\n",
            "-2121347\n",
            "-2121348\n",
            "-2121349\n",
            "-2121350\n",
            "-2121351\n",
            "-2121352\n",
            "-2121353\n",
            "-2121354\n",
            "-2121355\n",
            "-2121356\n",
            "-2121357\n",
            "-2121358\n",
            "-2121359\n",
            "-2121360\n",
            "-2121361\n",
            "-2121362\n",
            "-2121363\n",
            "-2121364\n",
            "-2121365\n",
            "-2121366\n",
            "-2121367\n",
            "-2121368\n",
            "-2121369\n",
            "-2121370\n",
            "-2121371\n",
            "-2121372\n",
            "-2121373\n",
            "-2121374\n",
            "-2121375\n",
            "-2121376\n",
            "-2121377\n",
            "-2121378\n",
            "-2121379\n",
            "-2121380\n",
            "-2121381\n",
            "-2121382\n",
            "-2121383\n",
            "-2121384\n",
            "-2121385\n",
            "-2121386\n",
            "-2121387\n",
            "-2121388\n",
            "-2121389\n",
            "-2121390\n",
            "-2121391\n",
            "-2121392\n",
            "-2121393\n",
            "-2121394\n",
            "-2121395\n",
            "-2121396\n",
            "-2121397\n",
            "-2121398\n",
            "-2121399\n",
            "-2121400\n",
            "-2121401\n",
            "-2121402\n",
            "-2121403\n",
            "-2121404\n",
            "-2121405\n",
            "-2121406\n",
            "-2121407\n",
            "-2121408\n",
            "-2121409\n",
            "-2121410\n",
            "-2121411\n",
            "-2121412\n",
            "-2121413\n",
            "-2121414\n",
            "-2121415\n",
            "-2121416\n",
            "-2121417\n",
            "-2121418\n",
            "-2121419\n",
            "-2121420\n",
            "-2121421\n",
            "-2121422\n",
            "-2121423\n",
            "-2121424\n",
            "-2121425\n",
            "-2121426\n",
            "-2121427\n",
            "-2121428\n",
            "-2121429\n",
            "-2121430\n",
            "-2121431\n",
            "-2121432\n",
            "-2121433\n",
            "-2121434\n",
            "-2121435\n",
            "-2121436\n",
            "-2121437\n",
            "-2121438\n",
            "-2121439\n",
            "-2121440\n",
            "-2121441\n",
            "-2121442\n",
            "-2121443\n",
            "-2121444\n",
            "-2121445\n",
            "-2121446\n",
            "-2121447\n",
            "-2121448\n",
            "-2121449\n",
            "-2121450\n",
            "-2121451\n",
            "-2121452\n",
            "-2121453\n",
            "-2121454\n",
            "-2121455\n",
            "-2121456\n",
            "-2121457\n",
            "-2121458\n",
            "-2121459\n",
            "-2121460\n",
            "-2121461\n",
            "-2121462\n",
            "-2121463\n",
            "-2121464\n",
            "-2121465\n",
            "-2121466\n",
            "-2121467\n",
            "-2121468\n",
            "-2121469\n",
            "-2121470\n",
            "-2121471\n",
            "-2121472\n",
            "-2121473\n",
            "-2121474\n",
            "-2121475\n",
            "-2121476\n",
            "-2121477\n",
            "-2121478\n",
            "-2121479\n",
            "-2121480\n",
            "-2121481\n",
            "-2121482\n",
            "-2121483\n",
            "-2121484\n",
            "-2121485\n",
            "-2121486\n",
            "-2121487\n",
            "-2121488\n",
            "-2121489\n",
            "-2121490\n",
            "-2121491\n",
            "-2121492\n",
            "-2121493\n",
            "-2121494\n",
            "-2121495\n",
            "-2121496\n",
            "-2121497\n",
            "-2121498\n",
            "-2121499\n",
            "-2121500\n",
            "-2121501\n",
            "-2121502\n",
            "-2121503\n",
            "-2121504\n",
            "-2121505\n",
            "-2121506\n",
            "-2121507\n",
            "-2121508\n",
            "-2121509\n",
            "-2121510\n",
            "-2121511\n",
            "-2121512\n",
            "-2121513\n",
            "-2121514\n",
            "-2121515\n",
            "-2121516\n",
            "-2121517\n",
            "-2121518\n",
            "-2121519\n",
            "-2121520\n",
            "-2121521\n",
            "-2121522\n",
            "-2121523\n",
            "-2121524\n",
            "-2121525\n",
            "-2121526\n",
            "-2121527\n",
            "-2121528\n",
            "-2121529\n",
            "-2121530\n",
            "-2121531\n",
            "-2121532\n",
            "-2121533\n",
            "-2121534\n",
            "-2121535\n",
            "-2121536\n",
            "-2121537\n",
            "-2121538\n",
            "-2121539\n",
            "-2121540\n",
            "-2121541\n",
            "-2121542\n",
            "-2121543\n",
            "-2121544\n",
            "-2121545\n",
            "-2121546\n",
            "-2121547\n",
            "-2121548\n",
            "-2121549\n",
            "-2121550\n",
            "-2121551\n",
            "-2121552\n",
            "-2121553\n",
            "-2121554\n",
            "-2121555\n",
            "-2121556\n",
            "-2121557\n",
            "-2121558\n",
            "-2121559\n",
            "-2121560\n",
            "-2121561\n",
            "-2121562\n",
            "-2121563\n",
            "-2121564\n",
            "-2121565\n",
            "-2121566\n",
            "-2121567\n",
            "-2121568\n",
            "-2121569\n",
            "-2121570\n",
            "-2121571\n",
            "-2121572\n",
            "-2121573\n",
            "-2121574\n",
            "-2121575\n",
            "-2121576\n",
            "-2121577\n",
            "-2121578\n",
            "-2121579\n",
            "-2121580\n",
            "-2121581\n",
            "-2121582\n",
            "-2121583\n",
            "-2121584\n",
            "-2121585\n",
            "-2121586\n",
            "-2121587\n",
            "-2121588\n",
            "-2121589\n",
            "-2121590\n",
            "-2121591\n",
            "-2121592\n",
            "-2121593\n",
            "-2121594\n",
            "-2121595\n",
            "-2121596\n",
            "-2121597\n",
            "-2121598\n",
            "-2121599\n",
            "-2121600\n",
            "-2121601\n",
            "-2121602\n",
            "-2121603\n",
            "-2121604\n",
            "-2121605\n",
            "-2121606\n",
            "-2121607\n",
            "-2121608\n",
            "-2121609\n",
            "-2121610\n",
            "-2121611\n",
            "-2121612\n",
            "-2121613\n",
            "-2121614\n",
            "-2121615\n",
            "-2121616\n",
            "-2121617\n",
            "-2121618\n",
            "-2121619\n",
            "-2121620\n",
            "-2121621\n",
            "-2121622\n",
            "-2121623\n",
            "-2121624\n",
            "-2121625\n",
            "-2121626\n",
            "-2121627\n",
            "-2121628\n",
            "-2121629\n",
            "-2121630\n",
            "-2121631\n",
            "-2121632\n",
            "-2121633\n",
            "-2121634\n",
            "-2121635\n",
            "-2121636\n",
            "-2121637\n",
            "-2121638\n",
            "-2121639\n",
            "-2121640\n",
            "-2121641\n",
            "-2121642\n",
            "-2121643\n",
            "-2121644\n",
            "-2121645\n",
            "-2121646\n",
            "-2121647\n",
            "-2121648\n",
            "-2121649\n",
            "-2121650\n",
            "-2121651\n",
            "-2121652\n",
            "-2121653\n",
            "-2121654\n",
            "-2121655\n",
            "-2121656\n",
            "-2121657\n",
            "-2121658\n",
            "-2121659\n",
            "-2121660\n",
            "-2121661\n",
            "-2121662\n",
            "-2121663\n",
            "-2121664\n",
            "-2121665\n",
            "-2121666\n",
            "-2121667\n",
            "-2121668\n",
            "-2121669\n",
            "-2121670\n",
            "-2121671\n",
            "-2121672\n",
            "-2121673\n",
            "-2121674\n",
            "-2121675\n",
            "-2121676\n",
            "-2121677\n",
            "-2121678\n",
            "-2121679\n",
            "-2121680\n",
            "-2121681\n",
            "-2121682\n",
            "-2121683\n",
            "-2121684\n",
            "-2121685\n",
            "-2121686\n",
            "-2121687\n",
            "-2121688\n",
            "-2121689\n",
            "-2121690\n",
            "-2121691\n",
            "-2121692\n",
            "-2121693\n",
            "-2121694\n",
            "-2121695\n",
            "-2121696\n",
            "-2121697\n",
            "-2121698\n",
            "-2121699\n",
            "-2121700\n",
            "-2121701\n",
            "-2121702\n",
            "-2121703\n",
            "-2121704\n",
            "-2121705\n",
            "-2121706\n",
            "-2121707\n",
            "-2121708\n",
            "-2121709\n",
            "-2121710\n",
            "-2121711\n",
            "-2121712\n",
            "-2121713\n",
            "-2121714\n",
            "-2121715\n",
            "-2121716\n",
            "-2121717\n",
            "-2121718\n",
            "-2121719\n",
            "-2121720\n",
            "-2121721\n",
            "-2121722\n",
            "-2121723\n",
            "-2121724\n",
            "-2121725\n",
            "-2121726\n",
            "-2121727\n",
            "-2121728\n",
            "-2121729\n",
            "-2121730\n",
            "-2121731\n",
            "-2121732\n",
            "-2121733\n",
            "-2121734\n",
            "-2121735\n",
            "-2121736\n",
            "-2121737\n",
            "-2121738\n",
            "-2121739\n",
            "-2121740\n",
            "-2121741\n",
            "-2121742\n",
            "-2121743\n",
            "-2121744\n",
            "-2121745\n",
            "-2121746\n",
            "-2121747\n",
            "-2121748\n",
            "-2121749\n",
            "-2121750\n",
            "-2121751\n",
            "-2121752\n",
            "-2121753\n",
            "-2121754\n",
            "-2121755\n",
            "-2121756\n",
            "-2121757\n",
            "-2121758\n",
            "-2121759\n",
            "-2121760\n",
            "-2121761\n",
            "-2121762\n",
            "-2121763\n",
            "-2121764\n",
            "-2121765\n",
            "-2121766\n",
            "-2121767\n",
            "-2121768\n",
            "-2121769\n",
            "-2121770\n",
            "-2121771\n",
            "-2121772\n",
            "-2121773\n",
            "-2121774\n",
            "-2121775\n",
            "-2121776\n",
            "-2121777\n",
            "-2121778\n",
            "-2121779\n",
            "-2121780\n",
            "-2121781\n",
            "-2121782\n",
            "-2121783\n",
            "-2121784\n",
            "-2121785\n",
            "-2121786\n",
            "-2121787\n",
            "-2121788\n",
            "-2121789\n",
            "-2121790\n",
            "-2121791\n",
            "-2121792\n",
            "-2121793\n",
            "-2121794\n",
            "-2121795\n",
            "-2121796\n",
            "-2121797\n",
            "-2121798\n",
            "-2121799\n",
            "-2121800\n",
            "-2121801\n",
            "-2121802\n",
            "-2121803\n",
            "-2121804\n",
            "-2121805\n",
            "-2121806\n",
            "-2121807\n",
            "-2121808\n",
            "-2121809\n",
            "-2121810\n",
            "-2121811\n",
            "-2121812\n",
            "-2121813\n",
            "-2121814\n",
            "-2121815\n",
            "-2121816\n",
            "-2121817\n",
            "-2121818\n",
            "-2121819\n",
            "-2121820\n",
            "-2121821\n",
            "-2121822\n",
            "-2121823\n",
            "-2121824\n",
            "-2121825\n",
            "-2121826\n",
            "-2121827\n",
            "-2121828\n",
            "-2121829\n",
            "-2121830\n",
            "-2121831\n",
            "-2121832\n",
            "-2121833\n",
            "-2121834\n",
            "-2121835\n",
            "-2121836\n",
            "-2121837\n",
            "-2121838\n",
            "-2121839\n",
            "-2121840\n",
            "-2121841\n",
            "-2121842\n",
            "-2121843\n",
            "-2121844\n",
            "-2121845\n",
            "-2121846\n",
            "-2121847\n",
            "-2121848\n",
            "-2121849\n",
            "-2121850\n",
            "-2121851\n",
            "-2121852\n",
            "-2121853\n",
            "-2121854\n",
            "-2121855\n",
            "-2121856\n",
            "-2121857\n",
            "-2121858\n",
            "-2121859\n",
            "-2121860\n",
            "-2121861\n",
            "-2121862\n",
            "-2121863\n",
            "-2121864\n",
            "-2121865\n",
            "-2121866\n",
            "-2121867\n",
            "-2121868\n",
            "-2121869\n",
            "-2121870\n",
            "-2121871\n",
            "-2121872\n",
            "-2121873\n",
            "-2121874\n",
            "-2121875\n",
            "-2121876\n",
            "-2121877\n",
            "-2121878\n",
            "-2121879\n",
            "-2121880\n",
            "-2121881\n",
            "-2121882\n",
            "-2121883\n",
            "-2121884\n",
            "-2121885\n",
            "-2121886\n",
            "-2121887\n",
            "-2121888\n",
            "-2121889\n",
            "-2121890\n",
            "-2121891\n",
            "-2121892\n",
            "-2121893\n",
            "-2121894\n",
            "-2121895\n",
            "-2121896\n",
            "-2121897\n",
            "-2121898\n",
            "-2121899\n",
            "-2121900\n",
            "-2121901\n",
            "-2121902\n",
            "-2121903\n",
            "-2121904\n",
            "-2121905\n",
            "-2121906\n",
            "-2121907\n",
            "-2121908\n",
            "-2121909\n",
            "-2121910\n",
            "-2121911\n",
            "-2121912\n",
            "-2121913\n",
            "-2121914\n",
            "-2121915\n",
            "-2121916\n",
            "-2121917\n",
            "-2121918\n",
            "-2121919\n",
            "-2121920\n",
            "-2121921\n",
            "-2121922\n",
            "-2121923\n",
            "-2121924\n",
            "-2121925\n",
            "-2121926\n",
            "-2121927\n",
            "-2121928\n",
            "-2121929\n",
            "-2121930\n",
            "-2121931\n",
            "-2121932\n",
            "-2121933\n",
            "-2121934\n",
            "-2121935\n",
            "-2121936\n",
            "-2121937\n",
            "-2121938\n",
            "-2121939\n",
            "-2121940\n",
            "-2121941\n",
            "-2121942\n",
            "-2121943\n",
            "-2121944\n",
            "-2121945\n",
            "-2121946\n",
            "-2121947\n",
            "-2121948\n",
            "-2121949\n",
            "-2121950\n",
            "-2121951\n",
            "-2121952\n",
            "-2121953\n",
            "-2121954\n",
            "-2121955\n",
            "-2121956\n",
            "-2121957\n",
            "-2121958\n",
            "-2121959\n",
            "-2121960\n",
            "-2121961\n",
            "-2121962\n",
            "-2121963\n",
            "-2121964\n",
            "-2121965\n",
            "-2121966\n",
            "-2121967\n",
            "-2121968\n",
            "-2121969\n",
            "-2121970\n",
            "-2121971\n",
            "-2121972\n",
            "-2121973\n",
            "-2121974\n",
            "-2121975\n",
            "-2121976\n",
            "-2121977\n",
            "-2121978\n",
            "-2121979\n",
            "-2121980\n",
            "-2121981\n",
            "-2121982\n",
            "-2121983\n",
            "-2121984\n",
            "-2121985\n",
            "-2121986\n",
            "-2121987\n",
            "-2121988\n",
            "-2121989\n",
            "-2121990\n",
            "-2121991\n",
            "-2121992\n",
            "-2121993\n",
            "-2121994\n",
            "-2121995\n",
            "-2121996\n",
            "-2121997\n",
            "-2121998\n",
            "-2121999\n",
            "-2122000\n",
            "-2122001\n",
            "-2122002\n",
            "-2122003\n",
            "-2122004\n",
            "-2122005\n",
            "-2122006\n",
            "-2122007\n",
            "-2122008\n",
            "-2122009\n",
            "-2122010\n",
            "-2122011\n",
            "-2122012\n",
            "-2122013\n",
            "-2122014\n",
            "-2122015\n",
            "-2122016\n",
            "-2122017\n",
            "-2122018\n",
            "-2122019\n",
            "-2122020\n",
            "-2122021\n",
            "-2122022\n",
            "-2122023\n",
            "-2122024\n",
            "-2122025\n",
            "-2122026\n",
            "-2122027\n",
            "-2122028\n",
            "-2122029\n",
            "-2122030\n",
            "-2122031\n",
            "-2122032\n",
            "-2122033\n",
            "-2122034\n",
            "-2122035\n",
            "-2122036\n",
            "-2122037\n",
            "-2122038\n",
            "-2122039\n",
            "-2122040\n",
            "-2122041\n",
            "-2122042\n",
            "-2122043\n",
            "-2122044\n",
            "-2122045\n",
            "-2122046\n",
            "-2122047\n",
            "-2122048\n",
            "-2122049\n",
            "-2122050\n",
            "-2122051\n",
            "-2122052\n",
            "-2122053\n",
            "-2122054\n",
            "-2122055\n",
            "-2122056\n",
            "-2122057\n",
            "-2122058\n",
            "-2122059\n",
            "-2122060\n",
            "-2122061\n",
            "-2122062\n",
            "-2122063\n",
            "-2122064\n",
            "-2122065\n",
            "-2122066\n",
            "-2122067\n",
            "-2122068\n",
            "-2122069\n",
            "-2122070\n",
            "-2122071\n",
            "-2122072\n",
            "-2122073\n",
            "-2122074\n",
            "-2122075\n",
            "-2122076\n",
            "-2122077\n",
            "-2122078\n",
            "-2122079\n",
            "-2122080\n",
            "-2122081\n",
            "-2122082\n",
            "-2122083\n",
            "-2122084\n",
            "-2122085\n",
            "-2122086\n",
            "-2122087\n",
            "-2122088\n",
            "-2122089\n",
            "-2122090\n",
            "-2122091\n",
            "-2122092\n",
            "-2122093\n",
            "-2122094\n",
            "-2122095\n",
            "-2122096\n",
            "-2122097\n",
            "-2122098\n",
            "-2122099\n",
            "-2122100\n",
            "-2122101\n",
            "-2122102\n",
            "-2122103\n",
            "-2122104\n",
            "-2122105\n",
            "-2122106\n",
            "-2122107\n",
            "-2122108\n",
            "-2122109\n",
            "-2122110\n",
            "-2122111\n",
            "-2122112\n",
            "-2122113\n",
            "-2122114\n",
            "-2122115\n",
            "-2122116\n",
            "-2122117\n",
            "-2122118\n",
            "-2122119\n",
            "-2122120\n",
            "-2122121\n",
            "-2122122\n",
            "-2122123\n",
            "-2122124\n",
            "-2122125\n",
            "-2122126\n",
            "-2122127\n",
            "-2122128\n",
            "-2122129\n",
            "-2122130\n",
            "-2122131\n",
            "-2122132\n",
            "-2122133\n",
            "-2122134\n",
            "-2122135\n",
            "-2122136\n",
            "-2122137\n",
            "-2122138\n",
            "-2122139\n",
            "-2122140\n",
            "-2122141\n",
            "-2122142\n",
            "-2122143\n",
            "-2122144\n",
            "-2122145\n",
            "-2122146\n",
            "-2122147\n",
            "-2122148\n",
            "-2122149\n",
            "-2122150\n",
            "-2122151\n",
            "-2122152\n",
            "-2122153\n",
            "-2122154\n",
            "-2122155\n",
            "-2122156\n",
            "-2122157\n",
            "-2122158\n",
            "-2122159\n",
            "-2122160\n",
            "-2122161\n",
            "-2122162\n",
            "-2122163\n",
            "-2122164\n",
            "-2122165\n",
            "-2122166\n",
            "-2122167\n",
            "-2122168\n",
            "-2122169\n",
            "-2122170\n",
            "-2122171\n",
            "-2122172\n",
            "-2122173\n",
            "-2122174\n",
            "-2122175\n",
            "-2122176\n",
            "-2122177\n",
            "-2122178\n",
            "-2122179\n",
            "-2122180\n",
            "-2122181\n",
            "-2122182\n",
            "-2122183\n",
            "-2122184\n",
            "-2122185\n",
            "-2122186\n",
            "-2122187\n",
            "-2122188\n",
            "-2122189\n",
            "-2122190\n",
            "-2122191\n",
            "-2122192\n",
            "-2122193\n",
            "-2122194\n",
            "-2122195\n",
            "-2122196\n",
            "-2122197\n",
            "-2122198\n",
            "-2122199\n",
            "-2122200\n",
            "-2122201\n",
            "-2122202\n",
            "-2122203\n",
            "-2122204\n",
            "-2122205\n",
            "-2122206\n",
            "-2122207\n",
            "-2122208\n",
            "-2122209\n",
            "-2122210\n",
            "-2122211\n",
            "-2122212\n",
            "-2122213\n",
            "-2122214\n",
            "-2122215\n",
            "-2122216\n",
            "-2122217\n",
            "-2122218\n",
            "-2122219\n",
            "-2122220\n",
            "-2122221\n",
            "-2122222\n",
            "-2122223\n",
            "-2122224\n",
            "-2122225\n",
            "-2122226\n",
            "-2122227\n",
            "-2122228\n",
            "-2122229\n",
            "-2122230\n",
            "-2122231\n",
            "-2122232\n",
            "-2122233\n",
            "-2122234\n",
            "-2122235\n",
            "-2122236\n",
            "-2122237\n",
            "-2122238\n",
            "-2122239\n",
            "-2122240\n",
            "-2122241\n",
            "-2122242\n",
            "-2122243\n",
            "-2122244\n",
            "-2122245\n",
            "-2122246\n",
            "-2122247\n",
            "-2122248\n",
            "-2122249\n",
            "-2122250\n",
            "-2122251\n",
            "-2122252\n",
            "-2122253\n",
            "-2122254\n",
            "-2122255\n",
            "-2122256\n",
            "-2122257\n",
            "-2122258\n",
            "-2122259\n",
            "-2122260\n",
            "-2122261\n",
            "-2122262\n",
            "-2122263\n",
            "-2122264\n",
            "-2122265\n",
            "-2122266\n",
            "-2122267\n",
            "-2122268\n",
            "-2122269\n",
            "-2122270\n",
            "-2122271\n",
            "-2122272\n",
            "-2122273\n",
            "-2122274\n",
            "-2122275\n",
            "-2122276\n",
            "-2122277\n",
            "-2122278\n",
            "-2122279\n",
            "-2122280\n",
            "-2122281\n",
            "-2122282\n",
            "-2122283\n",
            "-2122284\n",
            "-2122285\n",
            "-2122286\n",
            "-2122287\n",
            "-2122288\n",
            "-2122289\n",
            "-2122290\n",
            "-2122291\n",
            "-2122292\n",
            "-2122293\n",
            "-2122294\n",
            "-2122295\n",
            "-2122296\n",
            "-2122297\n",
            "-2122298\n",
            "-2122299\n",
            "-2122300\n",
            "-2122301\n",
            "-2122302\n",
            "-2122303\n",
            "-2122304\n",
            "-2122305\n",
            "-2122306\n",
            "-2122307\n",
            "-2122308\n",
            "-2122309\n",
            "-2122310\n",
            "-2122311\n",
            "-2122312\n",
            "-2122313\n",
            "-2122314\n",
            "-2122315\n",
            "-2122316\n",
            "-2122317\n",
            "-2122318\n",
            "-2122319\n",
            "-2122320\n",
            "-2122321\n",
            "-2122322\n",
            "-2122323\n",
            "-2122324\n",
            "-2122325\n",
            "-2122326\n",
            "-2122327\n",
            "-2122328\n",
            "-2122329\n",
            "-2122330\n",
            "-2122331\n",
            "-2122332\n",
            "-2122333\n",
            "-2122334\n",
            "-2122335\n",
            "-2122336\n",
            "-2122337\n",
            "-2122338\n",
            "-2122339\n",
            "-2122340\n",
            "-2122341\n",
            "-2122342\n",
            "-2122343\n",
            "-2122344\n",
            "-2122345\n",
            "-2122346\n",
            "-2122347\n",
            "-2122348\n",
            "-2122349\n",
            "-2122350\n",
            "-2122351\n",
            "-2122352\n",
            "-2122353\n",
            "-2122354\n",
            "-2122355\n",
            "-2122356\n",
            "-2122357\n",
            "-2122358\n",
            "-2122359\n",
            "-2122360\n",
            "-2122361\n",
            "-2122362\n",
            "-2122363\n",
            "-2122364\n",
            "-2122365\n",
            "-2122366\n",
            "-2122367\n",
            "-2122368\n",
            "-2122369\n",
            "-2122370\n",
            "-2122371\n",
            "-2122372\n",
            "-2122373\n",
            "-2122374\n",
            "-2122375\n",
            "-2122376\n",
            "-2122377\n",
            "-2122378\n",
            "-2122379\n",
            "-2122380\n",
            "-2122381\n",
            "-2122382\n",
            "-2122383\n",
            "-2122384\n",
            "-2122385\n",
            "-2122386\n",
            "-2122387\n",
            "-2122388\n",
            "-2122389\n",
            "-2122390\n",
            "-2122391\n",
            "-2122392\n",
            "-2122393\n",
            "-2122394\n",
            "-2122395\n",
            "-2122396\n",
            "-2122397\n",
            "-2122398\n",
            "-2122399\n",
            "-2122400\n",
            "-2122401\n",
            "-2122402\n",
            "-2122403\n",
            "-2122404\n",
            "-2122405\n",
            "-2122406\n",
            "-2122407\n",
            "-2122408\n",
            "-2122409\n",
            "-2122410\n",
            "-2122411\n",
            "-2122412\n",
            "-2122413\n",
            "-2122414\n",
            "-2122415\n",
            "-2122416\n",
            "-2122417\n",
            "-2122418\n",
            "-2122419\n",
            "-2122420\n",
            "-2122421\n",
            "-2122422\n",
            "-2122423\n",
            "-2122424\n",
            "-2122425\n",
            "-2122426\n",
            "-2122427\n",
            "-2122428\n",
            "-2122429\n",
            "-2122430\n",
            "-2122431\n",
            "-2122432\n",
            "-2122433\n",
            "-2122434\n",
            "-2122435\n",
            "-2122436\n",
            "-2122437\n",
            "-2122438\n",
            "-2122439\n",
            "-2122440\n",
            "-2122441\n",
            "-2122442\n",
            "-2122443\n",
            "-2122444\n",
            "-2122445\n",
            "-2122446\n",
            "-2122447\n",
            "-2122448\n",
            "-2122449\n",
            "-2122450\n",
            "-2122451\n",
            "-2122452\n",
            "-2122453\n",
            "-2122454\n",
            "-2122455\n",
            "-2122456\n",
            "-2122457\n",
            "-2122458\n",
            "-2122459\n",
            "-2122460\n",
            "-2122461\n",
            "-2122462\n",
            "-2122463\n",
            "-2122464\n",
            "-2122465\n",
            "-2122466\n",
            "-2122467\n",
            "-2122468\n",
            "-2122469\n",
            "-2122470\n",
            "-2122471\n",
            "-2122472\n",
            "-2122473\n",
            "-2122474\n",
            "-2122475\n",
            "-2122476\n",
            "-2122477\n",
            "-2122478\n",
            "-2122479\n",
            "-2122480\n",
            "-2122481\n",
            "-2122482\n",
            "-2122483\n",
            "-2122484\n",
            "-2122485\n",
            "-2122486\n",
            "-2122487\n",
            "-2122488\n",
            "-2122489\n",
            "-2122490\n",
            "-2122491\n",
            "-2122492\n",
            "-2122493\n",
            "-2122494\n",
            "-2122495\n",
            "-2122496\n",
            "-2122497\n",
            "-2122498\n",
            "-2122499\n",
            "-2122500\n",
            "-2122501\n",
            "-2122502\n",
            "-2122503\n",
            "-2122504\n",
            "-2122505\n",
            "-2122506\n",
            "-2122507\n",
            "-2122508\n",
            "-2122509\n",
            "-2122510\n",
            "-2122511\n",
            "-2122512\n",
            "-2122513\n",
            "-2122514\n",
            "-2122515\n",
            "-2122516\n",
            "-2122517\n",
            "-2122518\n",
            "-2122519\n",
            "-2122520\n",
            "-2122521\n",
            "-2122522\n",
            "-2122523\n",
            "-2122524\n",
            "-2122525\n",
            "-2122526\n",
            "-2122527\n",
            "-2122528\n",
            "-2122529\n",
            "-2122530\n",
            "-2122531\n",
            "-2122532\n",
            "-2122533\n",
            "-2122534\n",
            "-2122535\n",
            "-2122536\n",
            "-2122537\n",
            "-2122538\n",
            "-2122539\n",
            "-2122540\n",
            "-2122541\n",
            "-2122542\n",
            "-2122543\n",
            "-2122544\n",
            "-2122545\n",
            "-2122546\n",
            "-2122547\n",
            "-2122548\n",
            "-2122549\n",
            "-2122550\n",
            "-2122551\n",
            "-2122552\n",
            "-2122553\n",
            "-2122554\n",
            "-2122555\n",
            "-2122556\n",
            "-2122557\n",
            "-2122558\n",
            "-2122559\n",
            "-2122560\n",
            "-2122561\n",
            "-2122562\n",
            "-2122563\n",
            "-2122564\n",
            "-2122565\n",
            "-2122566\n",
            "-2122567\n",
            "-2122568\n",
            "-2122569\n",
            "-2122570\n",
            "-2122571\n",
            "-2122572\n",
            "-2122573\n",
            "-2122574\n",
            "-2122575\n",
            "-2122576\n",
            "-2122577\n",
            "-2122578\n",
            "-2122579\n",
            "-2122580\n",
            "-2122581\n",
            "-2122582\n",
            "-2122583\n",
            "-2122584\n",
            "-2122585\n",
            "-2122586\n",
            "-2122587\n",
            "-2122588\n",
            "-2122589\n",
            "-2122590\n",
            "-2122591\n",
            "-2122592\n",
            "-2122593\n",
            "-2122594\n",
            "-2122595\n",
            "-2122596\n",
            "-2122597\n",
            "-2122598\n",
            "-2122599\n",
            "-2122600\n",
            "-2122601\n",
            "-2122602\n",
            "-2122603\n",
            "-2122604\n",
            "-2122605\n",
            "-2122606\n",
            "-2122607\n",
            "-2122608\n",
            "-2122609\n",
            "-2122610\n",
            "-2122611\n",
            "-2122612\n",
            "-2122613\n",
            "-2122614\n",
            "-2122615\n",
            "-2122616\n",
            "-2122617\n",
            "-2122618\n",
            "-2122619\n",
            "-2122620\n",
            "-2122621\n",
            "-2122622\n",
            "-2122623\n",
            "-2122624\n",
            "-2122625\n",
            "-2122626\n",
            "-2122627\n",
            "-2122628\n",
            "-2122629\n",
            "-2122630\n",
            "-2122631\n",
            "-2122632\n",
            "-2122633\n",
            "-2122634\n",
            "-2122635\n",
            "-2122636\n",
            "-2122637\n",
            "-2122638\n",
            "-2122639\n",
            "-2122640\n",
            "-2122641\n",
            "-2122642\n",
            "-2122643\n",
            "-2122644\n",
            "-2122645\n",
            "-2122646\n",
            "-2122647\n",
            "-2122648\n",
            "-2122649\n",
            "-2122650\n",
            "-2122651\n",
            "-2122652\n",
            "-2122653\n",
            "-2122654\n",
            "-2122655\n",
            "-2122656\n",
            "-2122657\n",
            "-2122658\n",
            "-2122659\n",
            "-2122660\n",
            "-2122661\n",
            "-2122662\n",
            "-2122663\n",
            "-2122664\n",
            "-2122665\n",
            "-2122666\n",
            "-2122667\n",
            "-2122668\n",
            "-2122669\n",
            "-2122670\n",
            "-2122671\n",
            "-2122672\n",
            "-2122673\n",
            "-2122674\n",
            "-2122675\n",
            "-2122676\n",
            "-2122677\n",
            "-2122678\n",
            "-2122679\n",
            "-2122680\n",
            "-2122681\n",
            "-2122682\n",
            "-2122683\n",
            "-2122684\n",
            "-2122685\n",
            "-2122686\n",
            "-2122687\n",
            "-2122688\n",
            "-2122689\n",
            "-2122690\n",
            "-2122691\n",
            "-2122692\n",
            "-2122693\n",
            "-2122694\n",
            "-2122695\n",
            "-2122696\n",
            "-2122697\n",
            "-2122698\n",
            "-2122699\n",
            "-2122700\n",
            "-2122701\n",
            "-2122702\n",
            "-2122703\n",
            "-2122704\n",
            "-2122705\n",
            "-2122706\n",
            "-2122707\n",
            "-2122708\n",
            "-2122709\n",
            "-2122710\n",
            "-2122711\n",
            "-2122712\n",
            "-2122713\n",
            "-2122714\n",
            "-2122715\n",
            "-2122716\n",
            "-2122717\n",
            "-2122718\n",
            "-2122719\n",
            "-2122720\n",
            "-2122721\n",
            "-2122722\n",
            "-2122723\n",
            "-2122724\n",
            "-2122725\n",
            "-2122726\n",
            "-2122727\n",
            "-2122728\n",
            "-2122729\n",
            "-2122730\n",
            "-2122731\n",
            "-2122732\n",
            "-2122733\n",
            "-2122734\n",
            "-2122735\n",
            "-2122736\n",
            "-2122737\n",
            "-2122738\n",
            "-2122739\n",
            "-2122740\n",
            "-2122741\n",
            "-2122742\n",
            "-2122743\n",
            "-2122744\n",
            "-2122745\n",
            "-2122746\n",
            "-2122747\n",
            "-2122748\n",
            "-2122749\n",
            "-2122750\n",
            "-2122751\n",
            "-2122752\n",
            "-2122753\n",
            "-2122754\n",
            "-2122755\n",
            "-2122756\n",
            "-2122757\n",
            "-2122758\n",
            "-2122759\n",
            "-2122760\n",
            "-2122761\n",
            "-2122762\n",
            "-2122763\n",
            "-2122764\n",
            "-2122765\n",
            "-2122766\n",
            "-2122767\n",
            "-2122768\n",
            "-2122769\n",
            "-2122770\n",
            "-2122771\n",
            "-2122772\n",
            "-2122773\n",
            "-2122774\n",
            "-2122775\n",
            "-2122776\n",
            "-2122777\n",
            "-2122778\n",
            "-2122779\n",
            "-2122780\n",
            "-2122781\n",
            "-2122782\n",
            "-2122783\n",
            "-2122784\n",
            "-2122785\n",
            "-2122786\n",
            "-2122787\n",
            "-2122788\n",
            "-2122789\n",
            "-2122790\n",
            "-2122791\n",
            "-2122792\n",
            "-2122793\n",
            "-2122794\n",
            "-2122795\n",
            "-2122796\n",
            "-2122797\n",
            "-2122798\n",
            "-2122799\n",
            "-2122800\n",
            "-2122801\n",
            "-2122802\n",
            "-2122803\n",
            "-2122804\n",
            "-2122805\n",
            "-2122806\n",
            "-2122807\n",
            "-2122808\n",
            "-2122809\n",
            "-2122810\n",
            "-2122811\n",
            "-2122812\n",
            "-2122813\n",
            "-2122814\n",
            "-2122815\n",
            "-2122816\n",
            "-2122817\n",
            "-2122818\n",
            "-2122819\n",
            "-2122820\n",
            "-2122821\n",
            "-2122822\n",
            "-2122823\n",
            "-2122824\n",
            "-2122825\n",
            "-2122826\n",
            "-2122827\n",
            "-2122828\n",
            "-2122829\n",
            "-2122830\n",
            "-2122831\n",
            "-2122832\n",
            "-2122833\n",
            "-2122834\n",
            "-2122835\n",
            "-2122836\n",
            "-2122837\n",
            "-2122838\n",
            "-2122839\n",
            "-2122840\n",
            "-2122841\n",
            "-2122842\n",
            "-2122843\n",
            "-2122844\n",
            "-2122845\n",
            "-2122846\n",
            "-2122847\n",
            "-2122848\n",
            "-2122849\n",
            "-2122850\n",
            "-2122851\n",
            "-2122852\n",
            "-2122853\n",
            "-2122854\n",
            "-2122855\n",
            "-2122856\n",
            "-2122857\n",
            "-2122858\n",
            "-2122859\n",
            "-2122860\n",
            "-2122861\n",
            "-2122862\n",
            "-2122863\n",
            "-2122864\n",
            "-2122865\n",
            "-2122866\n",
            "-2122867\n",
            "-2122868\n",
            "-2122869\n",
            "-2122870\n",
            "-2122871\n",
            "-2122872\n",
            "-2122873\n",
            "-2122874\n",
            "-2122875\n",
            "-2122876\n",
            "-2122877\n",
            "-2122878\n",
            "-2122879\n",
            "-2122880\n",
            "-2122881\n",
            "-2122882\n",
            "-2122883\n",
            "-2122884\n",
            "-2122885\n",
            "-2122886\n",
            "-2122887\n",
            "-2122888\n",
            "-2122889\n",
            "-2122890\n",
            "-2122891\n",
            "-2122892\n",
            "-2122893\n",
            "-2122894\n",
            "-2122895\n",
            "-2122896\n",
            "-2122897\n",
            "-2122898\n",
            "-2122899\n",
            "-2122900\n",
            "-2122901\n",
            "-2122902\n",
            "-2122903\n",
            "-2122904\n",
            "-2122905\n",
            "-2122906\n",
            "-2122907\n",
            "-2122908\n",
            "-2122909\n",
            "-2122910\n",
            "-2122911\n",
            "-2122912\n",
            "-2122913\n",
            "-2122914\n",
            "-2122915\n",
            "-2122916\n",
            "-2122917\n",
            "-2122918\n",
            "-2122919\n",
            "-2122920\n",
            "-2122921\n",
            "-2122922\n",
            "-2122923\n",
            "-2122924\n",
            "-2122925\n",
            "-2122926\n",
            "-2122927\n",
            "-2122928\n",
            "-2122929\n",
            "-2122930\n",
            "-2122931\n",
            "-2122932\n",
            "-2122933\n",
            "-2122934\n",
            "-2122935\n",
            "-2122936\n",
            "-2122937\n",
            "-2122938\n",
            "-2122939\n",
            "-2122940\n",
            "-2122941\n",
            "-2122942\n",
            "-2122943\n",
            "-2122944\n",
            "-2122945\n",
            "-2122946\n",
            "-2122947\n",
            "-2122948\n",
            "-2122949\n",
            "-2122950\n",
            "-2122951\n",
            "-2122952\n",
            "-2122953\n",
            "-2122954\n",
            "-2122955\n",
            "-2122956\n",
            "-2122957\n",
            "-2122958\n",
            "-2122959\n",
            "-2122960\n",
            "-2122961\n",
            "-2122962\n",
            "-2122963\n",
            "-2122964\n",
            "-2122965\n",
            "-2122966\n",
            "-2122967\n",
            "-2122968\n",
            "-2122969\n",
            "-2122970\n",
            "-2122971\n",
            "-2122972\n",
            "-2122973\n",
            "-2122974\n",
            "-2122975\n",
            "-2122976\n",
            "-2122977\n",
            "-2122978\n",
            "-2122979\n",
            "-2122980\n",
            "-2122981\n",
            "-2122982\n",
            "-2122983\n",
            "-2122984\n",
            "-2122985\n",
            "-2122986\n",
            "-2122987\n",
            "-2122988\n",
            "-2122989\n",
            "-2122990\n",
            "-2122991\n",
            "-2122992\n",
            "-2122993\n",
            "-2122994\n",
            "-2122995\n",
            "-2122996\n",
            "-2122997\n",
            "-2122998\n",
            "-2122999\n",
            "-2123000\n",
            "-2123001\n",
            "-2123002\n",
            "-2123003\n",
            "-2123004\n",
            "-2123005\n",
            "-2123006\n",
            "-2123007\n",
            "-2123008\n",
            "-2123009\n",
            "-2123010\n",
            "-2123011\n",
            "-2123012\n",
            "-2123013\n",
            "-2123014\n",
            "-2123015\n",
            "-2123016\n",
            "-2123017\n",
            "-2123018\n",
            "-2123019\n",
            "-2123020\n",
            "-2123021\n",
            "-2123022\n",
            "-2123023\n",
            "-2123024\n",
            "-2123025\n",
            "-2123026\n",
            "-2123027\n",
            "-2123028\n",
            "-2123029\n",
            "-2123030\n",
            "-2123031\n",
            "-2123032\n",
            "-2123033\n",
            "-2123034\n",
            "-2123035\n",
            "-2123036\n",
            "-2123037\n",
            "-2123038\n",
            "-2123039\n",
            "-2123040\n",
            "-2123041\n",
            "-2123042\n",
            "-2123043\n",
            "-2123044\n",
            "-2123045\n",
            "-2123046\n",
            "-2123047\n",
            "-2123048\n",
            "-2123049\n",
            "-2123050\n",
            "-2123051\n",
            "-2123052\n",
            "-2123053\n",
            "-2123054\n",
            "-2123055\n",
            "-2123056\n",
            "-2123057\n",
            "-2123058\n",
            "-2123059\n",
            "-2123060\n",
            "-2123061\n",
            "-2123062\n",
            "-2123063\n",
            "-2123064\n",
            "-2123065\n",
            "-2123066\n",
            "-2123067\n",
            "-2123068\n",
            "-2123069\n",
            "-2123070\n",
            "-2123071\n",
            "-2123072\n",
            "-2123073\n",
            "-2123074\n",
            "-2123075\n",
            "-2123076\n",
            "-2123077\n",
            "-2123078\n",
            "-2123079\n",
            "-2123080\n",
            "-2123081\n",
            "-2123082\n",
            "-2123083\n",
            "-2123084\n",
            "-2123085\n",
            "-2123086\n",
            "-2123087\n",
            "-2123088\n",
            "-2123089\n",
            "-2123090\n",
            "-2123091\n",
            "-2123092\n",
            "-2123093\n",
            "-2123094\n",
            "-2123095\n",
            "-2123096\n",
            "-2123097\n",
            "-2123098\n",
            "-2123099\n",
            "-2123100\n",
            "-2123101\n",
            "-2123102\n",
            "-2123103\n",
            "-2123104\n",
            "-2123105\n",
            "-2123106\n",
            "-2123107\n",
            "-2123108\n",
            "-2123109\n",
            "-2123110\n",
            "-2123111\n",
            "-2123112\n",
            "-2123113\n",
            "-2123114\n",
            "-2123115\n",
            "-2123116\n",
            "-2123117\n",
            "-2123118\n",
            "-2123119\n",
            "-2123120\n",
            "-2123121\n",
            "-2123122\n",
            "-2123123\n",
            "-2123124\n",
            "-2123125\n",
            "-2123126\n",
            "-2123127\n",
            "-2123128\n",
            "-2123129\n",
            "-2123130\n",
            "-2123131\n",
            "-2123132\n",
            "-2123133\n",
            "-2123134\n",
            "-2123135\n",
            "-2123136\n",
            "-2123137\n",
            "-2123138\n",
            "-2123139\n",
            "-2123140\n",
            "-2123141\n",
            "-2123142\n",
            "-2123143\n",
            "-2123144\n",
            "-2123145\n",
            "-2123146\n",
            "-2123147\n",
            "-2123148\n",
            "-2123149\n",
            "-2123150\n",
            "-2123151\n",
            "-2123152\n",
            "-2123153\n",
            "-2123154\n",
            "-2123155\n",
            "-2123156\n",
            "-2123157\n",
            "-2123158\n",
            "-2123159\n",
            "-2123160\n",
            "-2123161\n",
            "-2123162\n",
            "-2123163\n",
            "-2123164\n",
            "-2123165\n",
            "-2123166\n",
            "-2123167\n",
            "-2123168\n",
            "-2123169\n",
            "-2123170\n",
            "-2123171\n",
            "-2123172\n",
            "-2123173\n",
            "-2123174\n",
            "-2123175\n",
            "-2123176\n",
            "-2123177\n",
            "-2123178\n",
            "-2123179\n",
            "-2123180\n",
            "-2123181\n",
            "-2123182\n",
            "-2123183\n",
            "-2123184\n",
            "-2123185\n",
            "-2123186\n",
            "-2123187\n",
            "-2123188\n",
            "-2123189\n",
            "-2123190\n",
            "-2123191\n",
            "-2123192\n",
            "-2123193\n",
            "-2123194\n",
            "-2123195\n",
            "-2123196\n",
            "-2123197\n",
            "-2123198\n",
            "-2123199\n",
            "-2123200\n",
            "-2123201\n",
            "-2123202\n",
            "-2123203\n",
            "-2123204\n",
            "-2123205\n",
            "-2123206\n",
            "-2123207\n",
            "-2123208\n",
            "-2123209\n",
            "-2123210\n",
            "-2123211\n",
            "-2123212\n",
            "-2123213\n",
            "-2123214\n",
            "-2123215\n",
            "-2123216\n",
            "-2123217\n",
            "-2123218\n",
            "-2123219\n",
            "-2123220\n",
            "-2123221\n",
            "-2123222\n",
            "-2123223\n",
            "-2123224\n",
            "-2123225\n",
            "-2123226\n",
            "-2123227\n",
            "-2123228\n",
            "-2123229\n",
            "-2123230\n",
            "-2123231\n",
            "-2123232\n",
            "-2123233\n",
            "-2123234\n",
            "-2123235\n",
            "-2123236\n",
            "-2123237\n",
            "-2123238\n",
            "-2123239\n",
            "-2123240\n",
            "-2123241\n",
            "-2123242\n",
            "-2123243\n",
            "-2123244\n",
            "-2123245\n",
            "-2123246\n",
            "-2123247\n",
            "-2123248\n",
            "-2123249\n",
            "-2123250\n",
            "-2123251\n",
            "-2123252\n",
            "-2123253\n",
            "-2123254\n",
            "-2123255\n",
            "-2123256\n",
            "-2123257\n",
            "-2123258\n",
            "-2123259\n",
            "-2123260\n",
            "-2123261\n",
            "-2123262\n",
            "-2123263\n",
            "-2123264\n",
            "-2123265\n",
            "-2123266\n",
            "-2123267\n",
            "-2123268\n",
            "-2123269\n",
            "-2123270\n",
            "-2123271\n",
            "-2123272\n",
            "-2123273\n",
            "-2123274\n",
            "-2123275\n",
            "-2123276\n",
            "-2123277\n",
            "-2123278\n",
            "-2123279\n",
            "-2123280\n",
            "-2123281\n",
            "-2123282\n",
            "-2123283\n",
            "-2123284\n",
            "-2123285\n",
            "-2123286\n",
            "-2123287\n",
            "-2123288\n",
            "-2123289\n",
            "-2123290\n",
            "-2123291\n",
            "-2123292\n",
            "-2123293\n",
            "-2123294\n",
            "-2123295\n",
            "-2123296\n",
            "-2123297\n",
            "-2123298\n",
            "-2123299\n",
            "-2123300\n",
            "-2123301\n",
            "-2123302\n",
            "-2123303\n",
            "-2123304\n",
            "-2123305\n",
            "-2123306\n",
            "-2123307\n",
            "-2123308\n",
            "-2123309\n",
            "-2123310\n",
            "-2123311\n",
            "-2123312\n",
            "-2123313\n",
            "-2123314\n",
            "-2123315\n",
            "-2123316\n",
            "-2123317\n",
            "-2123318\n",
            "-2123319\n",
            "-2123320\n",
            "-2123321\n",
            "-2123322\n",
            "-2123323\n",
            "-2123324\n",
            "-2123325\n",
            "-2123326\n",
            "-2123327\n",
            "-2123328\n",
            "-2123329\n",
            "-2123330\n",
            "-2123331\n",
            "-2123332\n",
            "-2123333\n",
            "-2123334\n",
            "-2123335\n",
            "-2123336\n",
            "-2123337\n",
            "-2123338\n",
            "-2123339\n",
            "-2123340\n",
            "-2123341\n",
            "-2123342\n",
            "-2123343\n",
            "-2123344\n",
            "-2123345\n",
            "-2123346\n",
            "-2123347\n",
            "-2123348\n",
            "-2123349\n",
            "-2123350\n",
            "-2123351\n",
            "-2123352\n",
            "-2123353\n",
            "-2123354\n",
            "-2123355\n",
            "-2123356\n",
            "-2123357\n",
            "-2123358\n",
            "-2123359\n",
            "-2123360\n",
            "-2123361\n",
            "-2123362\n",
            "-2123363\n",
            "-2123364\n",
            "-2123365\n",
            "-2123366\n",
            "-2123367\n",
            "-2123368\n",
            "-2123369\n",
            "-2123370\n",
            "-2123371\n",
            "-2123372\n",
            "-2123373\n",
            "-2123374\n",
            "-2123375\n",
            "-2123376\n",
            "-2123377\n",
            "-2123378\n",
            "-2123379\n",
            "-2123380\n",
            "-2123381\n",
            "-2123382\n",
            "-2123383\n",
            "-2123384\n",
            "-2123385\n",
            "-2123386\n",
            "-2123387\n",
            "-2123388\n",
            "-2123389\n",
            "-2123390\n",
            "-2123391\n",
            "-2123392\n",
            "-2123393\n",
            "-2123394\n",
            "-2123395\n",
            "-2123396\n",
            "-2123397\n",
            "-2123398\n",
            "-2123399\n",
            "-2123400\n",
            "-2123401\n",
            "-2123402\n",
            "-2123403\n",
            "-2123404\n",
            "-2123405\n",
            "-2123406\n",
            "-2123407\n",
            "-2123408\n",
            "-2123409\n",
            "-2123410\n",
            "-2123411\n",
            "-2123412\n",
            "-2123413\n",
            "-2123414\n",
            "-2123415\n",
            "-2123416\n",
            "-2123417\n",
            "-2123418\n",
            "-2123419\n",
            "-2123420\n",
            "-2123421\n",
            "-2123422\n",
            "-2123423\n",
            "-2123424\n",
            "-2123425\n",
            "-2123426\n",
            "-2123427\n",
            "-2123428\n",
            "-2123429\n",
            "-2123430\n",
            "-2123431\n",
            "-2123432\n",
            "-2123433\n",
            "-2123434\n",
            "-2123435\n",
            "-2123436\n",
            "-2123437\n",
            "-2123438\n",
            "-2123439\n",
            "-2123440\n",
            "-2123441\n",
            "-2123442\n",
            "-2123443\n",
            "-2123444\n",
            "-2123445\n",
            "-2123446\n",
            "-2123447\n",
            "-2123448\n",
            "-2123449\n",
            "-2123450\n",
            "-2123451\n",
            "-2123452\n",
            "-2123453\n",
            "-2123454\n",
            "-2123455\n",
            "-2123456\n",
            "-2123457\n",
            "-2123458\n",
            "-2123459\n",
            "-2123460\n",
            "-2123461\n",
            "-2123462\n",
            "-2123463\n",
            "-2123464\n",
            "-2123465\n",
            "-2123466\n",
            "-2123467\n",
            "-2123468\n",
            "-2123469\n",
            "-2123470\n",
            "-2123471\n",
            "-2123472\n",
            "-2123473\n",
            "-2123474\n",
            "-2123475\n",
            "-2123476\n",
            "-2123477\n",
            "-2123478\n",
            "-2123479\n",
            "-2123480\n",
            "-2123481\n",
            "-2123482\n",
            "-2123483\n",
            "-2123484\n",
            "-2123485\n",
            "-2123486\n",
            "-2123487\n",
            "-2123488\n",
            "-2123489\n",
            "-2123490\n",
            "-2123491\n",
            "-2123492\n",
            "-2123493\n",
            "-2123494\n",
            "-2123495\n",
            "-2123496\n",
            "-2123497\n",
            "-2123498\n",
            "-2123499\n",
            "-2123500\n",
            "-2123501\n",
            "-2123502\n",
            "-2123503\n",
            "-2123504\n",
            "-2123505\n",
            "-2123506\n",
            "-2123507\n",
            "-2123508\n",
            "-2123509\n",
            "-2123510\n",
            "-2123511\n",
            "-2123512\n",
            "-2123513\n",
            "-2123514\n",
            "-2123515\n",
            "-2123516\n",
            "-2123517\n",
            "-2123518\n",
            "-2123519\n",
            "-2123520\n",
            "-2123521\n",
            "-2123522\n",
            "-2123523\n",
            "-2123524\n",
            "-2123525\n",
            "-2123526\n",
            "-2123527\n",
            "-2123528\n",
            "-2123529\n",
            "-2123530\n",
            "-2123531\n",
            "-2123532\n",
            "-2123533\n",
            "-2123534\n",
            "-2123535\n",
            "-2123536\n",
            "-2123537\n",
            "-2123538\n",
            "-2123539\n",
            "-2123540\n",
            "-2123541\n",
            "-2123542\n",
            "-2123543\n",
            "-2123544\n",
            "-2123545\n",
            "-2123546\n",
            "-2123547\n",
            "-2123548\n",
            "-2123549\n",
            "-2123550\n",
            "-2123551\n",
            "-2123552\n",
            "-2123553\n",
            "-2123554\n",
            "-2123555\n",
            "-2123556\n",
            "-2123557\n",
            "-2123558\n",
            "-2123559\n",
            "-2123560\n",
            "-2123561\n",
            "-2123562\n",
            "-2123563\n",
            "-2123564\n",
            "-2123565\n",
            "-2123566\n",
            "-2123567\n",
            "-2123568\n",
            "-2123569\n",
            "-2123570\n",
            "-2123571\n",
            "-2123572\n",
            "-2123573\n",
            "-2123574\n",
            "-2123575\n",
            "-2123576\n",
            "-2123577\n",
            "-2123578\n",
            "-2123579\n",
            "-2123580\n",
            "-2123581\n",
            "-2123582\n",
            "-2123583\n",
            "-2123584\n",
            "-2123585\n",
            "-2123586\n",
            "-2123587\n",
            "-2123588\n",
            "-2123589\n",
            "-2123590\n",
            "-2123591\n",
            "-2123592\n",
            "-2123593\n",
            "-2123594\n",
            "-2123595\n",
            "-2123596\n",
            "-2123597\n",
            "-2123598\n",
            "-2123599\n",
            "-2123600\n",
            "-2123601\n",
            "-2123602\n",
            "-2123603\n",
            "-2123604\n",
            "-2123605\n",
            "-2123606\n",
            "-2123607\n",
            "-2123608\n",
            "-2123609\n",
            "-2123610\n",
            "-2123611\n",
            "-2123612\n",
            "-2123613\n",
            "-2123614\n",
            "-2123615\n",
            "-2123616\n",
            "-2123617\n",
            "-2123618\n",
            "-2123619\n",
            "-2123620\n",
            "-2123621\n",
            "-2123622\n",
            "-2123623\n",
            "-2123624\n",
            "-2123625\n",
            "-2123626\n",
            "-2123627\n",
            "-2123628\n",
            "-2123629\n",
            "-2123630\n",
            "-2123631\n",
            "-2123632\n",
            "-2123633\n",
            "-2123634\n",
            "-2123635\n",
            "-2123636\n",
            "-2123637\n",
            "-2123638\n",
            "-2123639\n",
            "-2123640\n",
            "-2123641\n",
            "-2123642\n",
            "-2123643\n",
            "-2123644\n",
            "-2123645\n",
            "-2123646\n",
            "-2123647\n",
            "-2123648\n",
            "-2123649\n",
            "-2123650\n",
            "-2123651\n",
            "-2123652\n",
            "-2123653\n",
            "-2123654\n",
            "-2123655\n",
            "-2123656\n",
            "-2123657\n",
            "-2123658\n",
            "-2123659\n",
            "-2123660\n",
            "-2123661\n",
            "-2123662\n",
            "-2123663\n",
            "-2123664\n",
            "-2123665\n",
            "-2123666\n",
            "-2123667\n",
            "-2123668\n",
            "-2123669\n",
            "-2123670\n",
            "-2123671\n",
            "-2123672\n",
            "-2123673\n",
            "-2123674\n",
            "-2123675\n",
            "-2123676\n",
            "-2123677\n",
            "-2123678\n",
            "-2123679\n",
            "-2123680\n",
            "-2123681\n",
            "-2123682\n",
            "-2123683\n",
            "-2123684\n",
            "-2123685\n",
            "-2123686\n",
            "-2123687\n",
            "-2123688\n",
            "-2123689\n",
            "-2123690\n",
            "-2123691\n",
            "-2123692\n",
            "-2123693\n",
            "-2123694\n",
            "-2123695\n",
            "-2123696\n",
            "-2123697\n",
            "-2123698\n",
            "-2123699\n",
            "-2123700\n",
            "-2123701\n",
            "-2123702\n",
            "-2123703\n",
            "-2123704\n",
            "-2123705\n",
            "-2123706\n",
            "-2123707\n",
            "-2123708\n",
            "-2123709\n",
            "-2123710\n",
            "-2123711\n",
            "-2123712\n",
            "-2123713\n",
            "-2123714\n",
            "-2123715\n",
            "-2123716\n",
            "-2123717\n",
            "-2123718\n",
            "-2123719\n",
            "-2123720\n",
            "-2123721\n",
            "-2123722\n",
            "-2123723\n",
            "-2123724\n",
            "-2123725\n",
            "-2123726\n",
            "-2123727\n",
            "-2123728\n",
            "-2123729\n",
            "-2123730\n",
            "-2123731\n",
            "-2123732\n",
            "-2123733\n",
            "-2123734\n",
            "-2123735\n",
            "-2123736\n",
            "-2123737\n",
            "-2123738\n",
            "-2123739\n",
            "-2123740\n",
            "-2123741\n",
            "-2123742\n",
            "-2123743\n",
            "-2123744\n",
            "-2123745\n",
            "-2123746\n",
            "-2123747\n",
            "-2123748\n",
            "-2123749\n",
            "-2123750\n",
            "-2123751\n",
            "-2123752\n",
            "-2123753\n",
            "-2123754\n",
            "-2123755\n",
            "-2123756\n",
            "-2123757\n",
            "-2123758\n",
            "-2123759\n",
            "-2123760\n",
            "-2123761\n",
            "-2123762\n",
            "-2123763\n",
            "-2123764\n",
            "-2123765\n",
            "-2123766\n",
            "-2123767\n",
            "-2123768\n",
            "-2123769\n",
            "-2123770\n",
            "-2123771\n",
            "-2123772\n",
            "-2123773\n",
            "-2123774\n",
            "-2123775\n",
            "-2123776\n",
            "-2123777\n",
            "-2123778\n",
            "-2123779\n",
            "-2123780\n",
            "-2123781\n",
            "-2123782\n",
            "-2123783\n",
            "-2123784\n",
            "-2123785\n",
            "-2123786\n",
            "-2123787\n",
            "-2123788\n",
            "-2123789\n",
            "-2123790\n",
            "-2123791\n",
            "-2123792\n",
            "-2123793\n",
            "-2123794\n",
            "-2123795\n",
            "-2123796\n",
            "-2123797\n",
            "-2123798\n",
            "-2123799\n",
            "-2123800\n",
            "-2123801\n",
            "-2123802\n",
            "-2123803\n",
            "-2123804\n",
            "-2123805\n",
            "-2123806\n",
            "-2123807\n",
            "-2123808\n",
            "-2123809\n",
            "-2123810\n",
            "-2123811\n",
            "-2123812\n",
            "-2123813\n",
            "-2123814\n",
            "-2123815\n",
            "-2123816\n",
            "-2123817\n",
            "-2123818\n",
            "-2123819\n",
            "-2123820\n",
            "-2123821\n",
            "-2123822\n",
            "-2123823\n",
            "-2123824\n",
            "-2123825\n",
            "-2123826\n",
            "-2123827\n",
            "-2123828\n",
            "-2123829\n",
            "-2123830\n",
            "-2123831\n",
            "-2123832\n",
            "-2123833\n",
            "-2123834\n",
            "-2123835\n",
            "-2123836\n",
            "-2123837\n",
            "-2123838\n",
            "-2123839\n",
            "-2123840\n",
            "-2123841\n",
            "-2123842\n",
            "-2123843\n",
            "-2123844\n",
            "-2123845\n",
            "-2123846\n",
            "-2123847\n",
            "-2123848\n",
            "-2123849\n",
            "-2123850\n",
            "-2123851\n",
            "-2123852\n",
            "-2123853\n",
            "-2123854\n",
            "-2123855\n",
            "-2123856\n",
            "-2123857\n",
            "-2123858\n",
            "-2123859\n",
            "-2123860\n",
            "-2123861\n",
            "-2123862\n",
            "-2123863\n",
            "-2123864\n",
            "-2123865\n",
            "-2123866\n",
            "-2123867\n",
            "-2123868\n",
            "-2123869\n",
            "-2123870\n",
            "-2123871\n",
            "-2123872\n",
            "-2123873\n",
            "-2123874\n",
            "-2123875\n",
            "-2123876\n",
            "-2123877\n",
            "-2123878\n",
            "-2123879\n",
            "-2123880\n",
            "-2123881\n",
            "-2123882\n",
            "-2123883\n",
            "-2123884\n",
            "-2123885\n",
            "-2123886\n",
            "-2123887\n",
            "-2123888\n",
            "-2123889\n",
            "-2123890\n",
            "-2123891\n",
            "-2123892\n",
            "-2123893\n",
            "-2123894\n",
            "-2123895\n",
            "-2123896\n",
            "-2123897\n",
            "-2123898\n",
            "-2123899\n",
            "-2123900\n",
            "-2123901\n",
            "-2123902\n",
            "-2123903\n",
            "-2123904\n",
            "-2123905\n",
            "-2123906\n",
            "-2123907\n",
            "-2123908\n",
            "-2123909\n",
            "-2123910\n",
            "-2123911\n",
            "-2123912\n",
            "-2123913\n",
            "-2123914\n",
            "-2123915\n",
            "-2123916\n",
            "-2123917\n",
            "-2123918\n",
            "-2123919\n",
            "-2123920\n",
            "-2123921\n",
            "-2123922\n",
            "-2123923\n",
            "-2123924\n",
            "-2123925\n",
            "-2123926\n",
            "-2123927\n",
            "-2123928\n",
            "-2123929\n",
            "-2123930\n",
            "-2123931\n",
            "-2123932\n",
            "-2123933\n",
            "-2123934\n",
            "-2123935\n",
            "-2123936\n",
            "-2123937\n",
            "-2123938\n",
            "-2123939\n",
            "-2123940\n",
            "-2123941\n",
            "-2123942\n",
            "-2123943\n",
            "-2123944\n",
            "-2123945\n",
            "-2123946\n",
            "-2123947\n",
            "-2123948\n",
            "-2123949\n",
            "-2123950\n",
            "-2123951\n",
            "-2123952\n",
            "-2123953\n",
            "-2123954\n",
            "-2123955\n",
            "-2123956\n",
            "-2123957\n",
            "-2123958\n",
            "-2123959\n",
            "-2123960\n",
            "-2123961\n",
            "-2123962\n",
            "-2123963\n",
            "-2123964\n",
            "-2123965\n",
            "-2123966\n",
            "-2123967\n",
            "-2123968\n",
            "-2123969\n",
            "-2123970\n",
            "-2123971\n",
            "-2123972\n",
            "-2123973\n",
            "-2123974\n",
            "-2123975\n",
            "-2123976\n",
            "-2123977\n",
            "-2123978\n",
            "-2123979\n",
            "-2123980\n",
            "-2123981\n",
            "-2123982\n",
            "-2123983\n",
            "-2123984\n",
            "-2123985\n",
            "-2123986\n",
            "-2123987\n",
            "-2123988\n",
            "-2123989\n",
            "-2123990\n",
            "-2123991\n",
            "-2123992\n",
            "-2123993\n",
            "-2123994\n",
            "-2123995\n",
            "-2123996\n",
            "-2123997\n",
            "-2123998\n",
            "-2123999\n",
            "-2124000\n",
            "-2124001\n",
            "-2124002\n",
            "-2124003\n",
            "-2124004\n",
            "-2124005\n",
            "-2124006\n",
            "-2124007\n",
            "-2124008\n",
            "-2124009\n",
            "-2124010\n",
            "-2124011\n",
            "-2124012\n",
            "-2124013\n",
            "-2124014\n",
            "-2124015\n",
            "-2124016\n",
            "-2124017\n",
            "-2124018\n",
            "-2124019\n",
            "-2124020\n",
            "-2124021\n",
            "-2124022\n",
            "-2124023\n",
            "-2124024\n",
            "-2124025\n",
            "-2124026\n",
            "-2124027\n",
            "-2124028\n",
            "-2124029\n",
            "-2124030\n",
            "-2124031\n",
            "-2124032\n",
            "-2124033\n",
            "-2124034\n",
            "-2124035\n",
            "-2124036\n",
            "-2124037\n",
            "-2124038\n",
            "-2124039\n",
            "-2124040\n",
            "-2124041\n",
            "-2124042\n",
            "-2124043\n",
            "-2124044\n",
            "-2124045\n",
            "-2124046\n",
            "-2124047\n",
            "-2124048\n",
            "-2124049\n",
            "-2124050\n",
            "-2124051\n",
            "-2124052\n",
            "-2124053\n",
            "-2124054\n",
            "-2124055\n",
            "-2124056\n",
            "-2124057\n",
            "-2124058\n",
            "-2124059\n",
            "-2124060\n",
            "-2124061\n",
            "-2124062\n",
            "-2124063\n",
            "-2124064\n",
            "-2124065\n",
            "-2124066\n",
            "-2124067\n",
            "-2124068\n",
            "-2124069\n",
            "-2124070\n",
            "-2124071\n",
            "-2124072\n",
            "-2124073\n",
            "-2124074\n",
            "-2124075\n",
            "-2124076\n",
            "-2124077\n",
            "-2124078\n",
            "-2124079\n",
            "-2124080\n",
            "-2124081\n",
            "-2124082\n",
            "-2124083\n",
            "-2124084\n",
            "-2124085\n",
            "-2124086\n",
            "-2124087\n",
            "-2124088\n",
            "-2124089\n",
            "-2124090\n",
            "-2124091\n",
            "-2124092\n",
            "-2124093\n",
            "-2124094\n",
            "-2124095\n",
            "-2124096\n",
            "-2124097\n",
            "-2124098\n",
            "-2124099\n",
            "-2124100\n",
            "-2124101\n",
            "-2124102\n",
            "-2124103\n",
            "-2124104\n",
            "-2124105\n",
            "-2124106\n",
            "-2124107\n",
            "-2124108\n",
            "-2124109\n",
            "-2124110\n",
            "-2124111\n",
            "-2124112\n",
            "-2124113\n",
            "-2124114\n",
            "-2124115\n",
            "-2124116\n",
            "-2124117\n",
            "-2124118\n",
            "-2124119\n",
            "-2124120\n",
            "-2124121\n",
            "-2124122\n",
            "-2124123\n",
            "-2124124\n",
            "-2124125\n",
            "-2124126\n",
            "-2124127\n",
            "-2124128\n",
            "-2124129\n",
            "-2124130\n",
            "-2124131\n",
            "-2124132\n",
            "-2124133\n",
            "-2124134\n",
            "-2124135\n",
            "-2124136\n",
            "-2124137\n",
            "-2124138\n",
            "-2124139\n",
            "-2124140\n",
            "-2124141\n",
            "-2124142\n",
            "-2124143\n",
            "-2124144\n",
            "-2124145\n",
            "-2124146\n",
            "-2124147\n",
            "-2124148\n",
            "-2124149\n",
            "-2124150\n",
            "-2124151\n",
            "-2124152\n",
            "-2124153\n",
            "-2124154\n",
            "-2124155\n",
            "-2124156\n",
            "-2124157\n",
            "-2124158\n",
            "-2124159\n",
            "-2124160\n",
            "-2124161\n",
            "-2124162\n",
            "-2124163\n",
            "-2124164\n",
            "-2124165\n",
            "-2124166\n",
            "-2124167\n",
            "-2124168\n",
            "-2124169\n",
            "-2124170\n",
            "-2124171\n",
            "-2124172\n",
            "-2124173\n",
            "-2124174\n",
            "-2124175\n",
            "-2124176\n",
            "-2124177\n",
            "-2124178\n",
            "-2124179\n",
            "-2124180\n",
            "-2124181\n",
            "-2124182\n",
            "-2124183\n",
            "-2124184\n",
            "-2124185\n",
            "-2124186\n",
            "-2124187\n",
            "-2124188\n",
            "-2124189\n",
            "-2124190\n",
            "-2124191\n",
            "-2124192\n",
            "-2124193\n",
            "-2124194\n",
            "-2124195\n",
            "-2124196\n",
            "-2124197\n",
            "-2124198\n",
            "-2124199\n",
            "-2124200\n",
            "-2124201\n",
            "-2124202\n",
            "-2124203\n",
            "-2124204\n",
            "-2124205\n",
            "-2124206\n",
            "-2124207\n",
            "-2124208\n",
            "-2124209\n",
            "-2124210\n",
            "-2124211\n",
            "-2124212\n",
            "-2124213\n",
            "-2124214\n",
            "-2124215\n",
            "-2124216\n",
            "-2124217\n",
            "-2124218\n",
            "-2124219\n",
            "-2124220\n",
            "-2124221\n",
            "-2124222\n",
            "-2124223\n",
            "-2124224\n",
            "-2124225\n",
            "-2124226\n",
            "-2124227\n",
            "-2124228\n",
            "-2124229\n",
            "-2124230\n",
            "-2124231\n",
            "-2124232\n",
            "-2124233\n",
            "-2124234\n",
            "-2124235\n",
            "-2124236\n",
            "-2124237\n",
            "-2124238\n",
            "-2124239\n",
            "-2124240\n",
            "-2124241\n",
            "-2124242\n",
            "-2124243\n",
            "-2124244\n",
            "-2124245\n",
            "-2124246\n",
            "-2124247\n",
            "-2124248\n",
            "-2124249\n",
            "-2124250\n",
            "-2124251\n",
            "-2124252\n",
            "-2124253\n",
            "-2124254\n",
            "-2124255\n",
            "-2124256\n",
            "-2124257\n",
            "-2124258\n",
            "-2124259\n",
            "-2124260\n",
            "-2124261\n",
            "-2124262\n",
            "-2124263\n",
            "-2124264\n",
            "-2124265\n",
            "-2124266\n",
            "-2124267\n",
            "-2124268\n",
            "-2124269\n",
            "-2124270\n",
            "-2124271\n",
            "-2124272\n",
            "-2124273\n",
            "-2124274\n",
            "-2124275\n",
            "-2124276\n",
            "-2124277\n",
            "-2124278\n",
            "-2124279\n",
            "-2124280\n",
            "-2124281\n",
            "-2124282\n",
            "-2124283\n",
            "-2124284\n",
            "-2124285\n",
            "-2124286\n",
            "-2124287\n",
            "-2124288\n",
            "-2124289\n",
            "-2124290\n",
            "-2124291\n",
            "-2124292\n",
            "-2124293\n",
            "-2124294\n",
            "-2124295\n",
            "-2124296\n",
            "-2124297\n",
            "-2124298\n",
            "-2124299\n",
            "-2124300\n",
            "-2124301\n",
            "-2124302\n",
            "-2124303\n",
            "-2124304\n",
            "-2124305\n",
            "-2124306\n",
            "-2124307\n",
            "-2124308\n",
            "-2124309\n",
            "-2124310\n",
            "-2124311\n",
            "-2124312\n",
            "-2124313\n",
            "-2124314\n",
            "-2124315\n",
            "-2124316\n",
            "-2124317\n",
            "-2124318\n",
            "-2124319\n",
            "-2124320\n",
            "-2124321\n",
            "-2124322\n",
            "-2124323\n",
            "-2124324\n",
            "-2124325\n",
            "-2124326\n",
            "-2124327\n",
            "-2124328\n",
            "-2124329\n",
            "-2124330\n",
            "-2124331\n",
            "-2124332\n",
            "-2124333\n",
            "-2124334\n",
            "-2124335\n",
            "-2124336\n",
            "-2124337\n",
            "-2124338\n",
            "-2124339\n",
            "-2124340\n",
            "-2124341\n",
            "-2124342\n",
            "-2124343\n",
            "-2124344\n",
            "-2124345\n",
            "-2124346\n",
            "-2124347\n",
            "-2124348\n",
            "-2124349\n",
            "-2124350\n",
            "-2124351\n",
            "-2124352\n",
            "-2124353\n",
            "-2124354\n",
            "-2124355\n",
            "-2124356\n",
            "-2124357\n",
            "-2124358\n",
            "-2124359\n",
            "-2124360\n",
            "-2124361\n",
            "-2124362\n",
            "-2124363\n",
            "-2124364\n",
            "-2124365\n",
            "-2124366\n",
            "-2124367\n",
            "-2124368\n",
            "-2124369\n",
            "-2124370\n",
            "-2124371\n",
            "-2124372\n",
            "-2124373\n",
            "-2124374\n",
            "-2124375\n",
            "-2124376\n",
            "-2124377\n",
            "-2124378\n",
            "-2124379\n",
            "-2124380\n",
            "-2124381\n",
            "-2124382\n",
            "-2124383\n",
            "-2124384\n",
            "-2124385\n",
            "-2124386\n",
            "-2124387\n",
            "-2124388\n",
            "-2124389\n",
            "-2124390\n",
            "-2124391\n",
            "-2124392\n",
            "-2124393\n",
            "-2124394\n",
            "-2124395\n",
            "-2124396\n",
            "-2124397\n",
            "-2124398\n",
            "-2124399\n",
            "-2124400\n",
            "-2124401\n",
            "-2124402\n",
            "-2124403\n",
            "-2124404\n",
            "-2124405\n",
            "-2124406\n",
            "-2124407\n",
            "-2124408\n",
            "-2124409\n",
            "-2124410\n",
            "-2124411\n",
            "-2124412\n",
            "-2124413\n",
            "-2124414\n",
            "-2124415\n",
            "-2124416\n",
            "-2124417\n",
            "-2124418\n",
            "-2124419\n",
            "-2124420\n",
            "-2124421\n",
            "-2124422\n",
            "-2124423\n",
            "-2124424\n",
            "-2124425\n",
            "-2124426\n",
            "-2124427\n",
            "-2124428\n",
            "-2124429\n",
            "-2124430\n",
            "-2124431\n",
            "-2124432\n",
            "-2124433\n",
            "-2124434\n",
            "-2124435\n",
            "-2124436\n",
            "-2124437\n",
            "-2124438\n",
            "-2124439\n",
            "-2124440\n",
            "-2124441\n",
            "-2124442\n",
            "-2124443\n",
            "-2124444\n",
            "-2124445\n",
            "-2124446\n",
            "-2124447\n",
            "-2124448\n",
            "-2124449\n",
            "-2124450\n",
            "-2124451\n",
            "-2124452\n",
            "-2124453\n",
            "-2124454\n",
            "-2124455\n",
            "-2124456\n",
            "-2124457\n",
            "-2124458\n",
            "-2124459\n",
            "-2124460\n",
            "-2124461\n",
            "-2124462\n",
            "-2124463\n",
            "-2124464\n",
            "-2124465\n",
            "-2124466\n",
            "-2124467\n",
            "-2124468\n",
            "-2124469\n",
            "-2124470\n",
            "-2124471\n",
            "-2124472\n",
            "-2124473\n",
            "-2124474\n",
            "-2124475\n",
            "-2124476\n",
            "-2124477\n",
            "-2124478\n",
            "-2124479\n",
            "-2124480\n",
            "-2124481\n",
            "-2124482\n",
            "-2124483\n",
            "-2124484\n",
            "-2124485\n",
            "-2124486\n",
            "-2124487\n",
            "-2124488\n",
            "-2124489\n",
            "-2124490\n",
            "-2124491\n",
            "-2124492\n",
            "-2124493\n",
            "-2124494\n",
            "-2124495\n",
            "-2124496\n",
            "-2124497\n",
            "-2124498\n",
            "-2124499\n",
            "-2124500\n",
            "-2124501\n",
            "-2124502\n",
            "-2124503\n",
            "-2124504\n",
            "-2124505\n",
            "-2124506\n",
            "-2124507\n",
            "-2124508\n",
            "-2124509\n",
            "-2124510\n",
            "-2124511\n",
            "-2124512\n",
            "-2124513\n",
            "-2124514\n",
            "-2124515\n",
            "-2124516\n",
            "-2124517\n",
            "-2124518\n",
            "-2124519\n",
            "-2124520\n",
            "-2124521\n",
            "-2124522\n",
            "-2124523\n",
            "-2124524\n",
            "-2124525\n",
            "-2124526\n",
            "-2124527\n",
            "-2124528\n",
            "-2124529\n",
            "-2124530\n",
            "-2124531\n",
            "-2124532\n",
            "-2124533\n",
            "-2124534\n",
            "-2124535\n",
            "-2124536\n",
            "-2124537\n",
            "-2124538\n",
            "-2124539\n",
            "-2124540\n",
            "-2124541\n",
            "-2124542\n",
            "-2124543\n",
            "-2124544\n",
            "-2124545\n",
            "-2124546\n",
            "-2124547\n",
            "-2124548\n",
            "-2124549\n",
            "-2124550\n",
            "-2124551\n",
            "-2124552\n",
            "-2124553\n",
            "-2124554\n",
            "-2124555\n",
            "-2124556\n",
            "-2124557\n",
            "-2124558\n",
            "-2124559\n",
            "-2124560\n",
            "-2124561\n",
            "-2124562\n",
            "-2124563\n",
            "-2124564\n",
            "-2124565\n",
            "-2124566\n",
            "-2124567\n",
            "-2124568\n",
            "-2124569\n",
            "-2124570\n",
            "-2124571\n",
            "-2124572\n",
            "-2124573\n",
            "-2124574\n",
            "-2124575\n",
            "-2124576\n",
            "-2124577\n",
            "-2124578\n",
            "-2124579\n",
            "-2124580\n",
            "-2124581\n",
            "-2124582\n",
            "-2124583\n",
            "-2124584\n",
            "-2124585\n",
            "-2124586\n",
            "-2124587\n",
            "-2124588\n",
            "-2124589\n",
            "-2124590\n",
            "-2124591\n",
            "-2124592\n",
            "-2124593\n",
            "-2124594\n",
            "-2124595\n",
            "-2124596\n",
            "-2124597\n",
            "-2124598\n",
            "-2124599\n",
            "-2124600\n",
            "-2124601\n",
            "-2124602\n",
            "-2124603\n",
            "-2124604\n",
            "-2124605\n",
            "-2124606\n",
            "-2124607\n",
            "-2124608\n",
            "-2124609\n",
            "-2124610\n",
            "-2124611\n",
            "-2124612\n",
            "-2124613\n",
            "-2124614\n",
            "-2124615\n",
            "-2124616\n",
            "-2124617\n",
            "-2124618\n",
            "-2124619\n",
            "-2124620\n",
            "-2124621\n",
            "-2124622\n",
            "-2124623\n",
            "-2124624\n",
            "-2124625\n",
            "-2124626\n",
            "-2124627\n",
            "-2124628\n",
            "-2124629\n",
            "-2124630\n",
            "-2124631\n",
            "-2124632\n",
            "-2124633\n",
            "-2124634\n",
            "-2124635\n",
            "-2124636\n",
            "-2124637\n",
            "-2124638\n",
            "-2124639\n",
            "-2124640\n",
            "-2124641\n",
            "-2124642\n",
            "-2124643\n",
            "-2124644\n",
            "-2124645\n",
            "-2124646\n",
            "-2124647\n",
            "-2124648\n",
            "-2124649\n",
            "-2124650\n",
            "-2124651\n",
            "-2124652\n",
            "-2124653\n",
            "-2124654\n",
            "-2124655\n",
            "-2124656\n",
            "-2124657\n",
            "-2124658\n",
            "-2124659\n",
            "-2124660\n",
            "-2124661\n",
            "-2124662\n",
            "-2124663\n",
            "-2124664\n",
            "-2124665\n",
            "-2124666\n",
            "-2124667\n",
            "-2124668\n",
            "-2124669\n",
            "-2124670\n",
            "-2124671\n",
            "-2124672\n",
            "-2124673\n",
            "-2124674\n",
            "-2124675\n",
            "-2124676\n",
            "-2124677\n",
            "-2124678\n",
            "-2124679\n",
            "-2124680\n",
            "-2124681\n",
            "-2124682\n",
            "-2124683\n",
            "-2124684\n",
            "-2124685\n",
            "-2124686\n",
            "-2124687\n",
            "-2124688\n",
            "-2124689\n",
            "-2124690\n",
            "-2124691\n",
            "-2124692\n",
            "-2124693\n",
            "-2124694\n",
            "-2124695\n",
            "-2124696\n",
            "-2124697\n",
            "-2124698\n",
            "-2124699\n",
            "-2124700\n",
            "-2124701\n",
            "-2124702\n",
            "-2124703\n",
            "-2124704\n",
            "-2124705\n",
            "-2124706\n",
            "-2124707\n",
            "-2124708\n",
            "-2124709\n",
            "-2124710\n",
            "-2124711\n",
            "-2124712\n",
            "-2124713\n",
            "-2124714\n",
            "-2124715\n",
            "-2124716\n",
            "-2124717\n",
            "-2124718\n",
            "-2124719\n",
            "-2124720\n",
            "-2124721\n",
            "-2124722\n",
            "-2124723\n",
            "-2124724\n",
            "-2124725\n",
            "-2124726\n",
            "-2124727\n",
            "-2124728\n",
            "-2124729\n",
            "-2124730\n",
            "-2124731\n",
            "-2124732\n",
            "-2124733\n",
            "-2124734\n",
            "-2124735\n",
            "-2124736\n",
            "-2124737\n",
            "-2124738\n",
            "-2124739\n",
            "-2124740\n",
            "-2124741\n",
            "-2124742\n",
            "-2124743\n",
            "-2124744\n",
            "-2124745\n",
            "-2124746\n",
            "-2124747\n",
            "-2124748\n",
            "-2124749\n",
            "-2124750\n",
            "-2124751\n",
            "-2124752\n",
            "-2124753\n",
            "-2124754\n",
            "-2124755\n",
            "-2124756\n",
            "-2124757\n",
            "-2124758\n",
            "-2124759\n",
            "-2124760\n",
            "-2124761\n",
            "-2124762\n",
            "-2124763\n",
            "-2124764\n",
            "-2124765\n",
            "-2124766\n",
            "-2124767\n",
            "-2124768\n",
            "-2124769\n",
            "-2124770\n",
            "-2124771\n",
            "-2124772\n",
            "-2124773\n",
            "-2124774\n",
            "-2124775\n",
            "-2124776\n",
            "-2124777\n",
            "-2124778\n",
            "-2124779\n",
            "-2124780\n",
            "-2124781\n",
            "-2124782\n",
            "-2124783\n",
            "-2124784\n",
            "-2124785\n",
            "-2124786\n",
            "-2124787\n",
            "-2124788\n",
            "-2124789\n",
            "-2124790\n",
            "-2124791\n",
            "-2124792\n",
            "-2124793\n",
            "-2124794\n",
            "-2124795\n",
            "-2124796\n",
            "-2124797\n",
            "-2124798\n",
            "-2124799\n",
            "-2124800\n",
            "-2124801\n",
            "-2124802\n",
            "-2124803\n",
            "-2124804\n",
            "-2124805\n",
            "-2124806\n",
            "-2124807\n",
            "-2124808\n",
            "-2124809\n",
            "-2124810\n",
            "-2124811\n",
            "-2124812\n",
            "-2124813\n",
            "-2124814\n",
            "-2124815\n",
            "-2124816\n",
            "-2124817\n",
            "-2124818\n",
            "-2124819\n",
            "-2124820\n",
            "-2124821\n",
            "-2124822\n",
            "-2124823\n",
            "-2124824\n",
            "-2124825\n",
            "-2124826\n",
            "-2124827\n",
            "-2124828\n",
            "-2124829\n",
            "-2124830\n",
            "-2124831\n",
            "-2124832\n",
            "-2124833\n",
            "-2124834\n",
            "-2124835\n",
            "-2124836\n",
            "-2124837\n",
            "-2124838\n",
            "-2124839\n",
            "-2124840\n",
            "-2124841\n",
            "-2124842\n",
            "-2124843\n",
            "-2124844\n",
            "-2124845\n",
            "-2124846\n",
            "-2124847\n",
            "-2124848\n",
            "-2124849\n",
            "-2124850\n",
            "-2124851\n",
            "-2124852\n",
            "-2124853\n",
            "-2124854\n",
            "-2124855\n",
            "-2124856\n",
            "-2124857\n",
            "-2124858\n",
            "-2124859\n",
            "-2124860\n",
            "-2124861\n",
            "-2124862\n",
            "-2124863\n",
            "-2124864\n",
            "-2124865\n",
            "-2124866\n",
            "-2124867\n",
            "-2124868\n",
            "-2124869\n",
            "-2124870\n",
            "-2124871\n",
            "-2124872\n",
            "-2124873\n",
            "-2124874\n",
            "-2124875\n",
            "-2124876\n",
            "-2124877\n",
            "-2124878\n",
            "-2124879\n",
            "-2124880\n",
            "-2124881\n",
            "-2124882\n",
            "-2124883\n",
            "-2124884\n",
            "-2124885\n",
            "-2124886\n",
            "-2124887\n",
            "-2124888\n",
            "-2124889\n",
            "-2124890\n",
            "-2124891\n",
            "-2124892\n",
            "-2124893\n",
            "-2124894\n",
            "-2124895\n",
            "-2124896\n",
            "-2124897\n",
            "-2124898\n",
            "-2124899\n",
            "-2124900\n",
            "-2124901\n",
            "-2124902\n",
            "-2124903\n",
            "-2124904\n",
            "-2124905\n",
            "-2124906\n",
            "-2124907\n",
            "-2124908\n",
            "-2124909\n",
            "-2124910\n",
            "-2124911\n",
            "-2124912\n",
            "-2124913\n",
            "-2124914\n",
            "-2124915\n",
            "-2124916\n",
            "-2124917\n",
            "-2124918\n",
            "-2124919\n",
            "-2124920\n",
            "-2124921\n",
            "-2124922\n",
            "-2124923\n",
            "-2124924\n",
            "-2124925\n",
            "-2124926\n",
            "-2124927\n",
            "-2124928\n",
            "-2124929\n",
            "-2124930\n",
            "-2124931\n",
            "-2124932\n",
            "-2124933\n",
            "-2124934\n",
            "-2124935\n",
            "-2124936\n",
            "-2124937\n",
            "-2124938\n",
            "-2124939\n",
            "-2124940\n",
            "-2124941\n",
            "-2124942\n",
            "-2124943\n",
            "-2124944\n",
            "-2124945\n",
            "-2124946\n",
            "-2124947\n",
            "-2124948\n",
            "-2124949\n",
            "-2124950\n",
            "-2124951\n",
            "-2124952\n",
            "-2124953\n",
            "-2124954\n",
            "-2124955\n",
            "-2124956\n",
            "-2124957\n",
            "-2124958\n",
            "-2124959\n",
            "-2124960\n",
            "-2124961\n",
            "-2124962\n",
            "-2124963\n",
            "-2124964\n",
            "-2124965\n",
            "-2124966\n",
            "-2124967\n",
            "-2124968\n",
            "-2124969\n",
            "-2124970\n",
            "-2124971\n",
            "-2124972\n",
            "-2124973\n",
            "-2124974\n",
            "-2124975\n",
            "-2124976\n",
            "-2124977\n",
            "-2124978\n",
            "-2124979\n",
            "-2124980\n",
            "-2124981\n",
            "-2124982\n",
            "-2124983\n",
            "-2124984\n",
            "-2124985\n",
            "-2124986\n",
            "-2124987\n",
            "-2124988\n",
            "-2124989\n",
            "-2124990\n",
            "-2124991\n",
            "-2124992\n",
            "-2124993\n",
            "-2124994\n",
            "-2124995\n",
            "-2124996\n",
            "-2124997\n",
            "-2124998\n",
            "-2124999\n",
            "-2125000\n",
            "-2125001\n",
            "-2125002\n",
            "-2125003\n",
            "-2125004\n",
            "-2125005\n",
            "-2125006\n",
            "-2125007\n",
            "-2125008\n",
            "-2125009\n",
            "-2125010\n",
            "-2125011\n",
            "-2125012\n",
            "-2125013\n",
            "-2125014\n",
            "-2125015\n",
            "-2125016\n",
            "-2125017\n",
            "-2125018\n",
            "-2125019\n",
            "-2125020\n",
            "-2125021\n",
            "-2125022\n",
            "-2125023\n",
            "-2125024\n",
            "-2125025\n",
            "-2125026\n",
            "-2125027\n",
            "-2125028\n",
            "-2125029\n",
            "-2125030\n",
            "-2125031\n",
            "-2125032\n",
            "-2125033\n",
            "-2125034\n",
            "-2125035\n",
            "-2125036\n",
            "-2125037\n",
            "-2125038\n",
            "-2125039\n",
            "-2125040\n",
            "-2125041\n",
            "-2125042\n",
            "-2125043\n",
            "-2125044\n",
            "-2125045\n",
            "-2125046\n",
            "-2125047\n",
            "-2125048\n",
            "-2125049\n",
            "-2125050\n",
            "-2125051\n",
            "-2125052\n",
            "-2125053\n",
            "-2125054\n",
            "-2125055\n",
            "-2125056\n",
            "-2125057\n",
            "-2125058\n",
            "-2125059\n",
            "-2125060\n",
            "-2125061\n",
            "-2125062\n",
            "-2125063\n",
            "-2125064\n",
            "-2125065\n",
            "-2125066\n",
            "-2125067\n",
            "-2125068\n",
            "-2125069\n",
            "-2125070\n",
            "-2125071\n",
            "-2125072\n",
            "-2125073\n",
            "-2125074\n",
            "-2125075\n",
            "-2125076\n",
            "-2125077\n",
            "-2125078\n",
            "-2125079\n",
            "-2125080\n",
            "-2125081\n",
            "-2125082\n",
            "-2125083\n",
            "-2125084\n",
            "-2125085\n",
            "-2125086\n",
            "-2125087\n",
            "-2125088\n",
            "-2125089\n",
            "-2125090\n",
            "-2125091\n",
            "-2125092\n",
            "-2125093\n",
            "-2125094\n",
            "-2125095\n",
            "-2125096\n",
            "-2125097\n",
            "-2125098\n",
            "-2125099\n",
            "-2125100\n",
            "-2125101\n",
            "-2125102\n",
            "-2125103\n",
            "-2125104\n",
            "-2125105\n",
            "-2125106\n",
            "-2125107\n",
            "-2125108\n",
            "-2125109\n",
            "-2125110\n",
            "-2125111\n",
            "-2125112\n",
            "-2125113\n",
            "-2125114\n",
            "-2125115\n",
            "-2125116\n",
            "-2125117\n",
            "-2125118\n",
            "-2125119\n",
            "-2125120\n",
            "-2125121\n",
            "-2125122\n",
            "-2125123\n",
            "-2125124\n",
            "-2125125\n",
            "-2125126\n",
            "-2125127\n",
            "-2125128\n",
            "-2125129\n",
            "-2125130\n",
            "-2125131\n",
            "-2125132\n",
            "-2125133\n",
            "-2125134\n",
            "-2125135\n",
            "-2125136\n",
            "-2125137\n",
            "-2125138\n",
            "-2125139\n",
            "-2125140\n",
            "-2125141\n",
            "-2125142\n",
            "-2125143\n",
            "-2125144\n",
            "-2125145\n",
            "-2125146\n",
            "-2125147\n",
            "-2125148\n",
            "-2125149\n",
            "-2125150\n",
            "-2125151\n",
            "-2125152\n",
            "-2125153\n",
            "-2125154\n",
            "-2125155\n",
            "-2125156\n",
            "-2125157\n",
            "-2125158\n",
            "-2125159\n",
            "-2125160\n",
            "-2125161\n",
            "-2125162\n",
            "-2125163\n",
            "-2125164\n",
            "-2125165\n",
            "-2125166\n",
            "-2125167\n",
            "-2125168\n",
            "-2125169\n",
            "-2125170\n",
            "-2125171\n",
            "-2125172\n",
            "-2125173\n",
            "-2125174\n",
            "-2125175\n",
            "-2125176\n",
            "-2125177\n",
            "-2125178\n",
            "-2125179\n",
            "-2125180\n",
            "-2125181\n",
            "-2125182\n",
            "-2125183\n",
            "-2125184\n",
            "-2125185\n",
            "-2125186\n",
            "-2125187\n",
            "-2125188\n",
            "-2125189\n",
            "-2125190\n",
            "-2125191\n",
            "-2125192\n",
            "-2125193\n",
            "-2125194\n",
            "-2125195\n",
            "-2125196\n",
            "-2125197\n",
            "-2125198\n",
            "-2125199\n",
            "-2125200\n",
            "-2125201\n",
            "-2125202\n",
            "-2125203\n",
            "-2125204\n",
            "-2125205\n",
            "-2125206\n",
            "-2125207\n",
            "-2125208\n",
            "-2125209\n",
            "-2125210\n",
            "-2125211\n",
            "-2125212\n",
            "-2125213\n",
            "-2125214\n",
            "-2125215\n",
            "-2125216\n",
            "-2125217\n",
            "-2125218\n",
            "-2125219\n",
            "-2125220\n",
            "-2125221\n",
            "-2125222\n",
            "-2125223\n",
            "-2125224\n",
            "-2125225\n",
            "-2125226\n",
            "-2125227\n",
            "-2125228\n",
            "-2125229\n",
            "-2125230\n",
            "-2125231\n",
            "-2125232\n",
            "-2125233\n",
            "-2125234\n",
            "-2125235\n",
            "-2125236\n",
            "-2125237\n",
            "-2125238\n",
            "-2125239\n",
            "-2125240\n",
            "-2125241\n",
            "-2125242\n",
            "-2125243\n",
            "-2125244\n",
            "-2125245\n",
            "-2125246\n",
            "-2125247\n",
            "-2125248\n",
            "-2125249\n",
            "-2125250\n",
            "-2125251\n",
            "-2125252\n",
            "-2125253\n",
            "-2125254\n",
            "-2125255\n",
            "-2125256\n",
            "-2125257\n",
            "-2125258\n",
            "-2125259\n",
            "-2125260\n",
            "-2125261\n",
            "-2125262\n",
            "-2125263\n",
            "-2125264\n",
            "-2125265\n",
            "-2125266\n",
            "-2125267\n",
            "-2125268\n",
            "-2125269\n",
            "-2125270\n",
            "-2125271\n",
            "-2125272\n",
            "-2125273\n",
            "-2125274\n",
            "-2125275\n",
            "-2125276\n",
            "-2125277\n",
            "-2125278\n",
            "-2125279\n",
            "-2125280\n",
            "-2125281\n",
            "-2125282\n",
            "-2125283\n",
            "-2125284\n",
            "-2125285\n",
            "-2125286\n",
            "-2125287\n",
            "-2125288\n",
            "-2125289\n",
            "-2125290\n",
            "-2125291\n",
            "-2125292\n",
            "-2125293\n",
            "-2125294\n",
            "-2125295\n",
            "-2125296\n",
            "-2125297\n",
            "-2125298\n",
            "-2125299\n",
            "-2125300\n",
            "-2125301\n",
            "-2125302\n",
            "-2125303\n",
            "-2125304\n",
            "-2125305\n",
            "-2125306\n",
            "-2125307\n",
            "-2125308\n",
            "-2125309\n",
            "-2125310\n",
            "-2125311\n",
            "-2125312\n",
            "-2125313\n",
            "-2125314\n",
            "-2125315\n",
            "-2125316\n",
            "-2125317\n",
            "-2125318\n",
            "-2125319\n",
            "-2125320\n",
            "-2125321\n",
            "-2125322\n",
            "-2125323\n",
            "-2125324\n",
            "-2125325\n",
            "-2125326\n",
            "-2125327\n",
            "-2125328\n",
            "-2125329\n",
            "-2125330\n",
            "-2125331\n",
            "-2125332\n",
            "-2125333\n",
            "-2125334\n",
            "-2125335\n",
            "-2125336\n",
            "-2125337\n",
            "-2125338\n",
            "-2125339\n",
            "-2125340\n",
            "-2125341\n",
            "-2125342\n",
            "-2125343\n",
            "-2125344\n",
            "-2125345\n",
            "-2125346\n",
            "-2125347\n",
            "-2125348\n",
            "-2125349\n",
            "-2125350\n",
            "-2125351\n",
            "-2125352\n",
            "-2125353\n",
            "-2125354\n",
            "-2125355\n",
            "-2125356\n",
            "-2125357\n",
            "-2125358\n",
            "-2125359\n",
            "-2125360\n",
            "-2125361\n",
            "-2125362\n",
            "-2125363\n",
            "-2125364\n",
            "-2125365\n",
            "-2125366\n",
            "-2125367\n",
            "-2125368\n",
            "-2125369\n",
            "-2125370\n",
            "-2125371\n",
            "-2125372\n",
            "-2125373\n",
            "-2125374\n",
            "-2125375\n",
            "-2125376\n",
            "-2125377\n",
            "-2125378\n",
            "-2125379\n",
            "-2125380\n",
            "-2125381\n",
            "-2125382\n",
            "-2125383\n",
            "-2125384\n",
            "-2125385\n",
            "-2125386\n",
            "-2125387\n",
            "-2125388\n",
            "-2125389\n",
            "-2125390\n",
            "-2125391\n",
            "-2125392\n",
            "-2125393\n",
            "-2125394\n",
            "-2125395\n",
            "-2125396\n",
            "-2125397\n",
            "-2125398\n",
            "-2125399\n",
            "-2125400\n",
            "-2125401\n",
            "-2125402\n",
            "-2125403\n",
            "-2125404\n",
            "-2125405\n",
            "-2125406\n",
            "-2125407\n",
            "-2125408\n",
            "-2125409\n",
            "-2125410\n",
            "-2125411\n",
            "-2125412\n",
            "-2125413\n",
            "-2125414\n",
            "-2125415\n",
            "-2125416\n",
            "-2125417\n",
            "-2125418\n",
            "-2125419\n",
            "-2125420\n",
            "-2125421\n",
            "-2125422\n",
            "-2125423\n",
            "-2125424\n",
            "-2125425\n",
            "-2125426\n",
            "-2125427\n",
            "-2125428\n",
            "-2125429\n",
            "-2125430\n",
            "-2125431\n",
            "-2125432\n",
            "-2125433\n",
            "-2125434\n",
            "-2125435\n",
            "-2125436\n",
            "-2125437\n",
            "-2125438\n",
            "-2125439\n",
            "-2125440\n",
            "-2125441\n",
            "-2125442\n",
            "-2125443\n",
            "-2125444\n",
            "-2125445\n",
            "-2125446\n",
            "-2125447\n",
            "-2125448\n",
            "-2125449\n",
            "-2125450\n",
            "-2125451\n",
            "-2125452\n",
            "-2125453\n",
            "-2125454\n",
            "-2125455\n",
            "-2125456\n",
            "-2125457\n",
            "-2125458\n",
            "-2125459\n",
            "-2125460\n",
            "-2125461\n",
            "-2125462\n",
            "-2125463\n",
            "-2125464\n",
            "-2125465\n",
            "-2125466\n",
            "-2125467\n",
            "-2125468\n",
            "-2125469\n",
            "-2125470\n",
            "-2125471\n",
            "-2125472\n",
            "-2125473\n",
            "-2125474\n",
            "-2125475\n",
            "-2125476\n",
            "-2125477\n",
            "-2125478\n",
            "-2125479\n",
            "-2125480\n",
            "-2125481\n",
            "-2125482\n",
            "-2125483\n",
            "-2125484\n",
            "-2125485\n",
            "-2125486\n",
            "-2125487\n",
            "-2125488\n",
            "-2125489\n",
            "-2125490\n",
            "-2125491\n",
            "-2125492\n",
            "-2125493\n",
            "-2125494\n",
            "-2125495\n",
            "-2125496\n",
            "-2125497\n",
            "-2125498\n",
            "-2125499\n",
            "-2125500\n",
            "-2125501\n",
            "-2125502\n",
            "-2125503\n",
            "-2125504\n",
            "-2125505\n",
            "-2125506\n",
            "-2125507\n",
            "-2125508\n",
            "-2125509\n",
            "-2125510\n",
            "-2125511\n",
            "-2125512\n",
            "-2125513\n",
            "-2125514\n"
          ]
        }
      ]
    },
    {
      "cell_type": "code",
      "source": [
        "#Tell a string weather it is palidrome or not input() and conditional statments?\n",
        "x = input()\n",
        "x_rev =x[::-1]\n",
        "print(f'rev of string {x_rev}')\n",
        "if x.lower() == x_rev.lower():\n",
        "  print(f'{x} is palindrome')\n",
        "else:\n",
        "   print(f'{x} is not palindrome')"
      ],
      "metadata": {
        "id": "h4VyJdsNlUoV"
      },
      "execution_count": null,
      "outputs": []
    },
    {
      "cell_type": "code",
      "source": [
        "#write the above program in single line:"
      ],
      "metadata": {
        "id": "3jq4dMFnFlPG"
      },
      "execution_count": null,
      "outputs": []
    },
    {
      "cell_type": "code",
      "source": [
        "#write a program to print multiples of 2 in a given list?\n",
        "number = [1,2,3,4,5,6] #--->[2,4,6,8,10,12]\n",
        "print(number*2)"
      ],
      "metadata": {
        "colab": {
          "base_uri": "https://localhost:8080/"
        },
        "id": "URsH8xQZF1VC",
        "outputId": "23db9dbb-170d-4025-cee3-d1ecd360c407"
      },
      "execution_count": null,
      "outputs": [
        {
          "output_type": "stream",
          "name": "stdout",
          "text": [
            "[1, 2, 3, 4, 5, 6, 1, 2, 3, 4, 5, 6]\n"
          ]
        }
      ]
    },
    {
      "cell_type": "code",
      "source": [
        "#for loop:>- runs a set of instructions over the collection\n",
        "number = [1,2,3,4,5,6]\n",
        "for i in number:\n",
        "  print(i*2)"
      ],
      "metadata": {
        "colab": {
          "base_uri": "https://localhost:8080/"
        },
        "id": "qsUuNCjmF7eC",
        "outputId": "c4337786-1c0a-494e-a150-fcd9030a2753"
      },
      "execution_count": null,
      "outputs": [
        {
          "output_type": "stream",
          "name": "stdout",
          "text": [
            "2\n",
            "4\n",
            "6\n",
            "8\n",
            "10\n",
            "12\n"
          ]
        }
      ]
    },
    {
      "cell_type": "code",
      "source": [
        "# print \"hello world\" in separate lines in use for loop?\n",
        "x = \"hello world \"\n",
        "for i in x:\n",
        "  print(i)\n"
      ],
      "metadata": {
        "id": "zmCJv0Ppn_2o"
      },
      "execution_count": null,
      "outputs": []
    },
    {
      "cell_type": "code",
      "source": [
        "number = [1,2,3,4,5,6]\n",
        "for i in number:\n",
        "  print(\"this loop runs\")\n",
        "  print(\"every value\")\n",
        "  print('===================')"
      ],
      "metadata": {
        "colab": {
          "base_uri": "https://localhost:8080/"
        },
        "id": "OJD26Iv6GD5d",
        "outputId": "fa2add3e-c20c-43da-c8ff-559d3fc14538"
      },
      "execution_count": null,
      "outputs": [
        {
          "output_type": "stream",
          "name": "stdout",
          "text": [
            "this loop runs\n",
            "every value\n",
            "===================\n",
            "this loop runs\n",
            "every value\n",
            "===================\n",
            "this loop runs\n",
            "every value\n",
            "===================\n",
            "this loop runs\n",
            "every value\n",
            "===================\n",
            "this loop runs\n",
            "every value\n",
            "===================\n",
            "this loop runs\n",
            "every value\n",
            "===================\n"
          ]
        }
      ]
    },
    {
      "cell_type": "code",
      "source": [
        "#print \"hello world\" in separate lines use for loop?\n",
        "x = \"hello world\"\n",
        "for i in x:\n",
        "  print(i)"
      ],
      "metadata": {
        "colab": {
          "base_uri": "https://localhost:8080/"
        },
        "id": "ETF56V-QGNvO",
        "outputId": "4afa97e7-f2b5-45c9-8d15-b0e91db2f46b"
      },
      "execution_count": null,
      "outputs": [
        {
          "output_type": "stream",
          "name": "stdout",
          "text": [
            "h\n",
            "e\n",
            "l\n",
            "l\n",
            "o\n",
            " \n",
            "w\n",
            "o\n",
            "r\n",
            "l\n",
            "d\n"
          ]
        }
      ]
    },
    {
      "cell_type": "code",
      "source": [
        "#Break and continue\n",
        "#break:it will stops entore loops irrespective of items in collections.\n",
        "number = [1,2,3,4,5,6]\n",
        "#break the loop at 2\n",
        "for i in number:\n",
        "\n",
        "  if i == 2:\n",
        "    break\n",
        "  print(i)"
      ],
      "metadata": {
        "colab": {
          "base_uri": "https://localhost:8080/"
        },
        "id": "TLGPobEYGcZa",
        "outputId": "61dccd04-ecbe-41fe-c36f-2522eded5389"
      },
      "execution_count": null,
      "outputs": [
        {
          "output_type": "stream",
          "name": "stdout",
          "text": [
            "1\n"
          ]
        }
      ]
    },
    {
      "cell_type": "code",
      "source": [
        "#continue: when you want to skip a current loop and move to the next loop\n",
        "number = [1,2,3,4,5,6]\n",
        "for x in number:\n",
        "  if x == 3:\n",
        "    continue\n",
        "  print(x)"
      ],
      "metadata": {
        "colab": {
          "base_uri": "https://localhost:8080/"
        },
        "id": "EMwPjGbVGmXA",
        "outputId": "8276ffe7-05a7-4690-f0a0-fbaa7dd57ad6"
      },
      "execution_count": null,
      "outputs": [
        {
          "output_type": "stream",
          "name": "stdout",
          "text": [
            "1\n",
            "2\n",
            "4\n",
            "5\n",
            "6\n"
          ]
        }
      ]
    },
    {
      "cell_type": "code",
      "source": [
        "a = [10,20,30,40,50,60,70,80,90]\n",
        "#skip 30,50and 70:\n",
        "for i in a:\n",
        "  if i == 30 or i == 50 or i == 70:\n",
        "    continue\n",
        "  print(i)"
      ],
      "metadata": {
        "colab": {
          "base_uri": "https://localhost:8080/"
        },
        "id": "Vx7FpzMQGx_N",
        "outputId": "42764e18-aa87-4ee4-ccd5-a066249e4e28"
      },
      "execution_count": null,
      "outputs": [
        {
          "output_type": "stream",
          "name": "stdout",
          "text": [
            "10\n",
            "20\n",
            "40\n",
            "60\n",
            "80\n",
            "90\n"
          ]
        }
      ]
    },
    {
      "cell_type": "code",
      "source": [
        "#Range(end):\n",
        "for i in range(100):\n",
        "  print(i)"
      ],
      "metadata": {
        "colab": {
          "base_uri": "https://localhost:8080/"
        },
        "id": "EDCaI-ScHOZS",
        "outputId": "2996f94d-cc4e-4f38-9132-ac93eab26b90"
      },
      "execution_count": null,
      "outputs": [
        {
          "output_type": "stream",
          "name": "stdout",
          "text": [
            "0\n",
            "1\n",
            "2\n",
            "3\n",
            "4\n",
            "5\n",
            "6\n",
            "7\n",
            "8\n",
            "9\n",
            "10\n",
            "11\n",
            "12\n",
            "13\n",
            "14\n",
            "15\n",
            "16\n",
            "17\n",
            "18\n",
            "19\n",
            "20\n",
            "21\n",
            "22\n",
            "23\n",
            "24\n",
            "25\n",
            "26\n",
            "27\n",
            "28\n",
            "29\n",
            "30\n",
            "31\n",
            "32\n",
            "33\n",
            "34\n",
            "35\n",
            "36\n",
            "37\n",
            "38\n",
            "39\n",
            "40\n",
            "41\n",
            "42\n",
            "43\n",
            "44\n",
            "45\n",
            "46\n",
            "47\n",
            "48\n",
            "49\n",
            "50\n",
            "51\n",
            "52\n",
            "53\n",
            "54\n",
            "55\n",
            "56\n",
            "57\n",
            "58\n",
            "59\n",
            "60\n",
            "61\n",
            "62\n",
            "63\n",
            "64\n",
            "65\n",
            "66\n",
            "67\n",
            "68\n",
            "69\n",
            "70\n",
            "71\n",
            "72\n",
            "73\n",
            "74\n",
            "75\n",
            "76\n",
            "77\n",
            "78\n",
            "79\n",
            "80\n",
            "81\n",
            "82\n",
            "83\n",
            "84\n",
            "85\n",
            "86\n",
            "87\n",
            "88\n",
            "89\n",
            "90\n",
            "91\n",
            "92\n",
            "93\n",
            "94\n",
            "95\n",
            "96\n",
            "97\n",
            "98\n",
            "99\n"
          ]
        }
      ]
    },
    {
      "cell_type": "code",
      "source": [
        "#print even numberbs till range of 100\n",
        "for i in range(100):\n",
        "  if i % 2 == 0:\n",
        "    print(i)"
      ],
      "metadata": {
        "colab": {
          "base_uri": "https://localhost:8080/"
        },
        "id": "9En7cy_ZHSPa",
        "outputId": "9e2e6779-ad5e-43c8-9542-6dd94915d82d"
      },
      "execution_count": null,
      "outputs": [
        {
          "output_type": "stream",
          "name": "stdout",
          "text": [
            "0\n",
            "2\n",
            "4\n",
            "6\n",
            "8\n",
            "10\n",
            "12\n",
            "14\n",
            "16\n",
            "18\n",
            "20\n",
            "22\n",
            "24\n",
            "26\n",
            "28\n",
            "30\n",
            "32\n",
            "34\n",
            "36\n",
            "38\n",
            "40\n",
            "42\n",
            "44\n",
            "46\n",
            "48\n",
            "50\n",
            "52\n",
            "54\n",
            "56\n",
            "58\n",
            "60\n",
            "62\n",
            "64\n",
            "66\n",
            "68\n",
            "70\n",
            "72\n",
            "74\n",
            "76\n",
            "78\n",
            "80\n",
            "82\n",
            "84\n",
            "86\n",
            "88\n",
            "90\n",
            "92\n",
            "94\n",
            "96\n",
            "98\n"
          ]
        }
      ]
    },
    {
      "cell_type": "code",
      "source": [
        "#print \"hello world\" in 10 times?\n",
        "\n",
        "for x in range(10):\n",
        "  print(\"hello world!\")"
      ],
      "metadata": {
        "id": "jX0pr-asrj9G",
        "colab": {
          "base_uri": "https://localhost:8080/"
        },
        "outputId": "a8b033bd-2b5d-457c-d562-332002b3256d"
      },
      "execution_count": null,
      "outputs": [
        {
          "output_type": "stream",
          "name": "stdout",
          "text": [
            "hello world!\n",
            "hello world!\n",
            "hello world!\n",
            "hello world!\n",
            "hello world!\n",
            "hello world!\n",
            "hello world!\n",
            "hello world!\n",
            "hello world!\n",
            "hello world!\n"
          ]
        }
      ]
    },
    {
      "cell_type": "code",
      "source": [
        "#range(star:end)\n",
        "for i in range(2,10):\n",
        "  print(i)"
      ],
      "metadata": {
        "colab": {
          "base_uri": "https://localhost:8080/"
        },
        "id": "lppFJ5yvHt-a",
        "outputId": "8d4a816b-a282-43c1-b1b8-a98d41b85653"
      },
      "execution_count": null,
      "outputs": [
        {
          "output_type": "stream",
          "name": "stdout",
          "text": [
            "2\n",
            "3\n",
            "4\n",
            "5\n",
            "6\n",
            "7\n",
            "8\n",
            "9\n"
          ]
        }
      ]
    },
    {
      "cell_type": "code",
      "source": [
        "#range(start:end:step)\n",
        "for i in range(0,100,2):\n",
        "  print(i)"
      ],
      "metadata": {
        "id": "PNRtfiAzsGY7",
        "colab": {
          "base_uri": "https://localhost:8080/"
        },
        "outputId": "874be95c-37a5-499e-83ad-1a95eefd7c56"
      },
      "execution_count": null,
      "outputs": [
        {
          "output_type": "stream",
          "name": "stdout",
          "text": [
            "0\n",
            "2\n",
            "4\n",
            "6\n",
            "8\n",
            "10\n",
            "12\n",
            "14\n",
            "16\n",
            "18\n",
            "20\n",
            "22\n",
            "24\n",
            "26\n",
            "28\n",
            "30\n",
            "32\n",
            "34\n",
            "36\n",
            "38\n",
            "40\n",
            "42\n",
            "44\n",
            "46\n",
            "48\n",
            "50\n",
            "52\n",
            "54\n",
            "56\n",
            "58\n",
            "60\n",
            "62\n",
            "64\n",
            "66\n",
            "68\n",
            "70\n",
            "72\n",
            "74\n",
            "76\n",
            "78\n",
            "80\n",
            "82\n",
            "84\n",
            "86\n",
            "88\n",
            "90\n",
            "92\n",
            "94\n",
            "96\n",
            "98\n"
          ]
        }
      ]
    },
    {
      "cell_type": "code",
      "source": [
        "x = \"hello world\"\n",
        "for a in range(len(x)):\n",
        "  print(x[a])"
      ],
      "metadata": {
        "colab": {
          "base_uri": "https://localhost:8080/"
        },
        "id": "Lu-P7c79H-NA",
        "outputId": "3fca9131-3131-4eb2-bad6-9ab458251090"
      },
      "execution_count": null,
      "outputs": [
        {
          "output_type": "stream",
          "name": "stdout",
          "text": [
            "h\n",
            "e\n",
            "l\n",
            "l\n",
            "o\n",
            " \n",
            "w\n",
            "o\n",
            "r\n",
            "l\n",
            "d\n"
          ]
        }
      ]
    },
    {
      "cell_type": "markdown",
      "source": [
        "#collections\n",
        "1. list\n",
        "2. tuple\n",
        "3. set\n",
        "4. dictionary"
      ],
      "metadata": {
        "id": "fSQNNRPlgVbW"
      }
    },
    {
      "cell_type": "code",
      "source": [
        "#what is a list?\n",
        "#created with []--- inordered,allows duplicates,mutable(changeble)\n",
        "l1 = [\"dog\",\"parrot\",\"elephant\",\"dog\"]\n",
        "print(l1)\n",
        "#what can be stored in a list?\n",
        "l2 = [\"true\",\"false\",\"true\",\"false\"]\n",
        "print(l2)"
      ],
      "metadata": {
        "colab": {
          "base_uri": "https://localhost:8080/"
        },
        "id": "XAXsGjmNgY3r",
        "outputId": "db071b58-69be-4e1f-85ff-c9246a65d02b"
      },
      "execution_count": null,
      "outputs": [
        {
          "output_type": "stream",
          "name": "stdout",
          "text": [
            "['dog', 'parrot', 'elephant', 'dog']\n",
            "['true', 'false', 'true', 'false']\n"
          ]
        }
      ]
    },
    {
      "cell_type": "code",
      "source": [
        "print(type(l1),type(l2),sep = \"\\n\")"
      ],
      "metadata": {
        "colab": {
          "base_uri": "https://localhost:8080/"
        },
        "id": "MVfI3BzGiYXq",
        "outputId": "1d87f6d9-702e-489e-cb5d-ddb275941519"
      },
      "execution_count": null,
      "outputs": [
        {
          "output_type": "stream",
          "name": "stdout",
          "text": [
            "<class 'list'>\n",
            "<class 'list'>\n"
          ]
        }
      ]
    },
    {
      "cell_type": "code",
      "source": [
        "#list are ordered :- accessing with the index number\n",
        "l1 = [\"dog\",\"parrot\",\"elephant\",\"dog\"]\n",
        "print(l1[2])"
      ],
      "metadata": {
        "colab": {
          "base_uri": "https://localhost:8080/"
        },
        "id": "mHQajLgcjNt5",
        "outputId": "b28ab0ff-37e4-406a-e82d-11c37b9f744d"
      },
      "execution_count": null,
      "outputs": [
        {
          "output_type": "stream",
          "name": "stdout",
          "text": [
            "elephant\n"
          ]
        }
      ]
    },
    {
      "cell_type": "code",
      "source": [
        "#access range of elements\n",
        "l3 = ['apple','banana','cherry','kiwi','mango']\n",
        "print(l3[1:4])"
      ],
      "metadata": {
        "colab": {
          "base_uri": "https://localhost:8080/"
        },
        "id": "GjzpBc9tjfjl",
        "outputId": "30b22bb5-ec3a-43cc-cfca-e4a1e59be6ef"
      },
      "execution_count": null,
      "outputs": [
        {
          "output_type": "stream",
          "name": "stdout",
          "text": [
            "['banana', 'cherry', 'kiwi']\n"
          ]
        }
      ]
    },
    {
      "cell_type": "code",
      "source": [
        "#-ve index\n",
        "print(l3[::-1])\n",
        "print(l3[::1])"
      ],
      "metadata": {
        "colab": {
          "base_uri": "https://localhost:8080/"
        },
        "id": "4wGff2yRkphx",
        "outputId": "1f5c1147-955d-4313-88ee-a4eff34a7214"
      },
      "execution_count": null,
      "outputs": [
        {
          "output_type": "stream",
          "name": "stdout",
          "text": [
            "['mango', 'kiwi', 'cherry', 'banana', 'apple']\n",
            "['apple', 'banana', 'cherry', 'kiwi', 'mango']\n"
          ]
        }
      ]
    },
    {
      "cell_type": "code",
      "source": [
        "l4=['apple', 'banana', 'cherry', 'kiwi', 'mango']\n",
        "#swapping\n",
        "l4[0] = 'orange'\n",
        "print(l4)"
      ],
      "metadata": {
        "colab": {
          "base_uri": "https://localhost:8080/"
        },
        "id": "kBOcqj_Ak3z5",
        "outputId": "5526f6d2-5729-4194-a85c-e4c748a478e4"
      },
      "execution_count": null,
      "outputs": [
        {
          "output_type": "stream",
          "name": "stdout",
          "text": [
            "['orange', 'banana', 'cherry', 'kiwi', 'mango']\n"
          ]
        }
      ]
    },
    {
      "cell_type": "code",
      "source": [
        "#swap elements from index 1 to 4\n",
        "l4[1:4]=['blueberry','strawberry','muskmelon']\n",
        "print(l4)\n"
      ],
      "metadata": {
        "colab": {
          "base_uri": "https://localhost:8080/"
        },
        "id": "YqbjURi_lbPM",
        "outputId": "4881d8c2-e00f-46fd-ef3f-b538c626d984"
      },
      "execution_count": null,
      "outputs": [
        {
          "output_type": "stream",
          "name": "stdout",
          "text": [
            "['orange', 'blueberry', 'strawberry', 'muskmelon', 'mango']\n"
          ]
        }
      ]
    },
    {
      "cell_type": "code",
      "source": [
        "#Adding\n",
        "#1.append\n",
        "#what is  the default in index position for append method\n",
        "l6 =['orange','blueberry','strawberry','muskmelon','mango','apple']\n",
        "l6.insert(2,\"kiwi\")\n",
        "print(l6)"
      ],
      "metadata": {
        "colab": {
          "base_uri": "https://localhost:8080/"
        },
        "id": "Ru4cQd6uly-r",
        "outputId": "ce50a1b9-7c1c-494c-ab19-251e917b6d4c"
      },
      "execution_count": null,
      "outputs": [
        {
          "output_type": "stream",
          "name": "stdout",
          "text": [
            "['orange', 'blueberry', 'kiwi', 'strawberry', 'muskmelon', 'mango', 'apple']\n"
          ]
        }
      ]
    },
    {
      "cell_type": "code",
      "source": [
        "#2.insert--> add item at specific index-->(index,item)\n",
        "l6=['orange', 'blueberry', 'strawberry', 'muskmelon', 'mango', 'apple']\n",
        "l6.insert(2,\"kiwi\")\n",
        "print(l6)"
      ],
      "metadata": {
        "colab": {
          "base_uri": "https://localhost:8080/"
        },
        "id": "z6fJobbemiaA",
        "outputId": "c2a4ec38-372c-4b27-dbef-b4fdd88cd6b4"
      },
      "execution_count": null,
      "outputs": [
        {
          "output_type": "stream",
          "name": "stdout",
          "text": [
            "['orange', 'blueberry', 'kiwi', 'strawberry', 'muskmelon', 'mango', 'apple']\n"
          ]
        }
      ]
    },
    {
      "cell_type": "code",
      "source": [
        "#3.extend-->add the items from the other collections\n",
        "#iterables-->nothing but collections(list,tuple dictionary,set)\n",
        "l7 =[1,2,3,4,5]\n",
        "l6.extend(l7)\n",
        "print(l6)"
      ],
      "metadata": {
        "colab": {
          "base_uri": "https://localhost:8080/"
        },
        "id": "_Jq2zCSCYfuh",
        "outputId": "e09b573c-6dd7-4cdd-e686-1c008b0b2032"
      },
      "execution_count": null,
      "outputs": [
        {
          "output_type": "stream",
          "name": "stdout",
          "text": [
            "['orange', 'blueberry', 'kiwi', 'strawberry', 'muskmelon', 'mango', 'apple', 1, 2, 3, 4, 5]\n"
          ]
        }
      ]
    },
    {
      "cell_type": "code",
      "source": [
        "l8 =(6,7,8,9)\n",
        "l7.extend(l8)\n",
        "print(l7)\n"
      ],
      "metadata": {
        "colab": {
          "base_uri": "https://localhost:8080/"
        },
        "id": "L57icHKdYngL",
        "outputId": "bbf24fd7-4e9f-49f8-dd24-6c3140ab50e8"
      },
      "execution_count": null,
      "outputs": [
        {
          "output_type": "stream",
          "name": "stdout",
          "text": [
            "[1, 2, 3, 4, 5, 6, 7, 8, 9]\n"
          ]
        }
      ]
    },
    {
      "cell_type": "code",
      "source": [
        "#i want to insert another collection of items at index 2\n",
        "#the given list is ['orange','blueberry','kiwi','strawberry','muskmelon','mango','apple']\n",
        "l3=(10,20,30)\n",
        "l2=['orange','blueberry','kiwi','strawberry','muskmelon','mango','apple']\n",
        "l2.insert(2,l3)\n",
        "print(l2)"
      ],
      "metadata": {
        "colab": {
          "base_uri": "https://localhost:8080/"
        },
        "id": "HbguFj1Rnprv",
        "outputId": "3419c350-ce8a-4514-d13f-a9bcfb7ad8e0"
      },
      "execution_count": null,
      "outputs": [
        {
          "output_type": "stream",
          "name": "stdout",
          "text": [
            "['orange', 'blueberry', (10, 20, 30), 'kiwi', 'strawberry', 'muskmelon', 'mango', 'apple']\n"
          ]
        }
      ]
    },
    {
      "cell_type": "code",
      "source": [
        "print(l2[2][0])"
      ],
      "metadata": {
        "id": "6pTWVTQWZCGi"
      },
      "execution_count": null,
      "outputs": []
    },
    {
      "cell_type": "code",
      "source": [
        "#removing of elements in list\n",
        "#remove(item or index numbers)\n",
        "#remove (10,20,30)\n",
        "l2=['orange', 'blueberry', (10, 20, 30), 'kiwi', 'strawberry', 'muskmelon', 'mango', 'apple']\n",
        "l2.remove(l2[2])\n",
        "print(l2)"
      ],
      "metadata": {
        "colab": {
          "base_uri": "https://localhost:8080/"
        },
        "id": "H4kzcDHvdTlv",
        "outputId": "bdd741a3-9db2-4bcb-b33f-3cf581a1b591"
      },
      "execution_count": null,
      "outputs": [
        {
          "output_type": "stream",
          "name": "stdout",
          "text": [
            "['orange', 'blueberry', 'kiwi', 'strawberry', 'muskmelon', 'mango', 'apple']\n"
          ]
        }
      ]
    },
    {
      "cell_type": "code",
      "source": [
        "#pop:- pop(index)\n",
        "l4 = ['orange', 'blueberry', 'kiwi', 'strawberry', 'muskmelon', 'mango', 'apple']\n",
        "l4.pop()\n",
        "print(l4)"
      ],
      "metadata": {
        "colab": {
          "base_uri": "https://localhost:8080/"
        },
        "id": "UUAyX3yIdZAF",
        "outputId": "4e70a789-3142-4212-96f2-7f20090f55db"
      },
      "execution_count": null,
      "outputs": [
        {
          "output_type": "stream",
          "name": "stdout",
          "text": [
            "['orange', 'blueberry', 'kiwi', 'strawberry', 'muskmelon', 'mango']\n"
          ]
        }
      ]
    },
    {
      "cell_type": "code",
      "source": [
        "#3rd delete\n",
        "l4 = ['orange','blueberry','strawberry','muskmelon','mango','apple']\n",
        "del l4[2]\n",
        "print(l4)\n",
        "#del range of items\n",
        "del l4[1:4]\n",
        "print(l4)"
      ],
      "metadata": {
        "colab": {
          "base_uri": "https://localhost:8080/"
        },
        "id": "CL9w75BspTMZ",
        "outputId": "8db5d540-f0a9-461d-af7a-ff91c63420ed"
      },
      "execution_count": null,
      "outputs": [
        {
          "output_type": "stream",
          "name": "stdout",
          "text": [
            "['orange', 'blueberry', 'muskmelon', 'mango', 'apple']\n",
            "['orange', 'apple']\n"
          ]
        }
      ]
    },
    {
      "cell_type": "code",
      "source": [
        "#clear\n",
        "l4.clear()\n",
        "print(l4)\n"
      ],
      "metadata": {
        "colab": {
          "base_uri": "https://localhost:8080/"
        },
        "id": "WYGMXCRSYymQ",
        "outputId": "89896f39-21ea-4ba6-8d96-9df1e4141722"
      },
      "execution_count": null,
      "outputs": [
        {
          "output_type": "stream",
          "name": "stdout",
          "text": [
            "[]\n"
          ]
        }
      ]
    },
    {
      "cell_type": "code",
      "source": [
        "l6 = ['Orange', 'Blueberry', 'Kiwi', 'Strawberry', 'Muskmelon', 'Mango', 'APPLE','apple','blueberry']\n",
        "l6.sort(reverse = True)\n",
        "print(l6)"
      ],
      "metadata": {
        "colab": {
          "base_uri": "https://localhost:8080/"
        },
        "id": "lC2oZSFOp5fc",
        "outputId": "f0ea2b67-7bd8-4f66-dc78-c9549efec696"
      },
      "execution_count": null,
      "outputs": [
        {
          "output_type": "stream",
          "name": "stdout",
          "text": [
            "['blueberry', 'apple', 'Strawberry', 'Orange', 'Muskmelon', 'Mango', 'Kiwi', 'Blueberry', 'APPLE']\n"
          ]
        }
      ]
    },
    {
      "cell_type": "code",
      "source": [
        "#2nd collection\n",
        "#Tuple:--->()-->ordered(indexed),immutable(not changable),allow the duplicates\n",
        "t1 = ('blueberry', 'apple', 'Strawberry', 'Orange', 'Muskmelon', 'Mango', 'Kiwi', 'Blueberry', 'APPLE')\n",
        "print(t1)\n",
        "print(type(t1))\n",
        "print(t1[1:4])"
      ],
      "metadata": {
        "colab": {
          "base_uri": "https://localhost:8080/"
        },
        "id": "jxWIPKkieCjn",
        "outputId": "c23393c1-8d07-4a68-973c-87bf2b1c65bd"
      },
      "execution_count": null,
      "outputs": [
        {
          "output_type": "stream",
          "name": "stdout",
          "text": [
            "('blueberry', 'apple', 'Strawberry', 'Orange', 'Muskmelon', 'Mango', 'Kiwi', 'Blueberry', 'APPLE')\n",
            "<class 'tuple'>\n",
            "('apple', 'Strawberry', 'Orange')\n"
          ]
        }
      ]
    },
    {
      "cell_type": "code",
      "source": [
        "#immutable\n",
        "t1[2]=\"watermelon\"\n",
        "print(t1)"
      ],
      "metadata": {
        "id": "ot1LmZCSeFFn"
      },
      "execution_count": null,
      "outputs": []
    },
    {
      "cell_type": "code",
      "source": [
        "#if you want to change the items in a tuple how can you do it?\n",
        "#what is diff between list and tuple\n",
        "#how can we change tuple in to list\n",
        "#when i shoul use the list and when i should use tuple?\n",
        "l1 = list(t1)\n",
        "print(type(l1))\n",
        "print(type(t1))"
      ],
      "metadata": {
        "colab": {
          "base_uri": "https://localhost:8080/"
        },
        "id": "ikCU4KGCeaNP",
        "outputId": "965bc81c-1474-4953-b5fe-b73b33059efe"
      },
      "execution_count": null,
      "outputs": [
        {
          "output_type": "stream",
          "name": "stdout",
          "text": [
            "<class 'list'>\n",
            "<class 'tuple'>\n"
          ]
        }
      ]
    },
    {
      "cell_type": "code",
      "source": [
        "#set:-->{}\n",
        "#unoredered,it won't allow the duplicates,immutable(we can add item and remove the item)\n",
        "s1 = {'blueberry', 'apple', 'Strawberry', 'Orange', 'Muskmelon', 'Mango', 'Orange', 'blueberry', 'apple'}\n",
        "print(s1)\n",
        "print(type(s1))\n"
      ],
      "metadata": {
        "colab": {
          "base_uri": "https://localhost:8080/"
        },
        "id": "55WZ8J8zelCV",
        "outputId": "194fb720-f333-465d-9c6b-f77d895e5484"
      },
      "execution_count": null,
      "outputs": [
        {
          "output_type": "stream",
          "name": "stdout",
          "text": [
            "{'Strawberry', 'Mango', 'blueberry', 'Muskmelon', 'Orange', 'apple'}\n",
            "<class 'set'>\n"
          ]
        }
      ]
    },
    {
      "cell_type": "code",
      "source": [
        "print(s1[0])\n",
        "#why sets are faster than list and tuple?\n"
      ],
      "metadata": {
        "id": "9DS5UZqCep8G"
      },
      "execution_count": null,
      "outputs": []
    },
    {
      "cell_type": "code",
      "source": [
        "#add the items in the set\n",
        "s1.add('kiwi')\n",
        "print(s1)"
      ],
      "metadata": {
        "colab": {
          "base_uri": "https://localhost:8080/"
        },
        "id": "BpBPWFEGe7q-",
        "outputId": "b2b31b01-d78d-4fb7-c29d-beabd3abe9be"
      },
      "execution_count": null,
      "outputs": [
        {
          "output_type": "stream",
          "name": "stdout",
          "text": [
            "{'Strawberry', 'Mango', 'blueberry', 'Muskmelon', 'Orange', 'kiwi', 'apple'}\n"
          ]
        }
      ]
    },
    {
      "cell_type": "code",
      "source": [
        "#update\n",
        "s2=[1,2,3,4,5,6]\n",
        "s1.update(s2)\n",
        "print(s1)"
      ],
      "metadata": {
        "colab": {
          "base_uri": "https://localhost:8080/"
        },
        "id": "VjnbM5WFe-Il",
        "outputId": "e0211db3-8e50-4aef-c9c1-e62d18793002"
      },
      "execution_count": null,
      "outputs": [
        {
          "output_type": "stream",
          "name": "stdout",
          "text": [
            "{1, 2, 3, 4, 5, 'Orange', 6, 'Mango', 'apple', 'Muskmelon', 'kiwi', 'Strawberry', 'blueberry'}\n"
          ]
        }
      ]
    },
    {
      "cell_type": "code",
      "source": [
        "s1.remove(2)\n",
        "print(s1)"
      ],
      "metadata": {
        "colab": {
          "base_uri": "https://localhost:8080/"
        },
        "id": "kqWqo5f4fCov",
        "outputId": "ac7ee4af-fa21-4011-971c-856822ec6198"
      },
      "execution_count": null,
      "outputs": [
        {
          "output_type": "stream",
          "name": "stdout",
          "text": [
            "{1, 3, 4, 5, 'Orange', 6, 'Mango', 'apple', 'Muskmelon', 'kiwi', 'Strawberry', 'blueberry'}\n"
          ]
        }
      ]
    },
    {
      "cell_type": "code",
      "source": [
        "s1.remove('blueberry')\n",
        "print(s1)"
      ],
      "metadata": {
        "colab": {
          "base_uri": "https://localhost:8080/"
        },
        "id": "chXwPsg4fLgf",
        "outputId": "fbbdc1d3-28d4-4aa8-da76-001a2fd278f7"
      },
      "execution_count": null,
      "outputs": [
        {
          "output_type": "stream",
          "name": "stdout",
          "text": [
            "{1, 3, 4, 5, 'Orange', 6, 'Mango', 'apple', 'Muskmelon', 'kiwi', 'Strawberry'}\n"
          ]
        }
      ]
    },
    {
      "cell_type": "code",
      "source": [
        "#discard method\n",
        "s1.discard(\"Mango\")\n",
        "print(s1)"
      ],
      "metadata": {
        "colab": {
          "base_uri": "https://localhost:8080/"
        },
        "id": "_3wO3Q1-fOFQ",
        "outputId": "5560bcd7-d2da-494b-d425-5f10496c8847"
      },
      "execution_count": null,
      "outputs": [
        {
          "output_type": "stream",
          "name": "stdout",
          "text": [
            "{1, 3, 4, 5, 'Orange', 6, 'apple', 'Muskmelon', 'kiwi', 'Strawberry'}\n"
          ]
        }
      ]
    },
    {
      "cell_type": "code",
      "source": [
        "#why should i use remove /discard when one is enough?\n",
        "#3rd pop\n",
        "s1.pop()\n",
        "print(s1)"
      ],
      "metadata": {
        "colab": {
          "base_uri": "https://localhost:8080/"
        },
        "id": "cvOy50hogKe2",
        "outputId": "98393419-27d6-439b-d642-f63b406eb3a1"
      },
      "execution_count": null,
      "outputs": [
        {
          "output_type": "stream",
          "name": "stdout",
          "text": [
            "{3, 4, 5, 'Orange', 6, 'apple', 'Muskmelon', 'kiwi', 'Strawberry'}\n"
          ]
        }
      ]
    },
    {
      "cell_type": "code",
      "source": [
        "#del\n",
        "del s1\n",
        "print(s1)"
      ],
      "metadata": {
        "id": "wXfzFi1CgNF7"
      },
      "execution_count": null,
      "outputs": []
    },
    {
      "cell_type": "code",
      "source": [
        "s2 ={1, 'apple', 3, 4, 5, 6, 'Strawberry', 'Muskmelon', 'Orange', 'kiwi'}\n",
        "s2.clear()\n",
        "print(s2)"
      ],
      "metadata": {
        "colab": {
          "base_uri": "https://localhost:8080/"
        },
        "id": "c5SWrsfOhQcU",
        "outputId": "cf320c7b-9a71-4d0c-800d-df2c0bb2beba"
      },
      "execution_count": null,
      "outputs": [
        {
          "output_type": "stream",
          "name": "stdout",
          "text": [
            "set()\n"
          ]
        }
      ]
    },
    {
      "cell_type": "code",
      "source": [
        "#what is main reason we use sets?\n",
        "s1 ={'a','b','c','d'}\n",
        "s2 ={'d','e','f','g'}\n",
        "s4=s1.intersection(s2)\n",
        "print(s4)"
      ],
      "metadata": {
        "colab": {
          "base_uri": "https://localhost:8080/"
        },
        "id": "guO98THCiGsF",
        "outputId": "bc87182b-338f-4df5-d184-c722ff88e4d2"
      },
      "execution_count": null,
      "outputs": [
        {
          "output_type": "stream",
          "name": "stdout",
          "text": [
            "{'d'}\n"
          ]
        }
      ]
    },
    {
      "cell_type": "code",
      "source": [
        "s3=s1.union(s2)\n",
        "print(s3)"
      ],
      "metadata": {
        "colab": {
          "base_uri": "https://localhost:8080/"
        },
        "id": "4o7lqCpBiNQs",
        "outputId": "be39e169-41a6-44ef-98a2-32b24ceba138"
      },
      "execution_count": null,
      "outputs": [
        {
          "output_type": "stream",
          "name": "stdout",
          "text": [
            "{'f', 'c', 'e', 'g', 'b', 'd', 'a'}\n"
          ]
        }
      ]
    },
    {
      "cell_type": "code",
      "source": [
        "#dictionary\n",
        "#where we can store items in a dict?\n",
        "#key:value pairs\n",
        "#{}\n",
        "d1 ={\n",
        "    \"name\":\"python\",\n",
        "    \"last_name\":\"programming\",\n",
        "    \"age\":23,\n",
        "    \"module\": True\n",
        "}\n",
        "print(d1)\n",
        "print(type(d1))"
      ],
      "metadata": {
        "colab": {
          "base_uri": "https://localhost:8080/"
        },
        "id": "U6G6wbmutbBo",
        "outputId": "156b6ff4-0506-4d91-b945-1d5e685887df"
      },
      "execution_count": null,
      "outputs": [
        {
          "output_type": "stream",
          "name": "stdout",
          "text": [
            "{'name': 'python', 'last_name': 'programming', 'age': 23, 'module': True}\n",
            "<class 'dict'>\n"
          ]
        }
      ]
    },
    {
      "cell_type": "code",
      "source": [
        "#print keys and values seperatly?\n",
        "print(d1.keys())\n",
        "print(d1.values())"
      ],
      "metadata": {
        "colab": {
          "base_uri": "https://localhost:8080/"
        },
        "id": "Vw2UGVuntul-",
        "outputId": "14a20aca-1950-4a76-ff5e-96dd4b353090"
      },
      "execution_count": null,
      "outputs": [
        {
          "output_type": "stream",
          "name": "stdout",
          "text": [
            "dict_keys(['name', 'last_name', 'age', 'module'])\n",
            "dict_values(['python', 'programming', 23, True])\n"
          ]
        }
      ]
    },
    {
      "cell_type": "code",
      "source": [
        "print(d1.items())"
      ],
      "metadata": {
        "colab": {
          "base_uri": "https://localhost:8080/"
        },
        "id": "mKSVn8PNuXvG",
        "outputId": "9911655f-245f-493f-c500-e5f807aedbb8"
      },
      "execution_count": null,
      "outputs": [
        {
          "output_type": "stream",
          "name": "stdout",
          "text": [
            "dict_items([('name', 'python'), ('last_name', 'programming'), ('age', 23), ('module', True)])\n"
          ]
        }
      ]
    },
    {
      "cell_type": "code",
      "source": [
        "#Q) python is a interpretd language?\n",
        "d1 ={\n",
        "    \"name\":\"python\",\n",
        "    \"last_name\":\"programming\",\n",
        "    \"age\":23,\n",
        "    \"module\": True,\n",
        "    \"age\":41,\n",
        "}\n",
        "print(d1)\n",
        "print(type(d1))"
      ],
      "metadata": {
        "colab": {
          "base_uri": "https://localhost:8080/"
        },
        "id": "NFB9dLw_u1Gi",
        "outputId": "f092cdeb-a195-493a-fbb5-136e67d0c599"
      },
      "execution_count": null,
      "outputs": [
        {
          "output_type": "stream",
          "name": "stdout",
          "text": [
            "{'name': 'python', 'last_name': 'programming', 'age': 41, 'module': True}\n",
            "<class 'dict'>\n"
          ]
        }
      ]
    },
    {
      "cell_type": "code",
      "source": [
        "#dictionaries are unordered by index\n",
        "#dictionaries are ordered means we can access the values with the help of keys\n",
        "print(len(d1)) ---#wont allow the duplicates"
      ],
      "metadata": {
        "colab": {
          "base_uri": "https://localhost:8080/"
        },
        "id": "orTJrKIhvhh4",
        "outputId": "82b7f8e5-ab34-45a8-daf6-94da399a7671"
      },
      "execution_count": null,
      "outputs": [
        {
          "output_type": "stream",
          "name": "stdout",
          "text": [
            "4\n"
          ]
        }
      ]
    },
    {
      "cell_type": "code",
      "source": [
        "#how can i access items in a dictionary?\n",
        "print(d1['name'])\n",
        "print(d1.get('name'))"
      ],
      "metadata": {
        "colab": {
          "base_uri": "https://localhost:8080/"
        },
        "id": "_ISRoT29wD_k",
        "outputId": "c68fc067-5476-409a-8a97-6ff803a299d3"
      },
      "execution_count": null,
      "outputs": [
        {
          "output_type": "stream",
          "name": "stdout",
          "text": [
            "python\n",
            "python\n"
          ]
        }
      ]
    },
    {
      "cell_type": "code",
      "source": [
        "#how can we change values for particular key?\n",
        "d1['name'] = 'java'\n",
        "print(d1)"
      ],
      "metadata": {
        "colab": {
          "base_uri": "https://localhost:8080/"
        },
        "id": "aQ-3L2P5wtN1",
        "outputId": "f6154d58-c01e-4965-cfb1-591e5cfe6f8d"
      },
      "execution_count": null,
      "outputs": [
        {
          "output_type": "stream",
          "name": "stdout",
          "text": [
            "{'name': 'java', 'last_name': 'programming', 'age': 41, 'module': True}\n"
          ]
        }
      ]
    },
    {
      "cell_type": "code",
      "source": [
        "#similarly we can use update\n",
        "d1.update({'name':'c++'})\n",
        "print(d1)"
      ],
      "metadata": {
        "colab": {
          "base_uri": "https://localhost:8080/"
        },
        "id": "-uqR1ACEw-RJ",
        "outputId": "4ac4dcc3-f3fc-4341-994e-c47bde248e69"
      },
      "execution_count": null,
      "outputs": [
        {
          "output_type": "stream",
          "name": "stdout",
          "text": [
            "{'name': 'c++', 'last_name': 'programming', 'age': 41, 'module': True}\n"
          ]
        }
      ]
    },
    {
      "cell_type": "code",
      "source": [
        "#how can i add a new key : value pair?\n",
        "d1['address'] ='IDE'\n",
        "print(d1)"
      ],
      "metadata": {
        "colab": {
          "base_uri": "https://localhost:8080/"
        },
        "id": "yF-2CZigxULa",
        "outputId": "52614534-b082-4a57-ac21-f1ee0467be15"
      },
      "execution_count": null,
      "outputs": [
        {
          "output_type": "stream",
          "name": "stdout",
          "text": [
            "{'name': 'c++', 'last_name': 'programming', 'age': 41, 'module': True, 'address': 'IDE'}\n"
          ]
        }
      ]
    },
    {
      "cell_type": "code",
      "source": [
        "d1.update({'practice':'google colab'})\n",
        "print(d1)"
      ],
      "metadata": {
        "colab": {
          "base_uri": "https://localhost:8080/"
        },
        "id": "gbFFew8Lx1Ma",
        "outputId": "b57facf5-e33d-460a-e1d5-4ae0dd9ead15"
      },
      "execution_count": null,
      "outputs": [
        {
          "output_type": "stream",
          "name": "stdout",
          "text": [
            "{'name': 'c++', 'last_name': 'programming', 'age': 41, 'module': True, 'address': 'IDE', 'practice': 'google colab'}\n"
          ]
        }
      ]
    },
    {
      "cell_type": "code",
      "source": [
        "#NOTE :- IF THE INPUTS KEYS ARE PRESENT IN DICT THE VALUES GET UPDATES OTHERWISE NEW KEY"
      ],
      "metadata": {
        "id": "hylyr7idx9l5"
      },
      "execution_count": null,
      "outputs": []
    },
    {
      "cell_type": "code",
      "source": [
        "d1 ={\n",
        "    \"name\":[\"python\",\"java\"],\n",
        "    \"last_name\":\"programming\",\n",
        "    \"age\":23,\n",
        "    \"module\": True\n",
        "}\n",
        "print(d1)\n",
        "print(type(d1))"
      ],
      "metadata": {
        "colab": {
          "base_uri": "https://localhost:8080/"
        },
        "id": "DYIaJ4ruyUhM",
        "outputId": "b92a73c0-b531-492d-d573-f5bc1a8d6f41"
      },
      "execution_count": null,
      "outputs": [
        {
          "output_type": "stream",
          "name": "stdout",
          "text": [
            "{'name': ['python', 'java'], 'last_name': 'programming', 'age': 23, 'module': True}\n",
            "<class 'dict'>\n"
          ]
        }
      ]
    },
    {
      "cell_type": "code",
      "source": [
        "#i want print only  java from dict?\n",
        "print(d1['name'][1])"
      ],
      "metadata": {
        "colab": {
          "base_uri": "https://localhost:8080/"
        },
        "id": "SW_wy7bR0XgX",
        "outputId": "abde8262-17de-4d28-8a66-53d3bc54a687"
      },
      "execution_count": null,
      "outputs": [
        {
          "output_type": "stream",
          "name": "stdout",
          "text": [
            "java\n"
          ]
        }
      ]
    },
    {
      "cell_type": "code",
      "source": [
        "d1['name'][1] = 'c++'\n",
        "print(d1)"
      ],
      "metadata": {
        "colab": {
          "base_uri": "https://localhost:8080/"
        },
        "id": "-cHQqJJR0x7t",
        "outputId": "a6e27253-38dd-46b0-fe75-ecaaa68adcbb"
      },
      "execution_count": null,
      "outputs": [
        {
          "output_type": "stream",
          "name": "stdout",
          "text": [
            "{'name': ['python', 'c++'], 'last_name': 'programming', 'age': 23, 'module': True}\n"
          ]
        }
      ]
    },
    {
      "cell_type": "code",
      "source": [
        "#add new items into the list in names?\n",
        "d1['name'].append('c')\n",
        "print(d1)"
      ],
      "metadata": {
        "colab": {
          "base_uri": "https://localhost:8080/"
        },
        "id": "J1fIQfYU0_Sz",
        "outputId": "ab2e714e-8473-4fd9-a6b1-ad9e83811f1c"
      },
      "execution_count": null,
      "outputs": [
        {
          "output_type": "stream",
          "name": "stdout",
          "text": [
            "{'name': ['python', 'c++', 'c'], 'last_name': 'programming', 'age': 23, 'module': True}\n"
          ]
        }
      ]
    },
    {
      "cell_type": "code",
      "source": [
        "#print or access only \"c\" ?\n",
        "print(d1['name'][2])"
      ],
      "metadata": {
        "colab": {
          "base_uri": "https://localhost:8080/"
        },
        "id": "_gkihVnu1frT",
        "outputId": "8f2ca985-7bbc-4b06-eadd-9f9b35fb7227"
      },
      "execution_count": null,
      "outputs": [
        {
          "output_type": "stream",
          "name": "stdout",
          "text": [
            "c\n"
          ]
        }
      ]
    },
    {
      "cell_type": "code",
      "source": [
        "del d1['name'][2]#del dict_name[key_name][index_number]\n",
        "print(d1)"
      ],
      "metadata": {
        "colab": {
          "base_uri": "https://localhost:8080/"
        },
        "id": "jgveJ_O71xqy",
        "outputId": "5f69df5b-bfb1-4948-80ad-b4d1e85cbdec"
      },
      "execution_count": null,
      "outputs": [
        {
          "output_type": "stream",
          "name": "stdout",
          "text": [
            "{'name': ['python', 'c++'], 'last_name': 'programming', 'age': 23, 'module': True}\n"
          ]
        }
      ]
    },
    {
      "cell_type": "code",
      "source": [
        "#how can i use the clear?\n",
        "d1.clear()\n",
        "print(d1)"
      ],
      "metadata": {
        "colab": {
          "base_uri": "https://localhost:8080/"
        },
        "id": "MCQb5fgM2nHM",
        "outputId": "e2090139-a26c-4a11-ed80-0a7ad8b824bf"
      },
      "execution_count": null,
      "outputs": [
        {
          "output_type": "stream",
          "name": "stdout",
          "text": [
            "{}\n"
          ]
        }
      ]
    },
    {
      "cell_type": "code",
      "source": [
        "#working with loops in a dictionary\n",
        "d2 = {'name': ['python', 'c++', 'c'],\n",
        "      \"last_name\":\"vivek\",\n",
        "    \"age\":23,\n",
        "    \"module\": True,\n",
        "    \"age\":41,\n",
        "      }"
      ],
      "metadata": {
        "id": "xmzIPnbq23AG"
      },
      "execution_count": null,
      "outputs": []
    },
    {
      "cell_type": "code",
      "source": [],
      "metadata": {
        "id": "3jIc954r3qZI"
      },
      "execution_count": null,
      "outputs": []
    },
    {
      "cell_type": "code",
      "source": [
        "#print both keys and values by using loops ?\n",
        "for x,y in d2.items():\n",
        "  print(x,y)"
      ],
      "metadata": {
        "colab": {
          "base_uri": "https://localhost:8080/"
        },
        "id": "eliYfS124GQ7",
        "outputId": "1bbc03d4-b84a-4205-a615-f948efecbc8c"
      },
      "execution_count": null,
      "outputs": [
        {
          "output_type": "stream",
          "name": "stdout",
          "text": [
            "name ['python', 'c++', 'c']\n",
            "last_name programming\n",
            "age 41\n",
            "module True\n"
          ]
        }
      ]
    },
    {
      "cell_type": "code",
      "source": [
        "for x in d2.keys():\n",
        "  print(f'{x} = {d[x]}')\n"
      ],
      "metadata": {
        "colab": {
          "base_uri": "https://localhost:8080/",
          "height": 158
        },
        "id": "ls87gLIH4VpH",
        "outputId": "ab16ece1-a085-47e1-f996-5aed0f0a963c"
      },
      "execution_count": null,
      "outputs": [
        {
          "output_type": "error",
          "ename": "NameError",
          "evalue": "name 'd' is not defined",
          "traceback": [
            "\u001b[0;31m---------------------------------------------------------------------------\u001b[0m",
            "\u001b[0;31mNameError\u001b[0m                                 Traceback (most recent call last)",
            "\u001b[0;32m<ipython-input-27-266e1c28bfd4>\u001b[0m in \u001b[0;36m<cell line: 1>\u001b[0;34m()\u001b[0m\n\u001b[1;32m      1\u001b[0m \u001b[0;32mfor\u001b[0m \u001b[0mx\u001b[0m \u001b[0;32min\u001b[0m \u001b[0md2\u001b[0m\u001b[0;34m.\u001b[0m\u001b[0mkeys\u001b[0m\u001b[0;34m(\u001b[0m\u001b[0;34m)\u001b[0m\u001b[0;34m:\u001b[0m\u001b[0;34m\u001b[0m\u001b[0;34m\u001b[0m\u001b[0m\n\u001b[0;32m----> 2\u001b[0;31m   \u001b[0mprint\u001b[0m\u001b[0;34m(\u001b[0m\u001b[0;34mf'{x} = {d[x]}'\u001b[0m\u001b[0;34m)\u001b[0m\u001b[0;34m\u001b[0m\u001b[0;34m\u001b[0m\u001b[0m\n\u001b[0m",
            "\u001b[0;31mNameError\u001b[0m: name 'd' is not defined"
          ]
        }
      ]
    },
    {
      "cell_type": "code",
      "source": [
        "#dict--->{}-->unordered,key:value pairs,wont allow the duplicates,values are changeble and\n",
        "#list--->[--->orderd,allow duplicates,mutable]\n",
        "#tuple-->()-->orderd,allow duplicates,immutable\n",
        "#set---->{}-->unordered,wont allow the duplicates,immutable"
      ],
      "metadata": {
        "id": "P-98kA994wQg"
      },
      "execution_count": null,
      "outputs": []
    },
    {
      "cell_type": "markdown",
      "source": [
        "#Functions"
      ],
      "metadata": {
        "id": "0_i0iMiq6lJS"
      }
    },
    {
      "cell_type": "code",
      "source": [
        "#what is a function\n",
        "#noting but of block of code which only runs when it is called\n",
        "#what is the purpose of functins?\n",
        "#reduce the time and memory\n",
        "#reduces the limitations of the code means encourages writing DRY codes\n",
        "#purpose of function is when you want to repeat a block of code at random interval of time ,just we can call"
      ],
      "metadata": {
        "id": "jJ_zJzBe6uUg"
      },
      "execution_count": null,
      "outputs": []
    },
    {
      "cell_type": "code",
      "source": [
        "#lets create a function\n",
        "def f1():\n",
        "  print('hello world')\n",
        "  print('this is my first function')\n",
        "  print(\"========================\")\n",
        "  #how can i call the fuction ?\n",
        "f1()"
      ],
      "metadata": {
        "colab": {
          "base_uri": "https://localhost:8080/"
        },
        "id": "S3dWtjFH7wQv",
        "outputId": "b89ac0c3-d992-4fb4-d591-19b70b0316ad"
      },
      "execution_count": null,
      "outputs": [
        {
          "output_type": "stream",
          "name": "stdout",
          "text": [
            "hello world\n",
            "this is my first function\n",
            "========================\n"
          ]
        }
      ]
    },
    {
      "cell_type": "code",
      "source": [
        "def f2(name):\n",
        "  print(f'hello {name}')\n",
        "  #call function\n",
        "f2(\"bunny\")"
      ],
      "metadata": {
        "colab": {
          "base_uri": "https://localhost:8080/"
        },
        "id": "ZOu9UFo38jOm",
        "outputId": "5748826a-50e0-4b49-ccd7-30b8cc2512ad"
      },
      "execution_count": null,
      "outputs": [
        {
          "output_type": "stream",
          "name": "stdout",
          "text": [
            "hello bunny\n"
          ]
        }
      ]
    },
    {
      "cell_type": "code",
      "source": [
        "#what is parameter?-->when creating a function defining a variable is known as a parameter\n",
        "#what is arguement?-->the value your given to variable when function called\n",
        "#why we are using parameters and arguements?\n",
        "#used for passing"
      ],
      "metadata": {
        "id": "DwFCjIng9KmD"
      },
      "execution_count": null,
      "outputs": []
    },
    {
      "cell_type": "code",
      "source": [
        "def fun(a,b):\n",
        "  print(\"the sum of a*b\",a*b)\n",
        "fun(2,4)"
      ],
      "metadata": {
        "colab": {
          "base_uri": "https://localhost:8080/"
        },
        "id": "z0CPFcYe-Sab",
        "outputId": "c6fb6814-f1fd-4f5b-9734-90b5bc9c6178"
      },
      "execution_count": null,
      "outputs": [
        {
          "output_type": "stream",
          "name": "stdout",
          "text": [
            "the sum of a*b 8\n"
          ]
        }
      ]
    },
    {
      "cell_type": "code",
      "source": [
        "#how can we print a function with out raising an error ?\n",
        "def fun(name=\"user\"):\n",
        "  print(f'vivek {name}')\n",
        "fun('kumar')\n",
        "fun('ganta')\n",
        "fun()\n"
      ],
      "metadata": {
        "colab": {
          "base_uri": "https://localhost:8080/"
        },
        "id": "Vabk8ukP-wRK",
        "outputId": "695697d6-d327-4dd8-f80c-88db69934071"
      },
      "execution_count": null,
      "outputs": [
        {
          "output_type": "stream",
          "name": "stdout",
          "text": [
            "vivek kumar\n",
            "vivek ganta\n",
            "vivek user\n"
          ]
        }
      ]
    },
    {
      "cell_type": "code",
      "source": [
        "#what do i do wjen i dont know how many arguements do i need to pass?\n",
        "def fun(a,b,c,d):\n",
        "  print(\"hello\",a)\n",
        "fun(1,2,3,4)"
      ],
      "metadata": {
        "colab": {
          "base_uri": "https://localhost:8080/"
        },
        "id": "qmAjL_VJ_0b4",
        "outputId": "0bdc83a4-c1d7-4317-c964-033ad51bc965"
      },
      "execution_count": null,
      "outputs": [
        {
          "output_type": "stream",
          "name": "stdout",
          "text": [
            "hello 1\n"
          ]
        }
      ]
    },
    {
      "cell_type": "code",
      "source": [
        "#when i dont know how many arguements do i need to pass\n",
        "def fun(*a):\n",
        "  print(a)\n",
        "fun(1,2,3,4)"
      ],
      "metadata": {
        "colab": {
          "base_uri": "https://localhost:8080/"
        },
        "id": "EOAWdqXkAyPs",
        "outputId": "50c166ac-d8cd-4489-8b54-33957ced89f6"
      },
      "execution_count": null,
      "outputs": [
        {
          "output_type": "stream",
          "name": "stdout",
          "text": [
            "(1, 2, 3, 4)\n"
          ]
        }
      ]
    },
    {
      "cell_type": "code",
      "source": [
        "#what i can i do when i dont know how many parameters when declare a function do i have to pass?\n",
        "def fun(**a):\n",
        "  print(a)\n",
        "fun(a=1,b=4)  #data is a dictionary\n",
        "\n",
        "#Technical names\n",
        "# *--->Arbitrary arguements -->u dont know  how many arguements you are sendig -->defualt data type is a tuple\n",
        "# **-->arbitrary keyword arguements(kwurgs) --> default data type is a dictionary\n"
      ],
      "metadata": {
        "colab": {
          "base_uri": "https://localhost:8080/"
        },
        "id": "fcGO1ziaBKTD",
        "outputId": "cac84146-7264-488b-9d90-3a237e00f547"
      },
      "execution_count": null,
      "outputs": [
        {
          "output_type": "stream",
          "name": "stdout",
          "text": [
            "{'a': 1, 'b': 4}\n"
          ]
        }
      ]
    },
    {
      "cell_type": "code",
      "source": [
        "#Return keyword\n",
        "def fun(a):\n",
        "  retrun(a)\n",
        "print(fun(3))"
      ],
      "metadata": {
        "colab": {
          "base_uri": "https://localhost:8080/",
          "height": 280
        },
        "id": "ecbI2tX4Bgkc",
        "outputId": "491a529a-f04b-4d6d-d555-11749fba7aad"
      },
      "execution_count": null,
      "outputs": [
        {
          "output_type": "error",
          "ename": "NameError",
          "evalue": "name 'retrun' is not defined",
          "traceback": [
            "\u001b[0;31m---------------------------------------------------------------------------\u001b[0m",
            "\u001b[0;31mNameError\u001b[0m                                 Traceback (most recent call last)",
            "\u001b[0;32m<ipython-input-46-3998505cc94c>\u001b[0m in \u001b[0;36m<cell line: 4>\u001b[0;34m()\u001b[0m\n\u001b[1;32m      2\u001b[0m \u001b[0;32mdef\u001b[0m \u001b[0mfun\u001b[0m\u001b[0;34m(\u001b[0m\u001b[0ma\u001b[0m\u001b[0;34m)\u001b[0m\u001b[0;34m:\u001b[0m\u001b[0;34m\u001b[0m\u001b[0;34m\u001b[0m\u001b[0m\n\u001b[1;32m      3\u001b[0m   \u001b[0mretrun\u001b[0m\u001b[0;34m(\u001b[0m\u001b[0ma\u001b[0m\u001b[0;34m)\u001b[0m\u001b[0;34m\u001b[0m\u001b[0;34m\u001b[0m\u001b[0m\n\u001b[0;32m----> 4\u001b[0;31m \u001b[0mprint\u001b[0m\u001b[0;34m(\u001b[0m\u001b[0mfun\u001b[0m\u001b[0;34m(\u001b[0m\u001b[0;36m3\u001b[0m\u001b[0;34m)\u001b[0m\u001b[0;34m)\u001b[0m\u001b[0;34m\u001b[0m\u001b[0;34m\u001b[0m\u001b[0m\n\u001b[0m",
            "\u001b[0;32m<ipython-input-46-3998505cc94c>\u001b[0m in \u001b[0;36mfun\u001b[0;34m(a)\u001b[0m\n\u001b[1;32m      1\u001b[0m \u001b[0;31m#Return keyword\u001b[0m\u001b[0;34m\u001b[0m\u001b[0;34m\u001b[0m\u001b[0m\n\u001b[1;32m      2\u001b[0m \u001b[0;32mdef\u001b[0m \u001b[0mfun\u001b[0m\u001b[0;34m(\u001b[0m\u001b[0ma\u001b[0m\u001b[0;34m)\u001b[0m\u001b[0;34m:\u001b[0m\u001b[0;34m\u001b[0m\u001b[0;34m\u001b[0m\u001b[0m\n\u001b[0;32m----> 3\u001b[0;31m   \u001b[0mretrun\u001b[0m\u001b[0;34m(\u001b[0m\u001b[0ma\u001b[0m\u001b[0;34m)\u001b[0m\u001b[0;34m\u001b[0m\u001b[0;34m\u001b[0m\u001b[0m\n\u001b[0m\u001b[1;32m      4\u001b[0m \u001b[0mprint\u001b[0m\u001b[0;34m(\u001b[0m\u001b[0mfun\u001b[0m\u001b[0;34m(\u001b[0m\u001b[0;36m3\u001b[0m\u001b[0;34m)\u001b[0m\u001b[0;34m)\u001b[0m\u001b[0;34m\u001b[0m\u001b[0;34m\u001b[0m\u001b[0m\n",
            "\u001b[0;31mNameError\u001b[0m: name 'retrun' is not defined"
          ]
        }
      ]
    },
    {
      "cell_type": "code",
      "source": [
        "def sum(a,b)\n",
        "print(a+b)\n",
        "a=int(input())\n",
        "b=int(input())\n",
        "sum(a,b)"
      ],
      "metadata": {
        "id": "NoydSEqzHkx3"
      },
      "execution_count": null,
      "outputs": []
    },
    {
      "cell_type": "code",
      "source": [
        "def sum(a,b):\n"
      ],
      "metadata": {
        "id": "JLzYnMu8IHWu"
      },
      "execution_count": null,
      "outputs": []
    },
    {
      "cell_type": "markdown",
      "source": [
        "#list of comprehension"
      ],
      "metadata": {
        "id": "4htxmVkq2rzs"
      }
    },
    {
      "cell_type": "code",
      "source": [
        "#it offers the smaller line of code that you can use to create new list from the existing list\n",
        "l1 = [\"apple\",\"bannan\",\"cherry\",\"kiwi\",\"mango\"]\n",
        "#create a new list of fruits having letter \"a\"\n",
        "new_fruit = []\n",
        "for x in l1:\n",
        "  if \"a\"in x:\n",
        "    new_fruit.append(x)\n",
        "    print(new_fruit)\n"
      ],
      "metadata": {
        "colab": {
          "base_uri": "https://localhost:8080/"
        },
        "id": "xaEYDfmr2q_W",
        "outputId": "4fafea02-928b-4d00-b60f-2170b6d661a8"
      },
      "execution_count": null,
      "outputs": [
        {
          "output_type": "stream",
          "name": "stdout",
          "text": [
            "['apple']\n",
            "['apple', 'bannan']\n",
            "['apple', 'bannan', 'mango']\n"
          ]
        }
      ]
    },
    {
      "cell_type": "code",
      "source": [
        "#create new list that us havin letter \"i\"\n",
        "for x in l1:\n",
        "  if \"a\"in x:\n",
        "    new_fruit.append(x)\n",
        "    print(new_fruit)"
      ],
      "metadata": {
        "colab": {
          "base_uri": "https://localhost:8080/"
        },
        "id": "t8WwHAlX3xRJ",
        "outputId": "024609ca-548f-408e-8f96-21db8a388202"
      },
      "execution_count": null,
      "outputs": [
        {
          "output_type": "stream",
          "name": "stdout",
          "text": [
            "['apple', 'bannan', 'mango', 'apple']\n",
            "['apple', 'bannan', 'mango', 'apple', 'bannan']\n",
            "['apple', 'bannan', 'mango', 'apple', 'bannan', 'mango']\n"
          ]
        }
      ]
    },
    {
      "cell_type": "code",
      "source": [
        "l1 =[\"apple\",\"bannan\",\"cherry\",\"kiwi\",\"mango\"]\n",
        "new_fruit = [x for x in l1 if \"a\" in x]\n",
        "print(new_fruit)"
      ],
      "metadata": {
        "colab": {
          "base_uri": "https://localhost:8080/"
        },
        "id": "CWjsK_DB4cbk",
        "outputId": "a42ba193-810e-4a67-f97d-e48eb9c77f1d"
      },
      "execution_count": null,
      "outputs": [
        {
          "output_type": "stream",
          "name": "stdout",
          "text": [
            "['apple', 'bannan', 'mango']\n"
          ]
        }
      ]
    },
    {
      "cell_type": "markdown",
      "source": [],
      "metadata": {
        "id": "Y41nOLNj6nz3"
      }
    },
    {
      "cell_type": "code",
      "source": [
        "#print the new list without banana in the above list\n",
        "new_fruit = [x for x in l1 if x != \"banana\"]\n",
        "print(new_fruit)"
      ],
      "metadata": {
        "colab": {
          "base_uri": "https://localhost:8080/"
        },
        "id": "QubFpUg348Id",
        "outputId": "ae83a69d-828e-48de-eae0-ea9e3a6c89de"
      },
      "execution_count": null,
      "outputs": [
        {
          "output_type": "stream",
          "name": "stdout",
          "text": [
            "['apple', 'bannan', 'cherry', 'kiwi', 'mango']\n"
          ]
        }
      ]
    },
    {
      "cell_type": "code",
      "source": [
        "#create a list of numbers from 0 to 20 ?\n",
        "new_fruit = []\n",
        "for x in range(0,21):\n",
        "  new_fruit.append(x)\n",
        "print(new_fruit)\n",
        "\n",
        "new_fruit = [x for x in range (0,21)]\n",
        "print(new_fruit)"
      ],
      "metadata": {
        "colab": {
          "base_uri": "https://localhost:8080/"
        },
        "id": "3OL060EY5VO5",
        "outputId": "0c6d79d6-0f32-41a8-f6da-919d37f2ffe2"
      },
      "execution_count": null,
      "outputs": [
        {
          "output_type": "stream",
          "name": "stdout",
          "text": [
            "[0, 1, 2, 3, 4, 5, 6, 7, 8, 9, 10, 11, 12, 13, 14, 15, 16, 17, 18, 19, 20]\n",
            "[0, 1, 2, 3, 4, 5, 6, 7, 8, 9, 10, 11, 12, 13, 14, 15, 16, 17, 18, 19, 20]\n"
          ]
        }
      ]
    },
    {
      "cell_type": "code",
      "source": [
        "#create a list of even numbers and list of odd numbers in the range of 100?\n",
        "even = [x for x in range (0,101) if x%2==0]\n",
        "odd = [x for x in range (0,101) if x%2==0]\n",
        "print(odd)"
      ],
      "metadata": {
        "colab": {
          "base_uri": "https://localhost:8080/"
        },
        "id": "4y7Vg8n27wt8",
        "outputId": "9966169b-e775-4e59-84ce-acafb41a3477"
      },
      "execution_count": null,
      "outputs": [
        {
          "output_type": "stream",
          "name": "stdout",
          "text": [
            "[0, 2, 4, 6, 8, 10, 12, 14, 16, 18, 20, 22, 24, 26, 28, 30, 32, 34, 36, 38, 40, 42, 44, 46, 48, 50, 52, 54, 56, 58, 60, 62, 64, 66, 68, 70, 72, 74, 76, 78, 80, 82, 84, 86, 88, 90, 92, 94, 96, 98, 100]\n"
          ]
        }
      ]
    },
    {
      "cell_type": "code",
      "source": [
        "#why we prefer lc than loops ?\n",
        "#print a list that having multiples of 2? [1,2,3,4,5,6,7,8,9]\n",
        "new = [x * 2 for x in range(1,10)]\n",
        "print(new)"
      ],
      "metadata": {
        "colab": {
          "base_uri": "https://localhost:8080/"
        },
        "id": "enCWpyp56lz9",
        "outputId": "4cd08c3e-dcc4-4f4f-bce5-6c2e02965a01"
      },
      "execution_count": null,
      "outputs": [
        {
          "output_type": "stream",
          "name": "stdout",
          "text": [
            "[2, 4, 6, 8, 10, 12, 14, 16, 18]\n"
          ]
        }
      ]
    },
    {
      "cell_type": "markdown",
      "source": [
        "#Lamda functions"
      ],
      "metadata": {
        "id": "BoZxJ1BF-S2E"
      }
    },
    {
      "cell_type": "code",
      "source": [
        "# what is lamda ?\n",
        "#its an anonymous function--means it doesnt have any name\n",
        "#syntax : \"lambda aruments : expressions lambda is a anonymous which is having many arguments \"\n",
        "# expression -- if some statements / calculations / steps using that values to give single value\n",
        "# lambda allows only on eexpression\n",
        "\n",
        "def f(x):\n",
        "  return(x)\n",
        " print(f())"
      ],
      "metadata": {
        "id": "PRqb-Dic8lrC"
      },
      "execution_count": null,
      "outputs": []
    },
    {
      "cell_type": "code",
      "source": [
        "x = lambda a,b,c : a+b+(c*10)\n",
        "print(x(8,5,4))"
      ],
      "metadata": {
        "id": "fIKIUzM4-f0R"
      },
      "execution_count": null,
      "outputs": []
    },
    {
      "cell_type": "code",
      "source": [
        "x = lambda a : a*a\n",
        "print(x(7))"
      ],
      "metadata": {
        "colab": {
          "base_uri": "https://localhost:8080/"
        },
        "id": "imAlPiF2-jUI",
        "outputId": "a6464857-cd9b-457d-db60-e326bf3bfe7a"
      },
      "execution_count": null,
      "outputs": [
        {
          "output_type": "stream",
          "name": "stdout",
          "text": [
            "49\n"
          ]
        }
      ]
    },
    {
      "cell_type": "code",
      "source": [
        "def sqrt(x):\n",
        "  return x ** 0.5\n",
        "print(int(sqrt(25)))"
      ],
      "metadata": {
        "colab": {
          "base_uri": "https://localhost:8080/"
        },
        "id": "9MGt28av-kKG",
        "outputId": "26c0dddb-2518-4b81-a866-547891c5b145"
      },
      "execution_count": null,
      "outputs": [
        {
          "output_type": "stream",
          "name": "stdout",
          "text": [
            "5\n"
          ]
        }
      ]
    },
    {
      "cell_type": "code",
      "source": [
        "def power(n):\n",
        "  return lambda x : x** n\n",
        "# call the function\n",
        "square = power(2)\n",
        "\n",
        "print(square(3))"
      ],
      "metadata": {
        "colab": {
          "base_uri": "https://localhost:8080/"
        },
        "id": "J1gcf0-4-nTC",
        "outputId": "cafc4f92-ffe2-4ced-fdbb-105dc8603a43"
      },
      "execution_count": null,
      "outputs": [
        {
          "output_type": "stream",
          "name": "stdout",
          "text": [
            "9\n"
          ]
        }
      ]
    },
    {
      "cell_type": "code",
      "source": [
        "x = \"vivek\"\n",
        "print(x)"
      ],
      "metadata": {
        "colab": {
          "base_uri": "https://localhost:8080/"
        },
        "id": "m4nO3bEZ-rvu",
        "outputId": "8aa49d31-cee1-444c-e117-8d47aebc84db"
      },
      "execution_count": null,
      "outputs": [
        {
          "output_type": "stream",
          "name": "stdout",
          "text": [
            "vivek\n"
          ]
        }
      ]
    },
    {
      "cell_type": "code",
      "source": [
        "#create a funtion\n",
        "def fun():\n",
        "  print(\"hello caroline\")\n",
        "fun()"
      ],
      "metadata": {
        "colab": {
          "base_uri": "https://localhost:8080/"
        },
        "id": "az6Yu-jc_BuI",
        "outputId": "714e2bc7-7a70-4163-c84e-3e804a33a555"
      },
      "execution_count": null,
      "outputs": [
        {
          "output_type": "stream",
          "name": "stdout",
          "text": [
            "hello caroline\n"
          ]
        }
      ]
    },
    {
      "cell_type": "code",
      "source": [
        "def fun():\n",
        "  return(x)\n",
        "print(x)"
      ],
      "metadata": {
        "colab": {
          "base_uri": "https://localhost:8080/"
        },
        "id": "UYdGeT2n_fVi",
        "outputId": "bc0c87f2-00cc-41c6-fe40-58d721e6c61e"
      },
      "execution_count": null,
      "outputs": [
        {
          "output_type": "stream",
          "name": "stdout",
          "text": [
            "vivek\n"
          ]
        }
      ]
    },
    {
      "cell_type": "code",
      "source": [
        "#what is a global variable?\n",
        "#a variable that we create inside the function is know as local variabe"
      ],
      "metadata": {
        "id": "6p7fczuS_4JH"
      },
      "execution_count": null,
      "outputs": []
    },
    {
      "cell_type": "markdown",
      "source": [
        "#MAP()\n",
        "\n",
        "#what maps does is?\n",
        "#it uses a function on iterables.\n",
        "#it takes a function and run it over the iterables\n",
        "#what is iterables?\n",
        "#NOTE :- functions are the 1st class objects which means one function can act argument for   \n",
        "#syntax:- map = (function,iterable)"
      ],
      "metadata": {
        "id": "wq4pRDn4B49D"
      }
    },
    {
      "cell_type": "code",
      "source": [
        "bike = ['ninja','himalayan','gt']\n",
        "#find the length of each item\n",
        "len_bike = map(len,bike)\n",
        "print(list(len_bike))"
      ],
      "metadata": {
        "colab": {
          "base_uri": "https://localhost:8080/"
        },
        "id": "u4zFPtO_DL3O",
        "outputId": "1f8feeb0-0704-420e-d9a1-1aa9acf4443f"
      },
      "execution_count": null,
      "outputs": [
        {
          "output_type": "stream",
          "name": "stdout",
          "text": [
            "[5, 9, 2]\n"
          ]
        }
      ]
    },
    {
      "cell_type": "code",
      "source": [
        "from re import X\n",
        "#using map funcion\n",
        "bike = [\"ninja\",\"himalayan\",\"gt\"]\n",
        "y = list(map(len,bike))\n",
        "\n",
        "print(y)\n"
      ],
      "metadata": {
        "colab": {
          "base_uri": "https://localhost:8080/"
        },
        "id": "je31NV2_D2JD",
        "outputId": "38849f9f-f525-4ccc-e694-2e887bc51c65"
      },
      "execution_count": null,
      "outputs": [
        {
          "output_type": "stream",
          "name": "stdout",
          "text": [
            "[['n', 'i', 'n', 'j', 'a'], ['h', 'i', 'm', 'a', 'l', 'a', 'y', 'a', 'n'], ['g', 't']]\n"
          ]
        }
      ]
    },
    {
      "cell_type": "code",
      "source": [
        "bike = ['ninja','himalayan','gt']\n",
        "len =list[map(len,bike)]\n",
        "\n",
        "print(len)"
      ],
      "metadata": {
        "id": "JCB6IKI6En3p"
      },
      "execution_count": null,
      "outputs": []
    },
    {
      "cell_type": "code",
      "source": [
        "def fun(x):\n",
        "  return"
      ],
      "metadata": {
        "id": "mkYMJyNBF8qw"
      },
      "execution_count": null,
      "outputs": []
    },
    {
      "cell_type": "code",
      "source": [
        "#write a program to print factorial of 5?\n",
        "b"
      ],
      "metadata": {
        "id": "5AGg3LcQMLIq"
      },
      "execution_count": null,
      "outputs": []
    },
    {
      "cell_type": "code",
      "source": [
        "10-06-24"
      ],
      "metadata": {
        "id": "QYJaMZdHzylo"
      },
      "execution_count": null,
      "outputs": []
    },
    {
      "cell_type": "markdown",
      "source": [
        "#filter function"
      ],
      "metadata": {
        "id": "7bZXhpInlEOV"
      }
    },
    {
      "cell_type": "code",
      "source": [
        "#filter(function,iterables)\n",
        "age = [12,15,16,18,45,21,18,17,56,23,35,15,8,10]\n",
        "#print age of adults ina new list.\n",
        "#create a function to check age of adults from the above list\n",
        "def adult(x):\n",
        "  if x >= 18:\n",
        "    return True\n",
        "  else:\n",
        "    return False\n",
        "#print(adult(18))\n",
        "\n",
        "#run this function in above list \"age\"\n",
        "a = list(map(adult,age))\n",
        "print(a)\n",
        "\n",
        "f1 = list(filter(adult,age))\n",
        "print(f1)\n"
      ],
      "metadata": {
        "id": "Tl4Ia0ZxlCw_"
      },
      "execution_count": null,
      "outputs": []
    },
    {
      "cell_type": "code",
      "source": [
        "#create a function to check age of adults from the above list\n",
        "f1 = list(filter(adult,age))\n",
        "print(f1)"
      ],
      "metadata": {
        "id": "FgwbjXIqz585"
      },
      "execution_count": null,
      "outputs": []
    },
    {
      "cell_type": "code",
      "source": [
        "\"\"\"note:- filter basically filters all your orginal collections that returns true or false,\n",
        " any value that comes out to be true it will be stored as a list of items\"\"\"\n",
        "\n",
        "def adult(x):\n",
        "  if x >= 18:\n",
        "    return True\n",
        "#print(adult(18))\n",
        "\n",
        "f1 = list(filter(adult,age))\n",
        "print(f1)"
      ],
      "metadata": {
        "id": "n3qb_hj4z67a"
      },
      "execution_count": null,
      "outputs": []
    },
    {
      "cell_type": "code",
      "source": [
        "def adult(x):\n",
        "    return x >= 18\n",
        "#print(adult(18))\n",
        "\n",
        "f1 = list(filter(adult,age))\n",
        "print(f1)"
      ],
      "metadata": {
        "id": "Py5O7mxWz_mr"
      },
      "execution_count": null,
      "outputs": []
    },
    {
      "cell_type": "code",
      "source": [
        "age = [12,15,16,18,45,21,18,17,56,23,35,15,8,10]\n",
        "f2 = list(filter(lambda a: a >= 18, age))\n",
        "print(f2)"
      ],
      "metadata": {
        "id": "xaSky0G90Dkd"
      },
      "execution_count": null,
      "outputs": []
    },
    {
      "cell_type": "code",
      "source": [
        "#print the age between 18 t0 30\n",
        "f3 = list(filter(lambda a:  18 <= a <= 30, age))\n",
        "print(f3)"
      ],
      "metadata": {
        "id": "0C_E3T1I0H_Q"
      },
      "execution_count": null,
      "outputs": []
    },
    {
      "cell_type": "code",
      "source": [
        "f4 = list(filter(lambda a: a >= 18 and a <= 30, age))\n",
        "print(f3)"
      ],
      "metadata": {
        "id": "_ef8FQpV0OsF"
      },
      "execution_count": null,
      "outputs": []
    },
    {
      "cell_type": "code",
      "source": [
        "age = [12,15,16,18,45,21,18,17,56,23,35,15,8,10]\n",
        "#sort the above list?\n",
        "age.sort()\n",
        "print(age)"
      ],
      "metadata": {
        "colab": {
          "base_uri": "https://localhost:8080/"
        },
        "id": "xR29ddcx0OUg",
        "outputId": "827286c4-8369-4889-ba3f-3b9c4fa0b3f9"
      },
      "execution_count": null,
      "outputs": [
        {
          "output_type": "stream",
          "name": "stdout",
          "text": [
            "[8, 10, 12, 15, 15, 16, 17, 18, 18, 21, 23, 35, 45, 56]\n"
          ]
        }
      ]
    },
    {
      "cell_type": "code",
      "source": [
        "#print in descending order?\n",
        "age = [12,15,16,18,45,21,18,17,56,23,35,15,8,10]\n",
        "#sort the above list?\n",
        "age.sort(reverse = True)\n",
        "print(age)"
      ],
      "metadata": {
        "id": "B4Jo_3Qk0VhV"
      },
      "execution_count": null,
      "outputs": []
    },
    {
      "cell_type": "markdown",
      "source": [
        "#CLASSES AND OBJECTS"
      ],
      "metadata": {
        "id": "X_AgXrVI0fFd"
      }
    },
    {
      "cell_type": "code",
      "source": [
        "x = \"hello\"\n",
        "print(dir(x))"
      ],
      "metadata": {
        "id": "EQgBwkhV0cS0"
      },
      "execution_count": null,
      "outputs": []
    },
    {
      "cell_type": "code",
      "source": [
        "#Note: In python we can create our own clases and objctes\n",
        "#why we create classes and objects?\n",
        "#how can you create a class?\n",
        "# use keyword = clas\n",
        "class customer:\n",
        "  pass\n",
        "\n",
        "#create an object\n",
        "\n",
        "c1 = customer()\n",
        "print(c1)\n",
        "print(type(c1))\n",
        "\n",
        "#Main --> means basically  from wich file the class is coming from.\n"
      ],
      "metadata": {
        "id": "W-eztQni0v1Z"
      },
      "execution_count": null,
      "outputs": []
    },
    {
      "cell_type": "code",
      "source": [
        "#EVERY Attribute has 2 catogeries\n",
        "#1. class attribute\n",
        "#2. object attribute"
      ],
      "metadata": {
        "id": "VJK3i5p000XM"
      },
      "execution_count": null,
      "outputs": []
    },
    {
      "cell_type": "code",
      "source": [
        "#what is class attribute?\n",
        "#means come from classes attributes and applicable to any object.\n",
        "#what is object attribute?\n",
        "#means unique object/ information that can be applicable to particular object only\n",
        "# x = \"hello decide x is a string\""
      ],
      "metadata": {
        "id": "hm9xQd_R00D-"
      },
      "execution_count": null,
      "outputs": []
    },
    {
      "cell_type": "code",
      "source": [
        "11-06-24"
      ],
      "metadata": {
        "id": "NCzlNv4Z035N"
      },
      "execution_count": null,
      "outputs": []
    },
    {
      "cell_type": "code",
      "source": [
        "#creating a class\n",
        "class customer:\n",
        "  #create class attributes\n",
        "  Bank_name = \"SBI\"\n",
        "  Branch = \"ameerpet\"\n",
        "  state = \"Telangana\"\n",
        "  city = \"hyderabad\"\n",
        "  IFSC = \"SBIN0000001\"\n",
        "  #create an method\n",
        "  def welcome(self):\n",
        "    print(\"hello and welcome to SBI\")\n",
        "#create object\n",
        "c1 = customer()\n",
        "c2 = customer()\n",
        "c3 = customer()\n",
        "# c1.welcome()\n",
        "# c2.welcome()\n",
        "# print(c1.Bank_name)\n",
        "# print(c2.Bank_name)\n",
        "print(c3.Bank_name, c3.Branch,c3.IFSC,c3.state, sep='\\n')\n",
        "c3.welcome()"
      ],
      "metadata": {
        "id": "MW-io_Pe1Bes"
      },
      "execution_count": null,
      "outputs": []
    },
    {
      "cell_type": "code",
      "source": [
        "x = \"hello\"\n",
        "\n",
        "print(x.upper())\n",
        "#methods inside a class nothing but functions\n",
        "#to crteate method create a function inside a class\n"
      ],
      "metadata": {
        "id": "7sUcMhSJ1GHg"
      },
      "execution_count": null,
      "outputs": []
    },
    {
      "cell_type": "code",
      "source": [
        "#what is self?\n",
        "#it is an extra parameterin methods when we create the methods we need provide this \"self\" keyword\n",
        "#selft act as a pointer / reference to acces the object"
      ],
      "metadata": {
        "id": "Hfo2tY8X1Ks5"
      },
      "execution_count": null,
      "outputs": []
    },
    {
      "cell_type": "code",
      "source": [
        "c1.welcome()   #-->customer.welcome(c1)\n",
        "#class.method(object)"
      ],
      "metadata": {
        "id": "KkatykBn1Qpd"
      },
      "execution_count": null,
      "outputs": []
    },
    {
      "cell_type": "code",
      "source": [
        "x = \"hello\"\n",
        "print(x.upper())\n",
        "print(str.upper(x))"
      ],
      "metadata": {
        "id": "xN03jaB31BUZ"
      },
      "execution_count": null,
      "outputs": []
    },
    {
      "cell_type": "code",
      "source": [
        "#Take object name that is where actually varible is passed\n",
        "#creating a class\n",
        "class customer:\n",
        "  #create class attributes\n",
        "  Bank_name = \"SBI\"\n",
        "  Branch = \"ameerpet\"\n",
        "  state = \"Telangana\"\n",
        "  city = \"hyderabad\"\n",
        "  IFSC = \"SBIN0000001\"\n",
        "  #create an method\n",
        "  def welcome(self):\n",
        "    print(f\"hello and welcome to {c1.Bank_name}\")  #Take object name that is where actually varible is passed\n",
        "#create object\n",
        "c1 = customer()\n",
        "c2 = customer()\n",
        "c3 = customer()\n",
        "# c1.welcome()\n",
        "# c2.welcome()\n",
        "# print(c1.Bank_name)\n",
        "# print(c2.Bank_name)\n",
        "# print(c3.Bank_name, c3.Branch,c3.IFSC,c3.state, sep='\\n')\n",
        "c1.welcome()\n",
        "#Note:- so here you need to understand  i couldn't pass \" attribute\" directly i have to pass it with \"{self.attribute}\"\""
      ],
      "metadata": {
        "id": "qErQzgNM1Wh5"
      },
      "execution_count": null,
      "outputs": []
    },
    {
      "cell_type": "code",
      "source": [
        "#Object Attributes:- unique properties\n",
        "#How do i mention this unique properties (or)\n",
        "#how do i mention this object unique peoperties\n"
      ],
      "metadata": {
        "id": "cP0SLLzj1aiu"
      },
      "execution_count": null,
      "outputs": []
    },
    {
      "cell_type": "code",
      "source": [
        "class customer():\n",
        "#def __init__(self)\n",
        "  pass\n",
        "#create an object\n",
        "c1 = customer()\n",
        "#Note:- even we dont write anything in brackets theirs a function which runs in the back ground\n",
        "#special function:- a function which starts with __(double underscore) and ends with __\n",
        "#when you create an object by default it runs with __init__ initialisation method"
      ],
      "metadata": {
        "id": "sU_Ll5ht1fxg"
      },
      "execution_count": null,
      "outputs": []
    },
    {
      "cell_type": "code",
      "source": [
        "class customer:\n",
        "  def __init__(self):\n",
        "    print(\"This method runs\")\n",
        "#create an object\n",
        "c1 = customer()\n"
      ],
      "metadata": {
        "id": "OonP3ZDC1hdC"
      },
      "execution_count": null,
      "outputs": []
    },
    {
      "cell_type": "code",
      "source": [
        "#Another way to prove calling an object\n",
        "class customer:\n",
        "  def __init__(self,name,age,initial):\n",
        "    print(f'hello,{name}! you have started your account with $ {initial}')\n",
        "\n",
        "#create an object\n",
        "c1 = customer('python',33,15000)\n"
      ],
      "metadata": {
        "id": "vYraFb2o1hIm"
      },
      "execution_count": null,
      "outputs": []
    },
    {
      "cell_type": "code",
      "source": [
        "#how to access the object attributes\n",
        "#A) \"object.attribute name\"\n",
        "class customer:\n",
        "  #create class attributes\n",
        "  Bank_name = \"SBI\"\n",
        "  Branch = \"ameerpet\"\n",
        "  state = \"Telangana\"\n",
        "  city = \"hyderabad\"\n",
        "  IFSC = \"SBIN0000001\"\n",
        "  #create methods\n",
        "  def __init__(self,name,age,initial):\n",
        "    self.name = name\n",
        "    self.age = age\n",
        "    self.initial = initial\n",
        "    self.welcome()      #use welcome method inside the object attribute\n",
        "\n",
        "  def welcome(self):\n",
        "    print(f'hello {self.name} and welcome to {self.Bank_name},{self.city}')\n",
        "    print(f\"updated balance: $ {self.initial}\")\n",
        "  def check_balance(self):\n",
        "    print(f'your current balance is {self.initial}')\n",
        "  def deposit(self, amount):\n",
        "    self.initial += amount\n",
        "    print(\"deposit complted\")\n",
        "    print(f\"updated balance: $ {self.initial}\")\n",
        "  def withdraw(self, amount):\n",
        "    if amount <= self.initial:\n",
        "      self.initial -= amount\n",
        "      print(\" Transaction complted\")\n",
        "      print(f\"updated balance: $ {self.initial}\")\n",
        "    else:\n",
        "      print(f\"insufficint balance\")\n",
        "      self.check_balance()\n",
        "#create an object and object attributes\n",
        "c1 = customer('ram',33,15000)\n",
        "#ram deposit the amount of 6k\n",
        "# c1.deposit(6000)\n",
        "#withraw 10k from his account\n",
        "# c1.withdraw(2000)\n",
        "#check the balance\n",
        "# c1.check_balance()\n",
        "#withdraw 25k\n",
        "c1.withdraw(5000)\n"
      ],
      "metadata": {
        "id": "oMVLumUq1g4-"
      },
      "execution_count": null,
      "outputs": []
    },
    {
      "cell_type": "code",
      "source": [],
      "metadata": {
        "id": "59MfCLQC1sAu"
      },
      "execution_count": null,
      "outputs": []
    },
    {
      "cell_type": "markdown",
      "source": [
        "12 - 06 - 2024\n"
      ],
      "metadata": {
        "id": "P-UPq3u8sMu1"
      }
    },
    {
      "cell_type": "markdown",
      "source": [
        "#File Handling"
      ],
      "metadata": {
        "id": "gkrX-PinsNfo"
      }
    },
    {
      "cell_type": "code",
      "source": [
        "#what is file handling in python?\n",
        "#Hnadling certain files which is not pyton file\n",
        "#ex:- pdf,excel\n",
        "\n",
        "#to handle the file we are using \"open\" package\n",
        "#open(filename,mode)\n",
        "#how many types of modes in python for file handling?\n",
        "#there are 4 modes---> read,write,append.xclsu"
      ],
      "metadata": {
        "id": "1gigfESYslhK"
      },
      "execution_count": null,
      "outputs": []
    },
    {
      "cell_type": "code",
      "source": [
        "# what is x mode ?\n",
        "# \"x\" mode is used to create a file\n",
        "f = open(\"vivek.txt\",\"x\")\n",
        "f.close()\n",
        "#in the \"x\" mode if the file is already exist then what happens?\n",
        "#it will rise an error"
      ],
      "metadata": {
        "id": "Sqpejrs1u15z",
        "colab": {
          "base_uri": "https://localhost:8080/",
          "height": 211
        },
        "outputId": "0928be38-d864-47d0-a3ab-476f9c4b6dbf"
      },
      "execution_count": null,
      "outputs": [
        {
          "output_type": "error",
          "ename": "FileExistsError",
          "evalue": "[Errno 17] File exists: 'vivek.txt'",
          "traceback": [
            "\u001b[0;31m---------------------------------------------------------------------------\u001b[0m",
            "\u001b[0;31mFileExistsError\u001b[0m                           Traceback (most recent call last)",
            "\u001b[0;32m<ipython-input-4-85eddf2dc56c>\u001b[0m in \u001b[0;36m<cell line: 3>\u001b[0;34m()\u001b[0m\n\u001b[1;32m      1\u001b[0m \u001b[0;31m# what is x mode ?\u001b[0m\u001b[0;34m\u001b[0m\u001b[0;34m\u001b[0m\u001b[0m\n\u001b[1;32m      2\u001b[0m \u001b[0;31m# \"x\" mode is used to create a file\u001b[0m\u001b[0;34m\u001b[0m\u001b[0;34m\u001b[0m\u001b[0m\n\u001b[0;32m----> 3\u001b[0;31m \u001b[0mf\u001b[0m \u001b[0;34m=\u001b[0m \u001b[0mopen\u001b[0m\u001b[0;34m(\u001b[0m\u001b[0;34m\"vivek.txt\"\u001b[0m\u001b[0;34m,\u001b[0m\u001b[0;34m\"x\"\u001b[0m\u001b[0;34m)\u001b[0m\u001b[0;34m\u001b[0m\u001b[0;34m\u001b[0m\u001b[0m\n\u001b[0m\u001b[1;32m      4\u001b[0m \u001b[0mf\u001b[0m\u001b[0;34m.\u001b[0m\u001b[0mclose\u001b[0m\u001b[0;34m(\u001b[0m\u001b[0;34m)\u001b[0m\u001b[0;34m\u001b[0m\u001b[0;34m\u001b[0m\u001b[0m\n\u001b[1;32m      5\u001b[0m \u001b[0;31m#in the \"x\" mode if the file is already exist then what happens?\u001b[0m\u001b[0;34m\u001b[0m\u001b[0;34m\u001b[0m\u001b[0m\n",
            "\u001b[0;31mFileExistsError\u001b[0m: [Errno 17] File exists: 'vivek.txt'"
          ]
        }
      ]
    },
    {
      "cell_type": "code",
      "source": [
        "#write mode : write(over write)\n",
        "f =open(\"vivek.txt\",\"w\")\n",
        "f.write(\"\"\"this is  vivek.i am using write mode\"\"\")\n",
        "f.close()\n",
        "#over write"
      ],
      "metadata": {
        "id": "fSxJBwCpv2XU"
      },
      "execution_count": null,
      "outputs": []
    },
    {
      "cell_type": "code",
      "source": [
        "f =open(\"vivek.txt\",\"w\")\n",
        "f.write(\"\"\" I am writing again to over write \"\"\")\n",
        "f.close()"
      ],
      "metadata": {
        "id": "2_jY0FEVxBgm"
      },
      "execution_count": null,
      "outputs": []
    },
    {
      "cell_type": "code",
      "source": [
        "f =open(\"vivek.txt\",\"a\")\n",
        "f.write(\"\"\" I am writing again to over write \"\"\")\n",
        "f.close()"
      ],
      "metadata": {
        "id": "mBxGbqvZzT9Z"
      },
      "execution_count": null,
      "outputs": []
    },
    {
      "cell_type": "code",
      "source": [
        "#a: append (append the data at the end of the file)\n",
        "f =open(\"trail.txt\",\"a\")\n",
        "f.write(\"\"\" I am writing this message again\n",
        "           to append  \"\"\")\n",
        "f.close()"
      ],
      "metadata": {
        "id": "sdDLCT1v11-L"
      },
      "execution_count": null,
      "outputs": []
    },
    {
      "cell_type": "code",
      "source": [
        "# r : read mode\n",
        "#what is the default mode when you open file?\n",
        "#read mode\n",
        "f =open(\"vivek.txt\")\n",
        "print(f.read())\n",
        "f.close()"
      ],
      "metadata": {
        "colab": {
          "base_uri": "https://localhost:8080/"
        },
        "id": "2IojKGyPywHN",
        "outputId": "deecd563-40c3-42d2-d153-5d86ed97d32f"
      },
      "execution_count": null,
      "outputs": [
        {
          "output_type": "stream",
          "name": "stdout",
          "text": [
            " I am writing again to over write  I am writing again to over write \n"
          ]
        }
      ]
    },
    {
      "cell_type": "code",
      "source": [
        "#how to read the xcel file?\n",
        "#to read the excel file in the python we require a package\n",
        "#\"xlrd\" package"
      ],
      "metadata": {
        "id": "zMJ0ObJ9zMTt"
      },
      "execution_count": null,
      "outputs": []
    },
    {
      "cell_type": "code",
      "source": [
        "f =open(\"\\\\/content\\\\VLOOKUP Tricks Practice File.xlsx\")\n",
        "#why we are giving double bacward slash?\n",
        "print(f.read())\n",
        "f.close()\n",
        "#rto read xcel file we need to impact xlrd"
      ],
      "metadata": {
        "id": "KNtOpzsW0V8-"
      },
      "execution_count": null,
      "outputs": []
    },
    {
      "cell_type": "code",
      "source": [
        "import xlrd\n",
        "wb= xlrd.open_workbook(\"/content/VLOOKUP Tricks Practice File.xls\")\n",
        "print(wb)\n",
        "print(type(wb))"
      ],
      "metadata": {
        "colab": {
          "base_uri": "https://localhost:8080/"
        },
        "id": "S11gBmpO1SYu",
        "outputId": "0da521f9-e029-4c49-d04a-b5cd058d7ffa"
      },
      "execution_count": null,
      "outputs": [
        {
          "output_type": "stream",
          "name": "stdout",
          "text": [
            "<xlrd.book.Book object at 0x7baf61a9bca0>\n",
            "<class 'xlrd.book.Book'>\n"
          ]
        }
      ]
    },
    {
      "cell_type": "code",
      "source": [
        "#I want to access the sheet\n",
        "sheet = wb.sheet_by_index(1)\n",
        "print(sheet)\n",
        "#python read every data as an index-->true\n"
      ],
      "metadata": {
        "colab": {
          "base_uri": "https://localhost:8080/"
        },
        "id": "Mr-qIHLQ2mni",
        "outputId": "5be663e4-6d9d-4c34-cac8-d9651d4cb388"
      },
      "execution_count": null,
      "outputs": [
        {
          "output_type": "stream",
          "name": "stdout",
          "text": [
            "Sheet  1:<Sheet1>\n"
          ]
        }
      ]
    },
    {
      "cell_type": "code",
      "source": [
        "#i want to see the how many rows are in the particular sheet by using python\n",
        "print(sheet.nrows)\n",
        "print(sheet.ncols)"
      ],
      "metadata": {
        "colab": {
          "base_uri": "https://localhost:8080/"
        },
        "id": "cvguCRJB29c7",
        "outputId": "fb622c03-0b98-4209-e3ba-a6070061d50d"
      },
      "execution_count": null,
      "outputs": [
        {
          "output_type": "stream",
          "name": "stdout",
          "text": [
            "25\n",
            "6\n"
          ]
        }
      ]
    },
    {
      "cell_type": "code",
      "source": [
        "# i want 1st row in 1st column by using python\n",
        "print(sheet.row(1))\n",
        "print(sheet.col(1))"
      ],
      "metadata": {
        "colab": {
          "base_uri": "https://localhost:8080/"
        },
        "id": "DB9kcrCN3O0j",
        "outputId": "fcccce3f-e07b-4f83-b542-ce7696f28250"
      },
      "execution_count": null,
      "outputs": [
        {
          "output_type": "stream",
          "name": "stdout",
          "text": [
            "[number:12061.0, text:'KUSUMA', number:94555.0, number:81566.0, number:85267.0, empty:'']\n",
            "[text:' Name', text:'KUSUMA', text:'MURTHI', text:'SANKER', text:'PRASAD', text:'GOPI', text:'SANTHI', text:'KISHORE', text:'NAVEEN', text:'MAHESH', text:'RAVI', text:'TEJA', empty:'', empty:'', empty:'', empty:'', empty:'', empty:'', text:'Model', text:'L-070', text:'AP-456', text:'LV-099', text:'NO-332', text:'MI-223', text:'SO-663']\n"
          ]
        }
      ]
    },
    {
      "cell_type": "code",
      "source": [
        "# read the particular column,row\n",
        "print(sheet.cell(1,1))\n",
        "print(sheet.cell_value(1,1))"
      ],
      "metadata": {
        "colab": {
          "base_uri": "https://localhost:8080/"
        },
        "id": "ouCyQppU3xqm",
        "outputId": "8f02fe78-e5e1-40b7-875c-04cb175c3390"
      },
      "execution_count": null,
      "outputs": [
        {
          "output_type": "stream",
          "name": "stdout",
          "text": [
            "text:'KUSUMA'\n",
            "KUSUMA\n"
          ]
        }
      ]
    },
    {
      "cell_type": "code",
      "source": [
        "#how can i read entire rows and entire columns?\n",
        "print(sheet.row_values(1))\n",
        "print(sheet.col_values(1))"
      ],
      "metadata": {
        "colab": {
          "base_uri": "https://localhost:8080/"
        },
        "id": "pHSFd4-84UmZ",
        "outputId": "cf13a3c7-d0dd-4c0f-8675-da9f6255944f"
      },
      "execution_count": null,
      "outputs": [
        {
          "output_type": "stream",
          "name": "stdout",
          "text": [
            "[12061.0, 'KUSUMA', 94555.0, 81566.0, 85267.0, '']\n",
            "[' Name', 'KUSUMA', 'MURTHI', 'SANKER', 'PRASAD', 'GOPI', 'SANTHI', 'KISHORE', 'NAVEEN', 'MAHESH', 'RAVI', 'TEJA', '', '', '', '', '', '', 'Model', 'L-070', 'AP-456', 'LV-099', 'NO-332', 'MI-223', 'SO-663']\n"
          ]
        }
      ]
    },
    {
      "cell_type": "code",
      "source": [
        "#to extract all the data\n",
        "for x in range(sheet.nrows):\n",
        "  print(sheet.row_values(x))"
      ],
      "metadata": {
        "colab": {
          "base_uri": "https://localhost:8080/"
        },
        "id": "_4PR_op25oLS",
        "outputId": "a62b5706-3a98-4be8-a20a-331b4e2c1d47"
      },
      "execution_count": null,
      "outputs": [
        {
          "output_type": "stream",
          "name": "stdout",
          "text": [
            "['Emp Id', ' Name', 2019.0, 2020.0, 2021.0, 'Product']\n",
            "[12061.0, 'KUSUMA', 94555.0, 81566.0, 85267.0, '']\n",
            "[12082.0, 'MURTHI', 93108.0, 46887.0, 87124.0, '']\n",
            "[12058.0, 'SANKER', 86751.0, 88236.0, 59143.0, '']\n",
            "[12063.0, 'PRASAD', 94460.0, 66173.0, 68115.0, '']\n",
            "[12008.0, 'GOPI', 71844.0, 63802.0, 77645.0, '']\n",
            "[12011.0, 'SANTHI', 91727.0, 47053.0, 67301.0, '']\n",
            "[12050.0, 'KISHORE', 62099.0, 88834.0, 88322.0, '']\n",
            "[12039.0, 'NAVEEN', 93698.0, 59200.0, 58397.0, '']\n",
            "[12051.0, 'MAHESH', 48875.0, 84977.0, 56073.0, '']\n",
            "[12053.0, 'RAVI', 87028.0, 75724.0, 64563.0, '']\n",
            "[12076.0, 'TEJA', 87249.0, 51786.0, 50305.0, '']\n",
            "['', '', '', '', '', '']\n",
            "['', '', '', '', '', '']\n",
            "['', '', '', '', '', '']\n",
            "['', '', '', '', '', '']\n",
            "['', '', '', '', '', '']\n",
            "['', '', '', '', '', '']\n",
            "['Item Name', 'Model', 'Rate', '', '', '']\n",
            "['లెనోవా', 'L-070', '', '', '', '']\n",
            "['ఆపిల్', 'AP-456', '', '', '', '']\n",
            "['లావా', 'LV-099', '', '', '', '']\n",
            "['నోకియా', 'NO-332', '', '', '', '']\n",
            "['మైక్రోమేక్స్', 'MI-223', '', '', '', '']\n",
            "['సోనీ', 'SO-663', '', '', '', '']\n"
          ]
        }
      ]
    },
    {
      "cell_type": "code",
      "source": [
        "#append this data to entire list?\n",
        "all_data = [sheet.row_values(x)for x in range(sheet.nrows)]\n",
        "print(all_data)"
      ],
      "metadata": {
        "colab": {
          "base_uri": "https://localhost:8080/"
        },
        "id": "j7ymECfg56UJ",
        "outputId": "dfc778c5-4897-4152-b30f-4a903d68a677"
      },
      "execution_count": null,
      "outputs": [
        {
          "output_type": "stream",
          "name": "stdout",
          "text": [
            "[['Emp Id', ' Name', 2019.0, 2020.0, 2021.0, 'Product'], [12061.0, 'KUSUMA', 94555.0, 81566.0, 85267.0, ''], [12082.0, 'MURTHI', 93108.0, 46887.0, 87124.0, ''], [12058.0, 'SANKER', 86751.0, 88236.0, 59143.0, ''], [12063.0, 'PRASAD', 94460.0, 66173.0, 68115.0, ''], [12008.0, 'GOPI', 71844.0, 63802.0, 77645.0, ''], [12011.0, 'SANTHI', 91727.0, 47053.0, 67301.0, ''], [12050.0, 'KISHORE', 62099.0, 88834.0, 88322.0, ''], [12039.0, 'NAVEEN', 93698.0, 59200.0, 58397.0, ''], [12051.0, 'MAHESH', 48875.0, 84977.0, 56073.0, ''], [12053.0, 'RAVI', 87028.0, 75724.0, 64563.0, ''], [12076.0, 'TEJA', 87249.0, 51786.0, 50305.0, ''], ['', '', '', '', '', ''], ['', '', '', '', '', ''], ['', '', '', '', '', ''], ['', '', '', '', '', ''], ['', '', '', '', '', ''], ['', '', '', '', '', ''], ['Item Name', 'Model', 'Rate', '', '', ''], ['లెనోవా', 'L-070', '', '', '', ''], ['ఆపిల్', 'AP-456', '', '', '', ''], ['లావా', 'LV-099', '', '', '', ''], ['నోకియా', 'NO-332', '', '', '', ''], ['మైక్రోమేక్స్', 'MI-223', '', '', '', ''], ['సోనీ', 'SO-663', '', '', '', '']]\n"
          ]
        }
      ]
    },
    {
      "cell_type": "markdown",
      "source": [
        "13 - 06 - 24"
      ],
      "metadata": {
        "id": "MAgEh9Tu0TlS"
      }
    },
    {
      "cell_type": "markdown",
      "source": [
        "#Iterators"
      ],
      "metadata": {
        "id": "0k6jcKIyzxWZ"
      }
    },
    {
      "cell_type": "code",
      "source": [
        "#what will iterators do?\n",
        "#it breaks the large piece of data in to tiny chunks.\n",
        "#create a list that has number fro 0 to infinity?\n",
        "\n",
        "a = ['apple','banana','mango']\n",
        "for x in a:\n",
        "  print(x)\n",
        "\n",
        "#x is created due to \"iterator protocols\"\n",
        "#we are having 2 iterator protocol methods\n",
        "\"\"\" 1. __iter__()\n",
        "    2. __next__()\"\"\""
      ],
      "metadata": {
        "id": "y6Qntm5y2vsu"
      },
      "execution_count": null,
      "outputs": []
    },
    {
      "cell_type": "code",
      "source": [
        "a = ['apple','banana','mango']\n",
        "x = iter(a)\n",
        "print(x)\n",
        "print(next(x))\n",
        "print(next(x))\n",
        "print(next(x))\n",
        "print(next(x))\n"
      ],
      "metadata": {
        "id": "Zi9eY_qJ21Ws"
      },
      "execution_count": null,
      "outputs": []
    },
    {
      "cell_type": "code",
      "source": [
        "class Number:\n",
        "  def __iter__(self):\n",
        "    self.initial = 0\n",
        "    return self\n",
        "  def __next__(self):\n",
        "    if self.initial <= 5:\n",
        "         x = self.initial\n",
        "         self.initial += 1\n",
        "         return x\n",
        "    else:\n",
        "         StopIteration(\"stop r u stupid\")\n",
        "n = Number()\n",
        "x = iter(n)\n",
        "print(next(x))\n",
        "print(next(x))\n",
        "print(next(x))\n",
        "print(next(x))\n",
        "print(next(x))\n",
        "print(next(x))\n",
        "print(next(x))\n",
        "\n",
        "\n",
        "# for x in n:\n",
        "#   print(x)"
      ],
      "metadata": {
        "id": "rX9tIWj227UK"
      },
      "execution_count": null,
      "outputs": []
    },
    {
      "cell_type": "code",
      "source": [
        "a = [1,2,3,4]\n",
        "for x in a:\n",
        "  print(x)"
      ],
      "metadata": {
        "id": "e5-gIYp6z8Gq",
        "colab": {
          "base_uri": "https://localhost:8080/"
        },
        "outputId": "9f939ae6-04c0-435d-9c4e-baa2ec4b8c80"
      },
      "execution_count": null,
      "outputs": [
        {
          "output_type": "stream",
          "name": "stdout",
          "text": [
            "1\n",
            "2\n",
            "3\n",
            "4\n"
          ]
        }
      ]
    },
    {
      "cell_type": "code",
      "source": [
        "#x is created due to \"iterator protocols\"\n",
        "#we are having 2 iterator protocol methods\n",
        "\"\"\" 1. __iter__()\n",
        "    2. __next__()\"\"\""
      ],
      "metadata": {
        "colab": {
          "base_uri": "https://localhost:8080/",
          "height": 36
        },
        "id": "O5mpr6rX26OY",
        "outputId": "28582bba-029a-4ebe-9cab-5881fb13a340"
      },
      "execution_count": null,
      "outputs": [
        {
          "output_type": "execute_result",
          "data": {
            "text/plain": [
              "' 1. __iter__()\\n    2. __next__()'"
            ],
            "application/vnd.google.colaboratory.intrinsic+json": {
              "type": "string"
            }
          },
          "metadata": {},
          "execution_count": 2
        }
      ]
    },
    {
      "cell_type": "code",
      "source": [
        "a = [1,2,3,4]\n",
        "x = iter(a)\n",
        "print(x)\n",
        "print(next(x))\n",
        "print(next(x))\n",
        "print(next(x))\n",
        "print(next(x))"
      ],
      "metadata": {
        "colab": {
          "base_uri": "https://localhost:8080/"
        },
        "id": "rsHxEE2J3g1q",
        "outputId": "7c256e72-932f-4846-d993-e534a7439ed9"
      },
      "execution_count": null,
      "outputs": [
        {
          "output_type": "stream",
          "name": "stdout",
          "text": [
            "<list_iterator object at 0x7e1bf2ead1b0>\n",
            "1\n",
            "2\n",
            "3\n",
            "4\n"
          ]
        }
      ]
    },
    {
      "cell_type": "code",
      "source": [
        "class Number:\n",
        "  def __iter__(self):\n",
        "    self.intial = 0\n",
        "    return self\n",
        "  def __next__(self):\n",
        "    x = self.intial\n",
        "    self.intial += 1\n",
        "    return x\n",
        "n = Number()\n",
        "x = iter(n)\n",
        "print(next(x))\n",
        "print(next(x))\n",
        "\n"
      ],
      "metadata": {
        "colab": {
          "base_uri": "https://localhost:8080/"
        },
        "id": "KbCxZ1cK4KgN",
        "outputId": "0ac67331-5f31-4e1f-f6b0-c6b33c973a29"
      },
      "execution_count": null,
      "outputs": [
        {
          "output_type": "stream",
          "name": "stdout",
          "text": [
            "0\n",
            "1\n"
          ]
        }
      ]
    },
    {
      "cell_type": "code",
      "source": [
        "if self.initial <=5:\n",
        "  x = self.initial\n",
        "  self"
      ],
      "metadata": {
        "id": "jDxI29db4Zlc"
      },
      "execution_count": null,
      "outputs": []
    }
  ]
}